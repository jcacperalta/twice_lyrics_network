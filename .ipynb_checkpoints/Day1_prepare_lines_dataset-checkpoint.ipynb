{
 "cells": [
  {
   "cell_type": "markdown",
   "metadata": {},
   "source": [
    "# Day 1: Preparing the sitcom lines dataset"
   ]
  },
  {
   "cell_type": "code",
   "execution_count": 1,
   "metadata": {
    "ExecuteTime": {
     "end_time": "2021-03-18T15:28:05.089251Z",
     "start_time": "2021-03-18T15:27:59.300697Z"
    }
   },
   "outputs": [],
   "source": [
    "import numpy as np\n",
    "import pandas as pd\n",
    "\n",
    "import matplotlib.pyplot as plt\n",
    "%matplotlib inline"
   ]
  },
  {
   "cell_type": "markdown",
   "metadata": {},
   "source": [
    "### Reading the dataset \n",
    "Read the csv file"
   ]
  },
  {
   "cell_type": "code",
   "execution_count": 2,
   "metadata": {
    "ExecuteTime": {
     "end_time": "2021-03-18T15:28:05.330286Z",
     "start_time": "2021-03-18T15:28:05.091397Z"
    }
   },
   "outputs": [
    {
     "data": {
      "text/html": [
       "<div>\n",
       "<style scoped>\n",
       "    .dataframe tbody tr th:only-of-type {\n",
       "        vertical-align: middle;\n",
       "    }\n",
       "\n",
       "    .dataframe tbody tr th {\n",
       "        vertical-align: top;\n",
       "    }\n",
       "\n",
       "    .dataframe thead th {\n",
       "        text-align: right;\n",
       "    }\n",
       "</style>\n",
       "<table border=\"1\" class=\"dataframe\">\n",
       "  <thead>\n",
       "    <tr style=\"text-align: right;\">\n",
       "      <th></th>\n",
       "      <th>id</th>\n",
       "      <th>season</th>\n",
       "      <th>episode</th>\n",
       "      <th>scene</th>\n",
       "      <th>speaker</th>\n",
       "      <th>line_text</th>\n",
       "    </tr>\n",
       "  </thead>\n",
       "  <tbody>\n",
       "    <tr>\n",
       "      <th>0</th>\n",
       "      <td>1</td>\n",
       "      <td>1</td>\n",
       "      <td>1</td>\n",
       "      <td>1</td>\n",
       "      <td>Monica Geller</td>\n",
       "      <td>There's nothing to tell! He's just some guy I ...</td>\n",
       "    </tr>\n",
       "    <tr>\n",
       "      <th>1</th>\n",
       "      <td>2</td>\n",
       "      <td>1</td>\n",
       "      <td>1</td>\n",
       "      <td>1</td>\n",
       "      <td>Joey Tribbiani</td>\n",
       "      <td>C'mon, you're going out with the guy! There's ...</td>\n",
       "    </tr>\n",
       "    <tr>\n",
       "      <th>2</th>\n",
       "      <td>3</td>\n",
       "      <td>1</td>\n",
       "      <td>1</td>\n",
       "      <td>1</td>\n",
       "      <td>Chandler Bing</td>\n",
       "      <td>All right Joey, be nice. So does he have a hum...</td>\n",
       "    </tr>\n",
       "    <tr>\n",
       "      <th>3</th>\n",
       "      <td>4</td>\n",
       "      <td>1</td>\n",
       "      <td>1</td>\n",
       "      <td>1</td>\n",
       "      <td>Phoebe Buffay</td>\n",
       "      <td>Wait, does he eat chalk?</td>\n",
       "    </tr>\n",
       "    <tr>\n",
       "      <th>4</th>\n",
       "      <td>5</td>\n",
       "      <td>1</td>\n",
       "      <td>1</td>\n",
       "      <td>1</td>\n",
       "      <td>Phoebe Buffay</td>\n",
       "      <td>Just, 'cause, I don't want her to go through w...</td>\n",
       "    </tr>\n",
       "  </tbody>\n",
       "</table>\n",
       "</div>"
      ],
      "text/plain": [
       "   id  season  episode  scene         speaker  \\\n",
       "0   1       1        1      1   Monica Geller   \n",
       "1   2       1        1      1  Joey Tribbiani   \n",
       "2   3       1        1      1   Chandler Bing   \n",
       "3   4       1        1      1   Phoebe Buffay   \n",
       "4   5       1        1      1   Phoebe Buffay   \n",
       "\n",
       "                                           line_text  \n",
       "0  There's nothing to tell! He's just some guy I ...  \n",
       "1  C'mon, you're going out with the guy! There's ...  \n",
       "2  All right Joey, be nice. So does he have a hum...  \n",
       "3                           Wait, does he eat chalk?  \n",
       "4  Just, 'cause, I don't want her to go through w...  "
      ]
     },
     "execution_count": 2,
     "metadata": {},
     "output_type": "execute_result"
    }
   ],
   "source": [
    "df = pd.read_csv(\"data/friends_lines.csv\")\n",
    "df.head()"
   ]
  },
  {
   "cell_type": "markdown",
   "metadata": {},
   "source": [
    "### Do Data Checks!\n",
    "It is prudent to do the following on a DataFrame before any analysis is made\n",
    "1. Check shape\n",
    "2. Check data types of columns\n",
    "3. Check null values in columns and rows\n",
    "5. Check for duplicates\n",
    "6. Check if you have the expected values for a certain column"
   ]
  },
  {
   "cell_type": "code",
   "execution_count": 3,
   "metadata": {
    "ExecuteTime": {
     "end_time": "2021-03-18T15:28:05.343806Z",
     "start_time": "2021-03-18T15:28:05.334130Z"
    }
   },
   "outputs": [
    {
     "data": {
      "text/plain": [
       "(61310, 6)"
      ]
     },
     "execution_count": 3,
     "metadata": {},
     "output_type": "execute_result"
    }
   ],
   "source": [
    "#Check the shape of the dataframe\n",
    "df.shape "
   ]
  },
  {
   "cell_type": "code",
   "execution_count": 4,
   "metadata": {
    "ExecuteTime": {
     "end_time": "2021-03-18T15:28:05.358789Z",
     "start_time": "2021-03-18T15:28:05.347238Z"
    }
   },
   "outputs": [
    {
     "data": {
      "text/plain": [
       "id            int64\n",
       "season        int64\n",
       "episode       int64\n",
       "scene         int64\n",
       "speaker      object\n",
       "line_text    object\n",
       "dtype: object"
      ]
     },
     "execution_count": 4,
     "metadata": {},
     "output_type": "execute_result"
    }
   ],
   "source": [
    "#check data types of columns\n",
    "df.dtypes"
   ]
  },
  {
   "cell_type": "code",
   "execution_count": 5,
   "metadata": {
    "ExecuteTime": {
     "end_time": "2021-03-18T15:28:05.407600Z",
     "start_time": "2021-03-18T15:28:05.361262Z"
    }
   },
   "outputs": [
    {
     "name": "stdout",
     "output_type": "stream",
     "text": [
      "<class 'pandas.core.frame.DataFrame'>\n",
      "RangeIndex: 61310 entries, 0 to 61309\n",
      "Data columns (total 6 columns):\n",
      " #   Column     Non-Null Count  Dtype \n",
      "---  ------     --------------  ----- \n",
      " 0   id         61310 non-null  int64 \n",
      " 1   season     61310 non-null  int64 \n",
      " 2   episode    61310 non-null  int64 \n",
      " 3   scene      61310 non-null  int64 \n",
      " 4   speaker    61310 non-null  object\n",
      " 5   line_text  61310 non-null  object\n",
      "dtypes: int64(4), object(2)\n",
      "memory usage: 2.8+ MB\n"
     ]
    }
   ],
   "source": [
    "#Check null values in the columns\n",
    "df.info()"
   ]
  },
  {
   "cell_type": "code",
   "execution_count": 6,
   "metadata": {
    "ExecuteTime": {
     "end_time": "2021-03-18T15:28:05.498930Z",
     "start_time": "2021-03-18T15:28:05.410462Z"
    }
   },
   "outputs": [
    {
     "data": {
      "text/plain": [
       "0"
      ]
     },
     "execution_count": 6,
     "metadata": {},
     "output_type": "execute_result"
    }
   ],
   "source": [
    "#Check for duplicates\n",
    "sum(df.duplicated())"
   ]
  },
  {
   "cell_type": "code",
   "execution_count": 7,
   "metadata": {
    "ExecuteTime": {
     "end_time": "2021-03-18T15:28:05.511881Z",
     "start_time": "2021-03-18T15:28:05.501767Z"
    }
   },
   "outputs": [
    {
     "data": {
      "text/plain": [
       "array([ 1,  2,  3,  4,  5,  6,  7,  8,  9, 10])"
      ]
     },
     "execution_count": 7,
     "metadata": {},
     "output_type": "execute_result"
    }
   ],
   "source": [
    "#how many seasons are there in the show\n",
    "df['season'].unique()"
   ]
  },
  {
   "cell_type": "code",
   "execution_count": 8,
   "metadata": {
    "ExecuteTime": {
     "end_time": "2021-03-18T15:28:05.545293Z",
     "start_time": "2021-03-18T15:28:05.516462Z"
    }
   },
   "outputs": [
    {
     "data": {
      "text/plain": [
       "700"
      ]
     },
     "execution_count": 8,
     "metadata": {},
     "output_type": "execute_result"
    }
   ],
   "source": [
    "#how many characters are in the show?\n",
    "len(df['speaker'].unique())"
   ]
  },
  {
   "cell_type": "code",
   "execution_count": 9,
   "metadata": {
    "ExecuteTime": {
     "end_time": "2021-03-18T15:28:05.574365Z",
     "start_time": "2021-03-18T15:28:05.556461Z"
    }
   },
   "outputs": [
    {
     "data": {
      "text/plain": [
       "array(['Monica Geller', 'Joey Tribbiani', 'Chandler Bing',\n",
       "       'Phoebe Buffay', '#ALL#', 'Ross Geller', 'Rachel Green',\n",
       "       'Waitress', 'Paul the Wine Guy', 'Priest On Tv', 'Franny',\n",
       "       'Customer', 'Marsha', 'Carol Willick', 'Judy Geller',\n",
       "       'Susan Bunch', 'Barry Farber', 'Robbie', 'Bernice', 'Dr. Oberman',\n",
       "       'Paula', 'Alan', 'The Guys', 'Lizzy', 'Guys', 'Leslie', 'Kiki',\n",
       "       'Joanne', 'Receptionist', 'Pizza Guy', 'Both', 'Kid',\n",
       "       'Angela Delveccio', 'Janice Litman Goralnik', 'Woman', 'Bob',\n",
       "       'Aurora', 'Director', 'Jill Goodacre', 'Mr. Heckles', 'Paolo',\n",
       "       'Shelley', 'Aunt Lillian', 'Nurse Sizemore', 'Andrea', 'Lowell',\n",
       "       'Terry', 'Guy', 'Girl', 'Max', 'David', 'Sandy', 'Bobby Rush',\n",
       "       'Dick Clark', 'Jay Leno', 'Nora Tyler Bing', 'Coma Guy',\n",
       "       \"Phoebe's Assistant\", 'Roger', 'Joey Tribbiani Sr.',\n",
       "       'Ronni Rapalono', 'Gloria Tribbiani', 'Lorraine', 'Kristin',\n",
       "       'Fireman No. 1', 'Fireman No. 2', 'Fireman No. 3', 'Mrs. Tedlock',\n",
       "       'Celia', 'Steve (drug addict)', 'Ursula', 'Teacher', 'Helen',\n",
       "       'Nina Bookbinder', 'Mr. Douglas', 'Jamie', 'Frank Buffay Jr.',\n",
       "       'Soothing Male Voice', 'Dr. Mitchell', 'Dr. Rosen',\n",
       "       'The Whole Party', \"Phoebe's Friends\", 'Aunt Iris', 'Intercom',\n",
       "       'Luisa Gianetti', 'Woman No. 1', 'Woman No. 2', 'Mindy Hunter',\n",
       "       'Danielle', 'Fake Monica', 'Dr. Baldhara', 'Announcement', 'Actor',\n",
       "       'Casting Director No. 1', 'Casting Director No. 2', 'Ethan',\n",
       "       'Gerston', 'Santos', 'Petrie', 'Dr. Franzblau', 'Lydia', 'Janitor',\n",
       "       'Melanie', 'Flight Attendant', 'Man', \"Carl (Rachel's date)\",\n",
       "       'Julie', 'Paulo', 'Annabelle', 'Hombre Man', 'Store Guy',\n",
       "       'Mr. Treeger', 'Buddy Boyles', 'Alison', 'Stranger', 'Duncan',\n",
       "       'Old Woman', 'Jade', 'Waiter', 'Machine', 'Steven Fisher',\n",
       "       'Caroline', 'Doctor', 'Girl 1 On Bus', 'Girl 2 On Bus', 'Girl 1',\n",
       "       'Girl 2', 'Stephanie Schiffer', 'Transit Authority Guy',\n",
       "       'Together', 'Michael', 'Mr. Ratstatter', 'Radio', 'Gunther',\n",
       "       'Gang', 'Grandmother', 'Russ', 'Estelle Leonard', 'Mrs. Wallace',\n",
       "       'Sandra Green', 'Mr. Adelman', 'Minister', 'Rob', 'Erica Ford',\n",
       "       'Dean Lipson', 'Kids', 'Tv Doctor', 'Security Guard', 'Trainer',\n",
       "       \"Director's Assistant\", 'Susie Moss', 'Jean-Claude Van Damme',\n",
       "       'Interviewer', 'Gail', 'Roy', 'Chip Matthews', 'Richard Burke',\n",
       "       'Delivery Guy', 'Friend', \"Joey's Co-Star\", 'Tattoo Artist',\n",
       "       'Producer', 'Eddie Menuek', 'Amber', 'Dr. Drake Ramoray', 'Tilly',\n",
       "       'Writer', 'Dr. Horton', 'Casting Guy', 'Mover', 'Ben Geller',\n",
       "       'Ernie', 'Big Bully', 'Little Bully', 'Mrs. Buffay',\n",
       "       'Leonard Green', \"Girl's Voice\", 'Scott Alexander', 'Ryan',\n",
       "       'Jeannie', 'Wedding Planner', 'Mr. Wineburg', 'Mrs. Wineburg',\n",
       "       'Best Man', 'Jack Geller', \"Woman's Voice\", 'Michelle Burke',\n",
       "       'Sherman Whitfield', 'Malcom', 'Host', 'Mike', 'Jasmine',\n",
       "       'Isabella Rosselini', 'Eric (photographer)', 'Friend No. 1',\n",
       "       'Friend No. 2', 'Her Friends', 'Matress King', 'Student', 'Jester',\n",
       "       'Margha', 'unknown', 'Sarah Tuttle', 'Leader', \"Rachel's Boss\",\n",
       "       'Mr. Kaplan', \"Joey's Sisters\", 'Cookie Tribbiani', 'Sister 1',\n",
       "       \"Joey's Grandmother\", \"Joey's Sister\", 'Mary-Angela',\n",
       "       'Mary-Theresa', 'Mark Robinson', 'Jeannine', 'Julio (poet)',\n",
       "       'Quartet', 'The Bass Barber', 'Bass Singer', 'Clerk',\n",
       "       'Robert Bobby', \"Richard's Date\", 'Singer', 'Ginger', 'Lecturer',\n",
       "       'Commercial', 'Issac', 'Chloe', 'Mischa', 'Sophie', 'Sergei',\n",
       "       'The Girls', 'Alice Knight', 'Hypnosis Tape', 'Peter Becker',\n",
       "       'Secretary', 'Employee', 'The Director', 'Kate Miller',\n",
       "       'Spokeswoman', 'Joanna', 'Lauren', 'Anchorwoman', 'Hold Voice',\n",
       "       'Tommy', 'Cailin', 'Stage Manager', 'Vince', 'Jason', 'Dr. Rhodes',\n",
       "       'Dr. Johnson', \"Pete's Mom\", 'Fireman', 'Guru Saj', 'Billy',\n",
       "       'Robin Williams', 'Robin', 'Doug', 'Hoshi', 'Bonnie', 'Phil',\n",
       "       'Stevens', 'Announcer', 'Referee', 'Tv Announcer', 'Phoebe Abbott',\n",
       "       'Ursula Buffay', 'Tony', 'Peter', 'The Salesman', 'Oven',\n",
       "       'Gym Employee', 'Rick Sanoven', 'Bank Officer', 'Ms. Lambert',\n",
       "       'Mrs. Potter', 'Mr. Simon', 'Kathy', 'Joshua Burgin',\n",
       "       \"Amanda (Ross' date)\", 'Cheryl', 'Mrs. Burkart', 'Casey', 'Voice',\n",
       "       'Nurse', 'Timothy Burke', 'Mr. Posner', 'Mrs. Lynch', 'Allesandro',\n",
       "       'Drew', 'A Waiter', 'The Waiter', 'The Conductor',\n",
       "       'The Woman From Poughkeepsie', 'Kitchen Worker', 'Woman On Train',\n",
       "       'Smart Kid', 'Tour Guide', 'Older Scientist', 'Another Tour Guide',\n",
       "       'Another Scientist', 'Dr. Zane', \"Kathy's Co-Star\",\n",
       "       'Stephen Waltham', 'Emily Waltham', 'The A.D',\n",
       "       'The Cigarette Smoking Guy', 'Charlton Heston',\n",
       "       'The Cigarette Guy', 'Devon', 'Liam', 'Ticket Counter Attendant',\n",
       "       'Mrs. Chatracus', 'The Doctor', 'Ticket Agent', 'Mrs. Burgin',\n",
       "       'Mr. Burgin', 'The Singing Man', 'The Saleslady',\n",
       "       'Sleep Clinic Worker', 'Marjorie', 'The Stripper', 'Dressmaker',\n",
       "       'The Vendor', 'Fergie', 'Housekeeper', 'Andrea Waltham',\n",
       "       'Felicity', 'Drunk Man', 'Passenger', 'Gate Agent', 'Air Hostess',\n",
       "       'Dave', 'Dr. Harad', \"Joey's Doctor\", 'Male Nurse', 'Dan',\n",
       "       'Delivery Room Nurse', 'Stage Director', 'Emeril', 'Pbs Volunteer',\n",
       "       'Gary Collins', 'Hotel Clerk', 'Danny', 'Health Inspector',\n",
       "       'Larry', 'Tom', 'The Housekeeper', 'The Paramedic', 'The Teacher',\n",
       "       'Cynthia', 'Dr. Ledbetter', 'A Female Student', 'The Man',\n",
       "       \"Danny's Sister\", 'Krista', 'Elizabeth Hornswoggle', 'Kara',\n",
       "       'Frank Buffay Sr.', 'The Pastor', 'The Casting Director', 'Katie',\n",
       "       'Steve Cera', 'Party Guests', 'Guest #1', 'Guest #2', 'Guest #3',\n",
       "       'The Smoking Woman', 'Cop', 'Gary', 'The Saleswoman',\n",
       "       \"Gary's Radio\", 'The Old Man', 'The Little Girl', 'Mr. Zelner',\n",
       "       'The Hot Girl', 'Jen', 'Kim', 'Nancy', 'Kyle', 'Raymond',\n",
       "       'Delivery Girl', 'Caitlin', 'Grandma Tribbiani',\n",
       "       'Answering Machine', 'Dr. Miller', 'Stanley', 'The Grip',\n",
       "       'The Husband', 'A Casino Boss', 'A Tourist', 'The Croupier',\n",
       "       'The Flight Attendant', 'Blackjack Dealer', 'The Woman Dealer',\n",
       "       \"Joey's Hand Twin\", 'A Drunken Gambler', 'Drunken Gambler',\n",
       "       'The Lurker', 'The Security Guard', 'The Attendant', 'Attendant',\n",
       "       'Croupler', 'Hitchhiker', 'Stephanie', 'Karin', 'Meg', 'Russell',\n",
       "       'The Potential Roommate', 'The Professor', 'Casting Director #1',\n",
       "       'Casting Director #2', 'Casting Director #3', 'A Crew Member',\n",
       "       'Alex', 'A Student', 'Guy #1', 'Guy #2', 'The Porsche Owner',\n",
       "       'Judge', 'Passerby', 'Janine Lecroix', 'Ralph Lauren', 'Hillary',\n",
       "       'Tall Guy', 'Patron', 'Customers', 'Jill Green', 'A Male Customer',\n",
       "       'The Fan', 'Buffay', 'The Vampire', \"Man's Voice\",\n",
       "       \"Another Man's Voice\", \"Same Man's Voice\", \"Monica's Boyfriend\",\n",
       "       'Guy All The Way In The Back', 'Dr. Wesley', 'Hope', 'Dr. Roger',\n",
       "       'Arthur', 'Jack', \"Joey's Look-A-Like\", \"Carl (Joey's lookalike)\",\n",
       "       'The Instructor', \"Janice's Voice\", 'Burt', 'Elizabeth Stevens',\n",
       "       'Fireman #1', 'Dana Keystone', 'Fireman #2', 'Mel',\n",
       "       'Professor Feesen', 'Sebastian', 'Eldad', 'Patrick',\n",
       "       'The Producer', 'Wayne', 'C.H.E.E.S.E.', 'Paul Stevens',\n",
       "       'The Dry Cleaner', 'The Museum Official', 'Female Clerk',\n",
       "       'Male Jeweler', 'Female Jeweler', 'Mr. Thompson', 'Zoe', 'Sarah',\n",
       "       'First Dorm Guy', 'Second Dorm Guy', \"Matire'D\", 'Lisa',\n",
       "       'Emil Alexander', 'Mr. Bowmont', 'Narrator', 'Mac', 'Hilda',\n",
       "       'Tag Jones', 'Nurse #1', 'Nurse #2', 'Dr. Stryker Remoray',\n",
       "       'Melissa Warburton', 'The Photographer', 'The Cute Guy', 'Whitney',\n",
       "       'Julie Graff', \"Joey's Date\", 'Erin', 'Female Student',\n",
       "       'Male Student', 'The Waitress', 'The Colonel', 'The Librarian',\n",
       "       'The Head Librarian', 'The Knocker', 'The Woman', \"Maitre D'\",\n",
       "       'Male Guest', 'Salesman', 'The Wedding Guest', 'The Second Guest',\n",
       "       'Aunt Millie', 'Smoke Detector', 'A Disembodied Voice',\n",
       "       'The Fireman', 'Supervisor', 'Earl', 'The \"Hey Guy\" Guy', 'Marge',\n",
       "       'The Man In The Sportscar', 'Dina', 'Jessica Lockhart', 'Cecilia',\n",
       "       'The Writer', 'Fredrick', 'Matthew Perry', 'Lisa Kudrow',\n",
       "       'Kristen Leigh', 'Megan Bailey', 'A Woman', 'Lewis', 'Ned Morse',\n",
       "       'Jake', 'The Presenter', 'Jessica Ashley', 'Cassie Geller',\n",
       "       'The Other Woman', 'Waiter In Drag', 'Helena', 'Policeman',\n",
       "       'The Chorus Line', 'The Assistant Director', 'Charles Bing',\n",
       "       'The Rabbi', 'Photographer', 'Bandleader', 'Mona',\n",
       "       'Dennis Phillips', 'Little Girl', 'Second Girl', 'Ashley',\n",
       "       'Fat Girl', 'Gert', 'Front Desk Clerk', 'Woman At The Wedding',\n",
       "       'Man At The Wedding', 'Anxious Wedding Guest', 'Airline Employee',\n",
       "       'Dr. Long', 'Kristen', 'Tim', 'Mr. Franklin',\n",
       "       \"Bob (Chandler's coworker)\", 'Kash', 'Witch', 'Clown', 'Cowgirl',\n",
       "       'Ballerina', 'Eric', 'Boy In The Cape',\n",
       "       \"Mrs. Verhoeven's Daughter\", 'Brenda', 'Stripper', 'Hooker', 'Stu',\n",
       "       'Will Colbert', 'Bobby Corso', 'Trudie Styler', 'Dr. Schiff',\n",
       "       'Locksmith', 'Man On Tv', 'Woman On Tv', 'Don', 'Waiter No. 2',\n",
       "       'Jim', \"Mona's Date\", 'Parker', 'Aunt Lisa', 'Uncle Dan',\n",
       "       'The Interviewer', 'Janine', 'Ray', 'Cashier', 'The Food Critic',\n",
       "       'The Cooking Teacher', 'Katie (saleswoman)', 'The Acting Teacher',\n",
       "       'Julie Coreger', 'Marc Coreger', 'Evil Bitch', 'Sick Bastard',\n",
       "       'Woman Giving Birth', 'Cliff', 'Sid Goralnik', 'Ms. Mckenna',\n",
       "       'Mike Hannigan', 'Mary Ellen', 'Dr. Gettleman', 'Sally', 'Boy',\n",
       "       'Hayley', \"Hayley's Roommate\", 'Ken', 'Claudia', 'Waiters',\n",
       "       'Prospective Nanny', 'Catherine', 'Bitsy Hannigan', 'Theodore',\n",
       "       'Woman At Door', 'Amy Green', 'Jo Lynn', 'Bill', 'Kevin', 'Wendy',\n",
       "       'Others', 'Gavin Mitchell', 'Extra', 'Another Extra', 'Molly',\n",
       "       'Heather', 'Salon Girl', 'Sonia', 'Blonde Girl', 'Michelle',\n",
       "       'Her Friend', 'Steve', 'Waiter #2', 'Intern', 'Lennart',\n",
       "       'Producer #1', 'Lowell (mugger)', 'Boss', 'Handyman',\n",
       "       'Strange Man', 'Manny', 'Kori', 'Racel', 'Message',\n",
       "       'Second Message', 'Olivia', 'Chase Lassiter', '1st Customer',\n",
       "       'Chandlers', 'Charlie Wheeler', 'Professor Spafford', 'Jane',\n",
       "       'Kyle Lowder', 'Matthew Ashford', 'Bitter Lady', 'Dirk',\n",
       "       'Bitter Woman', 'Doctor Connelly', 'Professor Sherman',\n",
       "       'Shop Assistant', 'Zack', 'Jeanette', 'Man With A Bow Tie',\n",
       "       'Alexandra Steele', 'Jarvis Oberblau', 'Paleontologist',\n",
       "       'Professore Clerk', 'Precious', 'Colleen', 'Owen', 'Assistant',\n",
       "       'Amanda Buffamonteezi', 'Glenda', 'Emma', 'Benjamin Hobart',\n",
       "       'Dr. Li', 'Dr. Biely', 'Charity Guy', 'Laura', 'Agency Guy',\n",
       "       'Erica', 'Adoption Agency Guy', 'Missy Goldberg', 'Donny Osmond',\n",
       "       'Gene', 'Henrietta', 'Adrienne', \"Mike's Mother\", \"Mike's Father\",\n",
       "       \"Mike's Mom\", \"Mike's Dad\", 'Tape', 'Casting Assistant',\n",
       "       'Mr. Campbell', 'Realtor', 'Mackenzie', 'Rita', 'Lady',\n",
       "       'Jennifer Aniston', 'Gate Attendant #1', 'Passenger #1',\n",
       "       'Air Stewardess', 'Passenger #2', 'Passenger #3',\n",
       "       'Gate Attendant #2'], dtype=object)"
      ]
     },
     "execution_count": 9,
     "metadata": {},
     "output_type": "execute_result"
    }
   ],
   "source": [
    "#who are the characters in the show\n",
    "df['speaker'].unique()"
   ]
  },
  {
   "cell_type": "code",
   "execution_count": 10,
   "metadata": {
    "ExecuteTime": {
     "end_time": "2021-03-18T15:28:05.631818Z",
     "start_time": "2021-03-18T15:28:05.577016Z"
    }
   },
   "outputs": [
    {
     "data": {
      "text/plain": [
       "236"
      ]
     },
     "execution_count": 10,
     "metadata": {},
     "output_type": "execute_result"
    }
   ],
   "source": [
    "#how many episodes are in the show?\n",
    "len(df[['season','episode']].drop_duplicates())"
   ]
  },
  {
   "cell_type": "code",
   "execution_count": 11,
   "metadata": {
    "ExecuteTime": {
     "end_time": "2021-03-18T15:28:05.661734Z",
     "start_time": "2021-03-18T15:28:05.635715Z"
    }
   },
   "outputs": [
    {
     "data": {
      "text/plain": [
       "3099"
      ]
     },
     "execution_count": 11,
     "metadata": {},
     "output_type": "execute_result"
    }
   ],
   "source": [
    "#how many scenes are in the show?\n",
    "len(df[['season','episode', 'scene']].drop_duplicates())"
   ]
  },
  {
   "cell_type": "code",
   "execution_count": 12,
   "metadata": {
    "ExecuteTime": {
     "end_time": "2021-03-18T15:28:05.971597Z",
     "start_time": "2021-03-18T15:28:05.664022Z"
    }
   },
   "outputs": [
    {
     "ename": "KeyError",
     "evalue": "\"['deleted'] not in index\"",
     "output_type": "error",
     "traceback": [
      "\u001b[0;31m---------------------------------------------------------------------------\u001b[0m",
      "\u001b[0;31mKeyError\u001b[0m                                  Traceback (most recent call last)",
      "\u001b[0;32m<ipython-input-12-61c6153aa50a>\u001b[0m in \u001b[0;36m<module>\u001b[0;34m\u001b[0m\n\u001b[1;32m      1\u001b[0m \u001b[0;31m#how many deleted scenes are there?\u001b[0m\u001b[0;34m\u001b[0m\u001b[0;34m\u001b[0m\u001b[0;34m\u001b[0m\u001b[0m\n\u001b[0;32m----> 2\u001b[0;31m \u001b[0mdf\u001b[0m\u001b[0;34m[\u001b[0m\u001b[0;34m[\u001b[0m\u001b[0;34m'season'\u001b[0m\u001b[0;34m,\u001b[0m\u001b[0;34m'episode'\u001b[0m\u001b[0;34m,\u001b[0m \u001b[0;34m'scene'\u001b[0m\u001b[0;34m,\u001b[0m\u001b[0;34m'deleted'\u001b[0m\u001b[0;34m]\u001b[0m\u001b[0;34m]\u001b[0m\u001b[0;34m.\u001b[0m\u001b[0mdrop_duplicates\u001b[0m\u001b[0;34m(\u001b[0m\u001b[0;34m)\u001b[0m\u001b[0;34m[\u001b[0m\u001b[0;34m'deleted'\u001b[0m\u001b[0;34m]\u001b[0m\u001b[0;34m.\u001b[0m\u001b[0mvalue_counts\u001b[0m\u001b[0;34m(\u001b[0m\u001b[0;34m)\u001b[0m\u001b[0;34m\u001b[0m\u001b[0;34m\u001b[0m\u001b[0m\n\u001b[0m",
      "\u001b[0;32m~/anaconda3/lib/python3.8/site-packages/pandas/core/frame.py\u001b[0m in \u001b[0;36m__getitem__\u001b[0;34m(self, key)\u001b[0m\n\u001b[1;32m   3028\u001b[0m             \u001b[0;32mif\u001b[0m \u001b[0mis_iterator\u001b[0m\u001b[0;34m(\u001b[0m\u001b[0mkey\u001b[0m\u001b[0;34m)\u001b[0m\u001b[0;34m:\u001b[0m\u001b[0;34m\u001b[0m\u001b[0;34m\u001b[0m\u001b[0m\n\u001b[1;32m   3029\u001b[0m                 \u001b[0mkey\u001b[0m \u001b[0;34m=\u001b[0m \u001b[0mlist\u001b[0m\u001b[0;34m(\u001b[0m\u001b[0mkey\u001b[0m\u001b[0;34m)\u001b[0m\u001b[0;34m\u001b[0m\u001b[0;34m\u001b[0m\u001b[0m\n\u001b[0;32m-> 3030\u001b[0;31m             \u001b[0mindexer\u001b[0m \u001b[0;34m=\u001b[0m \u001b[0mself\u001b[0m\u001b[0;34m.\u001b[0m\u001b[0mloc\u001b[0m\u001b[0;34m.\u001b[0m\u001b[0m_get_listlike_indexer\u001b[0m\u001b[0;34m(\u001b[0m\u001b[0mkey\u001b[0m\u001b[0;34m,\u001b[0m \u001b[0maxis\u001b[0m\u001b[0;34m=\u001b[0m\u001b[0;36m1\u001b[0m\u001b[0;34m,\u001b[0m \u001b[0mraise_missing\u001b[0m\u001b[0;34m=\u001b[0m\u001b[0;32mTrue\u001b[0m\u001b[0;34m)\u001b[0m\u001b[0;34m[\u001b[0m\u001b[0;36m1\u001b[0m\u001b[0;34m]\u001b[0m\u001b[0;34m\u001b[0m\u001b[0;34m\u001b[0m\u001b[0m\n\u001b[0m\u001b[1;32m   3031\u001b[0m \u001b[0;34m\u001b[0m\u001b[0m\n\u001b[1;32m   3032\u001b[0m         \u001b[0;31m# take() does not accept boolean indexers\u001b[0m\u001b[0;34m\u001b[0m\u001b[0;34m\u001b[0m\u001b[0;34m\u001b[0m\u001b[0m\n",
      "\u001b[0;32m~/anaconda3/lib/python3.8/site-packages/pandas/core/indexing.py\u001b[0m in \u001b[0;36m_get_listlike_indexer\u001b[0;34m(self, key, axis, raise_missing)\u001b[0m\n\u001b[1;32m   1263\u001b[0m             \u001b[0mkeyarr\u001b[0m\u001b[0;34m,\u001b[0m \u001b[0mindexer\u001b[0m\u001b[0;34m,\u001b[0m \u001b[0mnew_indexer\u001b[0m \u001b[0;34m=\u001b[0m \u001b[0max\u001b[0m\u001b[0;34m.\u001b[0m\u001b[0m_reindex_non_unique\u001b[0m\u001b[0;34m(\u001b[0m\u001b[0mkeyarr\u001b[0m\u001b[0;34m)\u001b[0m\u001b[0;34m\u001b[0m\u001b[0;34m\u001b[0m\u001b[0m\n\u001b[1;32m   1264\u001b[0m \u001b[0;34m\u001b[0m\u001b[0m\n\u001b[0;32m-> 1265\u001b[0;31m         \u001b[0mself\u001b[0m\u001b[0;34m.\u001b[0m\u001b[0m_validate_read_indexer\u001b[0m\u001b[0;34m(\u001b[0m\u001b[0mkeyarr\u001b[0m\u001b[0;34m,\u001b[0m \u001b[0mindexer\u001b[0m\u001b[0;34m,\u001b[0m \u001b[0maxis\u001b[0m\u001b[0;34m,\u001b[0m \u001b[0mraise_missing\u001b[0m\u001b[0;34m=\u001b[0m\u001b[0mraise_missing\u001b[0m\u001b[0;34m)\u001b[0m\u001b[0;34m\u001b[0m\u001b[0;34m\u001b[0m\u001b[0m\n\u001b[0m\u001b[1;32m   1266\u001b[0m         \u001b[0;32mreturn\u001b[0m \u001b[0mkeyarr\u001b[0m\u001b[0;34m,\u001b[0m \u001b[0mindexer\u001b[0m\u001b[0;34m\u001b[0m\u001b[0;34m\u001b[0m\u001b[0m\n\u001b[1;32m   1267\u001b[0m \u001b[0;34m\u001b[0m\u001b[0m\n",
      "\u001b[0;32m~/anaconda3/lib/python3.8/site-packages/pandas/core/indexing.py\u001b[0m in \u001b[0;36m_validate_read_indexer\u001b[0;34m(self, key, indexer, axis, raise_missing)\u001b[0m\n\u001b[1;32m   1313\u001b[0m             \u001b[0;32mif\u001b[0m \u001b[0mraise_missing\u001b[0m\u001b[0;34m:\u001b[0m\u001b[0;34m\u001b[0m\u001b[0;34m\u001b[0m\u001b[0m\n\u001b[1;32m   1314\u001b[0m                 \u001b[0mnot_found\u001b[0m \u001b[0;34m=\u001b[0m \u001b[0mlist\u001b[0m\u001b[0;34m(\u001b[0m\u001b[0mset\u001b[0m\u001b[0;34m(\u001b[0m\u001b[0mkey\u001b[0m\u001b[0;34m)\u001b[0m \u001b[0;34m-\u001b[0m \u001b[0mset\u001b[0m\u001b[0;34m(\u001b[0m\u001b[0max\u001b[0m\u001b[0;34m)\u001b[0m\u001b[0;34m)\u001b[0m\u001b[0;34m\u001b[0m\u001b[0;34m\u001b[0m\u001b[0m\n\u001b[0;32m-> 1315\u001b[0;31m                 \u001b[0;32mraise\u001b[0m \u001b[0mKeyError\u001b[0m\u001b[0;34m(\u001b[0m\u001b[0;34mf\"{not_found} not in index\"\u001b[0m\u001b[0;34m)\u001b[0m\u001b[0;34m\u001b[0m\u001b[0;34m\u001b[0m\u001b[0m\n\u001b[0m\u001b[1;32m   1316\u001b[0m \u001b[0;34m\u001b[0m\u001b[0m\n\u001b[1;32m   1317\u001b[0m             \u001b[0mnot_found\u001b[0m \u001b[0;34m=\u001b[0m \u001b[0mkey\u001b[0m\u001b[0;34m[\u001b[0m\u001b[0mmissing_mask\u001b[0m\u001b[0;34m]\u001b[0m\u001b[0;34m\u001b[0m\u001b[0;34m\u001b[0m\u001b[0m\n",
      "\u001b[0;31mKeyError\u001b[0m: \"['deleted'] not in index\""
     ]
    }
   ],
   "source": [
    "#how many deleted scenes are there?\n",
    "df[['season','episode', 'scene','deleted']].drop_duplicates()['deleted'].value_counts()"
   ]
  },
  {
   "cell_type": "markdown",
   "metadata": {},
   "source": [
    "## Narrowing down\n",
    "It is important to develop the skill of being able to identify which rows in a dataset are important, since working with limited time and/or machine memory"
   ]
  },
  {
   "cell_type": "markdown",
   "metadata": {},
   "source": [
    "**Filter 1**: Remove deleted scenes"
   ]
  },
  {
   "cell_type": "code",
   "execution_count": null,
   "metadata": {
    "ExecuteTime": {
     "end_time": "2021-03-18T15:28:05.976379Z",
     "start_time": "2021-03-18T15:27:59.346Z"
    }
   },
   "outputs": [],
   "source": [
    "len(df)"
   ]
  },
  {
   "cell_type": "code",
   "execution_count": null,
   "metadata": {
    "ExecuteTime": {
     "end_time": "2021-03-18T15:28:05.978113Z",
     "start_time": "2021-03-18T15:27:59.349Z"
    }
   },
   "outputs": [],
   "source": [
    "# remove deleted scenes\n",
    "df = df[df['deleted']==False]"
   ]
  },
  {
   "cell_type": "code",
   "execution_count": null,
   "metadata": {
    "ExecuteTime": {
     "end_time": "2021-03-18T15:28:05.979806Z",
     "start_time": "2021-03-18T15:27:59.352Z"
    }
   },
   "outputs": [],
   "source": [
    "len(df)"
   ]
  },
  {
   "cell_type": "markdown",
   "metadata": {},
   "source": [
    "**Filter 2**: Retain lines from major characters only\n",
    "\n",
    "> Definition: A *major character* is someone who belongs to the top 50 characters with the most number of lines spoken"
   ]
  },
  {
   "cell_type": "code",
   "execution_count": 13,
   "metadata": {
    "ExecuteTime": {
     "end_time": "2021-03-18T15:28:14.372487Z",
     "start_time": "2021-03-18T15:28:14.357805Z"
    }
   },
   "outputs": [
    {
     "data": {
      "text/plain": [
       "Rachel Green      9328\n",
       "Ross Geller       9160\n",
       "Chandler Bing     8568\n",
       "Monica Geller     8497\n",
       "Joey Tribbiani    8208\n",
       "                  ... \n",
       "Smart Kid            1\n",
       "Bitter Woman         1\n",
       "Secretary            1\n",
       "Stephanie            1\n",
       "The Vampire          1\n",
       "Name: speaker, Length: 700, dtype: int64"
      ]
     },
     "execution_count": 13,
     "metadata": {},
     "output_type": "execute_result"
    }
   ],
   "source": [
    "df['speaker'].value_counts()"
   ]
  },
  {
   "cell_type": "code",
   "execution_count": 14,
   "metadata": {
    "ExecuteTime": {
     "end_time": "2021-03-18T15:28:14.622919Z",
     "start_time": "2021-03-18T15:28:14.602946Z"
    }
   },
   "outputs": [
    {
     "data": {
      "text/plain": [
       "Index(['Rachel Green', 'Ross Geller', 'Chandler Bing', 'Monica Geller',\n",
       "       'Joey Tribbiani', 'Phoebe Buffay', '#ALL#', 'Mike Hannigan',\n",
       "       'Richard Burke', 'Janice Litman Goralnik', 'Carol Willick',\n",
       "       'Charlie Wheeler', 'Judy Geller', 'Frank Buffay Jr.', 'Emily Waltham',\n",
       "       'Jack Geller', 'Tag Jones', 'Gunther', 'Amy Green', 'David',\n",
       "       'Paul Stevens', 'Mona', 'Woman', 'Susan Bunch', 'Peter Becker',\n",
       "       'Joshua Burgin', 'Gary', 'Kathy', 'Janine Lecroix', 'Elizabeth Stevens',\n",
       "       'Leonard Green', 'Sandra Green', 'Joanna', 'Ben Geller', 'Jill Green',\n",
       "       'Erica', 'Eddie Menuek', 'Gavin Mitchell', 'Eric', 'Kate Miller',\n",
       "       'Director', 'Guy', 'Danny', 'Mr. Treeger', 'Man', 'Waiter',\n",
       "       'Mark Robinson', 'Mr. Zelner', 'Ursula Buffay', 'Phoebe Abbott'],\n",
       "      dtype='object')"
      ]
     },
     "execution_count": 14,
     "metadata": {},
     "output_type": "execute_result"
    }
   ],
   "source": [
    "#get top 50 characters\n",
    "major_characters = df['speaker'].value_counts()[:50].index\n",
    "major_characters"
   ]
  },
  {
   "cell_type": "code",
   "execution_count": null,
   "metadata": {
    "ExecuteTime": {
     "end_time": "2021-03-18T15:28:05.986153Z",
     "start_time": "2021-03-18T15:27:59.361Z"
    }
   },
   "outputs": [],
   "source": [
    "#remove 'All' and 'Everyone' in the major character list\n",
    "#\"#ALL#\"\n",
    "major_characters = [character for character in major_characters if character not in ['#ALL#','All','Everyone']]\n",
    "print(major_characters)"
   ]
  },
  {
   "cell_type": "code",
   "execution_count": null,
   "metadata": {
    "ExecuteTime": {
     "end_time": "2021-03-18T15:28:05.988340Z",
     "start_time": "2021-03-18T15:27:59.363Z"
    }
   },
   "outputs": [],
   "source": [
    "len(df)"
   ]
  },
  {
   "cell_type": "code",
   "execution_count": null,
   "metadata": {
    "ExecuteTime": {
     "end_time": "2021-03-18T15:28:05.990929Z",
     "start_time": "2021-03-18T15:27:59.366Z"
    }
   },
   "outputs": [],
   "source": [
    "# Keep only major characters\n",
    "df = df[df['speaker'].isin(major_characters)]\n",
    "len(df)"
   ]
  },
  {
   "cell_type": "markdown",
   "metadata": {},
   "source": [
    "## Creating the speaker combinations table\n",
    "This table will be used to setup our sitcom network."
   ]
  },
  {
   "cell_type": "markdown",
   "metadata": {},
   "source": [
    "The pandas `groupby` operator functions in the same way as pivot_table in excel\n",
    "\n",
    "The syntax for a single index column and single agg column:\n",
    "```python\n",
    "df.groupby('index_col')['agg_col'].aggfunc()\n",
    "```\n",
    "\n",
    "A good analogy for  pandas `groupby` is making cocktails at a party: the glasses is the items in `index_col`, the beverage is the `agg_col`, and how the beverage is poured into the glasses is `aggfunc`.\n",
    "\n",
    "<img src=\"groupby.png\" align=\"left\" alt=\"Drawing\" style=\"width: 300px;\"/>\n",
    "<br>\n",
    "<br>\n",
    "<br>\n",
    "<br>\n",
    "<br>\n",
    "<br>\n",
    "<br>\n",
    "<br>\n",
    "<br>\n",
    "<br>\n",
    "<br>\n",
    "<br>\n",
    "\n",
    "\n",
    "For multiple indices and multiple aggregations:\n",
    "```python\n",
    "df.groupby(['index_col','index_col2']).agg('agg_col1':aggfunc1, 'agg_col2':aggfunc2)\n",
    "```"
   ]
  },
  {
   "cell_type": "code",
   "execution_count": null,
   "metadata": {
    "ExecuteTime": {
     "end_time": "2021-03-18T15:28:05.992698Z",
     "start_time": "2021-03-18T15:27:59.370Z"
    }
   },
   "outputs": [],
   "source": [
    "# How many lines are spoken in each season?\n",
    "df.groupby('season')['line_text'].count()"
   ]
  },
  {
   "cell_type": "code",
   "execution_count": null,
   "metadata": {
    "ExecuteTime": {
     "end_time": "2021-03-18T15:28:05.994605Z",
     "start_time": "2021-03-18T15:27:59.374Z"
    }
   },
   "outputs": [],
   "source": [
    "# How many episodes are in each season?\n",
    "df.groupby('season')[['episode']].nunique()"
   ]
  },
  {
   "cell_type": "code",
   "execution_count": null,
   "metadata": {
    "ExecuteTime": {
     "end_time": "2021-03-18T15:28:05.998301Z",
     "start_time": "2021-03-18T15:27:59.376Z"
    }
   },
   "outputs": [],
   "source": [
    "#Which characters has the most lines?\n",
    "df.groupby(['speaker'])['line_text'].count().sort_values(ascending=False).head(5)"
   ]
  },
  {
   "cell_type": "code",
   "execution_count": null,
   "metadata": {
    "ExecuteTime": {
     "end_time": "2021-03-18T15:28:05.999997Z",
     "start_time": "2021-03-18T15:27:59.379Z"
    }
   },
   "outputs": [],
   "source": [
    "# Which speakers are in each scene?\n",
    "pdf = df.groupby(['season','episode','scene'])['speaker'].unique()\n",
    "pdf"
   ]
  },
  {
   "cell_type": "code",
   "execution_count": null,
   "metadata": {
    "ExecuteTime": {
     "end_time": "2021-03-18T15:28:06.001679Z",
     "start_time": "2021-03-18T15:27:59.382Z"
    }
   },
   "outputs": [],
   "source": [
    "#reset index to convert groupby output to DataFrame\n",
    "pdf = pdf.reset_index()\n",
    "pdf"
   ]
  },
  {
   "cell_type": "code",
   "execution_count": null,
   "metadata": {
    "ExecuteTime": {
     "end_time": "2021-03-18T15:28:06.003372Z",
     "start_time": "2021-03-18T15:27:59.388Z"
    }
   },
   "outputs": [],
   "source": [
    "# get number of speakers in scene\n",
    "pdf['num_speakers'] = pdf['speaker'].apply(lambda x: len(x))"
   ]
  },
  {
   "cell_type": "code",
   "execution_count": null,
   "metadata": {
    "ExecuteTime": {
     "end_time": "2021-03-18T15:28:06.006923Z",
     "start_time": "2021-03-18T15:27:59.393Z"
    }
   },
   "outputs": [],
   "source": [
    "pdf"
   ]
  },
  {
   "cell_type": "code",
   "execution_count": null,
   "metadata": {
    "ExecuteTime": {
     "end_time": "2021-03-18T15:28:06.008911Z",
     "start_time": "2021-03-18T15:27:59.396Z"
    }
   },
   "outputs": [],
   "source": [
    "len(pdf)"
   ]
  },
  {
   "cell_type": "markdown",
   "metadata": {},
   "source": [
    "**Filter 3**: Remove scenes where there is only one speaker talking"
   ]
  },
  {
   "cell_type": "code",
   "execution_count": null,
   "metadata": {
    "ExecuteTime": {
     "end_time": "2021-03-18T15:28:06.010635Z",
     "start_time": "2021-03-18T15:27:59.400Z"
    }
   },
   "outputs": [],
   "source": [
    "pdf = pdf[pdf['num_speakers']>=2]\n",
    "len(pdf)"
   ]
  },
  {
   "cell_type": "code",
   "execution_count": null,
   "metadata": {
    "ExecuteTime": {
     "end_time": "2021-03-18T15:28:06.012996Z",
     "start_time": "2021-03-18T15:27:59.405Z"
    }
   },
   "outputs": [],
   "source": [
    "pdf"
   ]
  },
  {
   "cell_type": "markdown",
   "metadata": {},
   "source": [
    "To get the possible interactions in the scene, we need to split each speaker list into all possible pairs "
   ]
  },
  {
   "cell_type": "code",
   "execution_count": null,
   "metadata": {
    "ExecuteTime": {
     "end_time": "2021-03-18T15:28:06.014751Z",
     "start_time": "2021-03-18T15:27:59.409Z"
    }
   },
   "outputs": [],
   "source": [
    "from itertools import combinations"
   ]
  },
  {
   "cell_type": "code",
   "execution_count": null,
   "metadata": {
    "ExecuteTime": {
     "end_time": "2021-03-18T15:28:06.018448Z",
     "start_time": "2021-03-18T15:27:59.412Z"
    }
   },
   "outputs": [],
   "source": [
    "#example \n",
    "[set(c) for c in combinations([\"Jim\", \"Angela\", \"Creed\", \"Phyllis\"],2 )]"
   ]
  },
  {
   "cell_type": "code",
   "execution_count": null,
   "metadata": {
    "ExecuteTime": {
     "end_time": "2021-03-18T15:28:06.019993Z",
     "start_time": "2021-03-18T15:27:59.415Z"
    }
   },
   "outputs": [],
   "source": [
    "('Angela', 'Jim') == ('Jim', 'Angela')"
   ]
  },
  {
   "cell_type": "code",
   "execution_count": null,
   "metadata": {
    "ExecuteTime": {
     "end_time": "2021-03-18T15:28:06.021833Z",
     "start_time": "2021-03-18T15:27:59.419Z"
    }
   },
   "outputs": [],
   "source": [
    "#Are sets really order-independent?\n",
    "{'Angela', 'Jim'} == {'Jim', 'Angela'}"
   ]
  },
  {
   "cell_type": "code",
   "execution_count": null,
   "metadata": {
    "ExecuteTime": {
     "end_time": "2021-03-18T15:28:06.025937Z",
     "start_time": "2021-03-18T15:27:59.424Z"
    }
   },
   "outputs": [],
   "source": [
    "# convert speaker combinations into set to make it order-independent\n",
    "pdf['speaker_combinations'] = pdf['speaker'].apply(lambda x: [set(c) for c in combinations(x,2)])\n",
    "pdf.head()"
   ]
  },
  {
   "cell_type": "code",
   "execution_count": null,
   "metadata": {
    "ExecuteTime": {
     "end_time": "2021-03-18T15:28:06.029642Z",
     "start_time": "2021-03-18T15:27:59.430Z"
    }
   },
   "outputs": [],
   "source": [
    "# use pd.explode to break up the list of speaker combinations so each would have its own row\n",
    "pdf = pdf[['season','episode','scene','speaker_combinations']].explode('speaker_combinations')\n",
    "pdf"
   ]
  },
  {
   "cell_type": "code",
   "execution_count": null,
   "metadata": {
    "ExecuteTime": {
     "end_time": "2021-03-18T15:28:06.031318Z",
     "start_time": "2021-03-18T15:27:59.435Z"
    }
   },
   "outputs": [],
   "source": [
    "pdf['speaker1'] = pdf['speaker_combinations'].apply(lambda x: list(x)[0])\n",
    "pdf['speaker2'] = pdf['speaker_combinations'].apply(lambda x: list(x)[1])\n",
    "pdf"
   ]
  },
  {
   "cell_type": "markdown",
   "metadata": {},
   "source": [
    "Now we have a table with each speaker combination per scene. This will be used to construct the sitcom network."
   ]
  },
  {
   "cell_type": "code",
   "execution_count": null,
   "metadata": {
    "ExecuteTime": {
     "end_time": "2021-03-18T15:28:06.033101Z",
     "start_time": "2021-03-18T15:27:59.439Z"
    }
   },
   "outputs": [],
   "source": [
    "#save speakers\n",
    "pdf = pdf.drop(columns='speaker_combinations')\n",
    "pdf.to_csv(\"data/the_office_speaker_combinations.csv\", index=False)"
   ]
  },
  {
   "cell_type": "markdown",
   "metadata": {},
   "source": [
    ">Q: Which 2 characters were most often found speaking together in a scene?"
   ]
  },
  {
   "cell_type": "code",
   "execution_count": null,
   "metadata": {
    "ExecuteTime": {
     "end_time": "2021-03-18T15:28:06.039276Z",
     "start_time": "2021-03-18T15:27:59.443Z"
    }
   },
   "outputs": [],
   "source": [
    "pdf.groupby(['speaker1','speaker2']).size().sort_values(ascending=False)"
   ]
  },
  {
   "cell_type": "markdown",
   "metadata": {},
   "source": [
    "### For intermediate students:\n",
    ">Q: Which season has the largest average number of speaker combination pairs per episode?\n",
    "\n",
    "### For advanced students:\n",
    ">Q: Which character spoke the most *words* throughout the entire series?"
   ]
  },
  {
   "cell_type": "code",
   "execution_count": null,
   "metadata": {},
   "outputs": [],
   "source": []
  }
 ],
 "metadata": {
  "kernelspec": {
   "display_name": "Python 3",
   "language": "python",
   "name": "python3"
  },
  "language_info": {
   "codemirror_mode": {
    "name": "ipython",
    "version": 3
   },
   "file_extension": ".py",
   "mimetype": "text/x-python",
   "name": "python",
   "nbconvert_exporter": "python",
   "pygments_lexer": "ipython3",
   "version": "3.8.5"
  }
 },
 "nbformat": 4,
 "nbformat_minor": 4
}
