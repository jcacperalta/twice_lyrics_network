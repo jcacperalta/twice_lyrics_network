{
 "cells": [
  {
   "cell_type": "markdown",
   "metadata": {},
   "source": [
    "## Day 3 - Constructing the sitcom network"
   ]
  },
  {
   "cell_type": "code",
   "execution_count": 3,
   "metadata": {
    "ExecuteTime": {
     "end_time": "2021-03-19T11:47:13.056961Z",
     "start_time": "2021-03-19T11:47:13.042856Z"
    }
   },
   "outputs": [],
   "source": [
    "import numpy as np\n",
    "import pandas as pd\n",
    "\n",
    "import matplotlib.pyplot as plt\n",
    "%matplotlib inline"
   ]
  },
  {
   "cell_type": "code",
   "execution_count": 4,
   "metadata": {
    "ExecuteTime": {
     "end_time": "2021-03-19T11:47:13.468378Z",
     "start_time": "2021-03-19T11:47:13.407992Z"
    }
   },
   "outputs": [
    {
     "data": {
      "text/html": [
       "<div>\n",
       "<style scoped>\n",
       "    .dataframe tbody tr th:only-of-type {\n",
       "        vertical-align: middle;\n",
       "    }\n",
       "\n",
       "    .dataframe tbody tr th {\n",
       "        vertical-align: top;\n",
       "    }\n",
       "\n",
       "    .dataframe thead th {\n",
       "        text-align: right;\n",
       "    }\n",
       "</style>\n",
       "<table border=\"1\" class=\"dataframe\">\n",
       "  <thead>\n",
       "    <tr style=\"text-align: right;\">\n",
       "      <th></th>\n",
       "      <th>season</th>\n",
       "      <th>episode</th>\n",
       "      <th>scene</th>\n",
       "      <th>speaker1</th>\n",
       "      <th>speaker2</th>\n",
       "    </tr>\n",
       "  </thead>\n",
       "  <tbody>\n",
       "    <tr>\n",
       "      <th>0</th>\n",
       "      <td>1</td>\n",
       "      <td>1</td>\n",
       "      <td>1</td>\n",
       "      <td>Michael</td>\n",
       "      <td>Jim</td>\n",
       "    </tr>\n",
       "    <tr>\n",
       "      <th>1</th>\n",
       "      <td>1</td>\n",
       "      <td>1</td>\n",
       "      <td>3</td>\n",
       "      <td>Michael</td>\n",
       "      <td>Pam</td>\n",
       "    </tr>\n",
       "    <tr>\n",
       "      <th>2</th>\n",
       "      <td>1</td>\n",
       "      <td>1</td>\n",
       "      <td>7</td>\n",
       "      <td>Michael</td>\n",
       "      <td>Jim</td>\n",
       "    </tr>\n",
       "    <tr>\n",
       "      <th>3</th>\n",
       "      <td>1</td>\n",
       "      <td>1</td>\n",
       "      <td>7</td>\n",
       "      <td>Dwight</td>\n",
       "      <td>Michael</td>\n",
       "    </tr>\n",
       "    <tr>\n",
       "      <th>4</th>\n",
       "      <td>1</td>\n",
       "      <td>1</td>\n",
       "      <td>7</td>\n",
       "      <td>Dwight</td>\n",
       "      <td>Jim</td>\n",
       "    </tr>\n",
       "    <tr>\n",
       "      <th>5</th>\n",
       "      <td>1</td>\n",
       "      <td>1</td>\n",
       "      <td>10</td>\n",
       "      <td>Michael</td>\n",
       "      <td>Jan</td>\n",
       "    </tr>\n",
       "    <tr>\n",
       "      <th>6</th>\n",
       "      <td>1</td>\n",
       "      <td>1</td>\n",
       "      <td>10</td>\n",
       "      <td>Pam</td>\n",
       "      <td>Jan</td>\n",
       "    </tr>\n",
       "    <tr>\n",
       "      <th>7</th>\n",
       "      <td>1</td>\n",
       "      <td>1</td>\n",
       "      <td>10</td>\n",
       "      <td>Michael</td>\n",
       "      <td>Pam</td>\n",
       "    </tr>\n",
       "    <tr>\n",
       "      <th>8</th>\n",
       "      <td>1</td>\n",
       "      <td>1</td>\n",
       "      <td>11</td>\n",
       "      <td>Michael</td>\n",
       "      <td>Jan</td>\n",
       "    </tr>\n",
       "    <tr>\n",
       "      <th>9</th>\n",
       "      <td>1</td>\n",
       "      <td>1</td>\n",
       "      <td>11</td>\n",
       "      <td>Michael</td>\n",
       "      <td>Todd Packer</td>\n",
       "    </tr>\n",
       "  </tbody>\n",
       "</table>\n",
       "</div>"
      ],
      "text/plain": [
       "   season  episode  scene speaker1     speaker2\n",
       "0       1        1      1  Michael          Jim\n",
       "1       1        1      3  Michael          Pam\n",
       "2       1        1      7  Michael          Jim\n",
       "3       1        1      7   Dwight      Michael\n",
       "4       1        1      7   Dwight          Jim\n",
       "5       1        1     10  Michael          Jan\n",
       "6       1        1     10      Pam          Jan\n",
       "7       1        1     10  Michael          Pam\n",
       "8       1        1     11  Michael          Jan\n",
       "9       1        1     11  Michael  Todd Packer"
      ]
     },
     "execution_count": 4,
     "metadata": {},
     "output_type": "execute_result"
    }
   ],
   "source": [
    "co_df = pd.read_csv(\"data/the_office_speaker_combinations.csv\")\n",
    "co_df.head(10)"
   ]
  },
  {
   "cell_type": "markdown",
   "metadata": {},
   "source": [
    "### Compute Interaction Factor"
   ]
  },
  {
   "cell_type": "markdown",
   "metadata": {},
   "source": [
    "**Interaction factor** is a measure of how intimate a speaker pair's interaction is relative to the total number of speaker pairs in the scene. We define it as:\n",
    "\n",
    "`Interaction factor = 1 / (no. of speaker pairs per scene)`\n",
    "\n",
    "To illustrate what this means:\n",
    "1. A scene with only 2 speakers will have an interaction factor of 1/ (1 pair) = 1\n",
    "\n",
    "\n",
    "2. A scene with 3 speakers will have an interaction factor of 1/ (3 pairs) = 0.33\n",
    "\n",
    "*Thus a character will need to be in 3 scenes with 3 characters to be able to match the intimacy of a 1-on-1 scene.*\n",
    "\n",
    "\n",
    "3. A scene with 5 speakers will have an interaction factor of 1/ (10 pairs) = 0.1\n",
    "*Thus a character will need to be in 10 scenes with 5 characters to be able to match the intimacy of a 1-on-1 scene.*\n",
    "\n",
    "In general,\n",
    "\n",
    "4. A scene with n speakers will have an interaction factor of 1/ (nC2 pairs)\n"
   ]
  },
  {
   "cell_type": "code",
   "execution_count": 5,
   "metadata": {
    "ExecuteTime": {
     "end_time": "2021-03-19T11:51:35.282235Z",
     "start_time": "2021-03-19T11:51:34.861434Z"
    }
   },
   "outputs": [
    {
     "data": {
      "text/plain": [
       "Text(0, 0.5, 'interaction factor')"
      ]
     },
     "execution_count": 5,
     "metadata": {},
     "output_type": "execute_result"
    },
    {
     "data": {
      "image/png": "[encoded data removed]",
      "text/plain": [
       "<Figure size 432x288 with 1 Axes>"
      ]
     },
     "metadata": {
      "needs_background": "light"
     },
     "output_type": "display_data"
    }
   ],
   "source": [
    "from math import comb\n",
    "x=np.arange(2,11)\n",
    "plt.plot(x,[1/comb(p,2) for p in x])\n",
    "plt.xlabel('number of speakers')\n",
    "plt.ylabel('interaction factor')"
   ]
  },
  {
   "cell_type": "code",
   "execution_count": 6,
   "metadata": {
    "ExecuteTime": {
     "end_time": "2021-03-19T11:52:51.398476Z",
     "start_time": "2021-03-19T11:52:51.292186Z"
    }
   },
   "outputs": [
    {
     "data": {
      "text/html": [
       "<div>\n",
       "<style scoped>\n",
       "    .dataframe tbody tr th:only-of-type {\n",
       "        vertical-align: middle;\n",
       "    }\n",
       "\n",
       "    .dataframe tbody tr th {\n",
       "        vertical-align: top;\n",
       "    }\n",
       "\n",
       "    .dataframe thead th {\n",
       "        text-align: right;\n",
       "    }\n",
       "</style>\n",
       "<table border=\"1\" class=\"dataframe\">\n",
       "  <thead>\n",
       "    <tr style=\"text-align: right;\">\n",
       "      <th></th>\n",
       "      <th>season</th>\n",
       "      <th>episode</th>\n",
       "      <th>scene</th>\n",
       "      <th>speaker1</th>\n",
       "      <th>speaker2</th>\n",
       "      <th>speaker_pair</th>\n",
       "    </tr>\n",
       "  </thead>\n",
       "  <tbody>\n",
       "    <tr>\n",
       "      <th>0</th>\n",
       "      <td>1</td>\n",
       "      <td>1</td>\n",
       "      <td>1</td>\n",
       "      <td>Michael</td>\n",
       "      <td>Jim</td>\n",
       "      <td>Michael-Jim</td>\n",
       "    </tr>\n",
       "    <tr>\n",
       "      <th>1</th>\n",
       "      <td>1</td>\n",
       "      <td>1</td>\n",
       "      <td>3</td>\n",
       "      <td>Michael</td>\n",
       "      <td>Pam</td>\n",
       "      <td>Michael-Pam</td>\n",
       "    </tr>\n",
       "    <tr>\n",
       "      <th>2</th>\n",
       "      <td>1</td>\n",
       "      <td>1</td>\n",
       "      <td>7</td>\n",
       "      <td>Michael</td>\n",
       "      <td>Jim</td>\n",
       "      <td>Michael-Jim</td>\n",
       "    </tr>\n",
       "    <tr>\n",
       "      <th>3</th>\n",
       "      <td>1</td>\n",
       "      <td>1</td>\n",
       "      <td>7</td>\n",
       "      <td>Dwight</td>\n",
       "      <td>Michael</td>\n",
       "      <td>Dwight-Michael</td>\n",
       "    </tr>\n",
       "    <tr>\n",
       "      <th>4</th>\n",
       "      <td>1</td>\n",
       "      <td>1</td>\n",
       "      <td>7</td>\n",
       "      <td>Dwight</td>\n",
       "      <td>Jim</td>\n",
       "      <td>Dwight-Jim</td>\n",
       "    </tr>\n",
       "  </tbody>\n",
       "</table>\n",
       "</div>"
      ],
      "text/plain": [
       "   season  episode  scene speaker1 speaker2    speaker_pair\n",
       "0       1        1      1  Michael      Jim     Michael-Jim\n",
       "1       1        1      3  Michael      Pam     Michael-Pam\n",
       "2       1        1      7  Michael      Jim     Michael-Jim\n",
       "3       1        1      7   Dwight  Michael  Dwight-Michael\n",
       "4       1        1      7   Dwight      Jim      Dwight-Jim"
      ]
     },
     "execution_count": 6,
     "metadata": {},
     "output_type": "execute_result"
    }
   ],
   "source": [
    "# get pair\n",
    "co_df['speaker_pair'] = co_df['speaker1']+\"-\"+co_df['speaker2']\n",
    "co_df.head()"
   ]
  },
  {
   "cell_type": "code",
   "execution_count": 7,
   "metadata": {
    "ExecuteTime": {
     "end_time": "2021-03-19T11:53:23.869089Z",
     "start_time": "2021-03-19T11:53:23.800119Z"
    }
   },
   "outputs": [
    {
     "data": {
      "text/html": [
       "<div>\n",
       "<style scoped>\n",
       "    .dataframe tbody tr th:only-of-type {\n",
       "        vertical-align: middle;\n",
       "    }\n",
       "\n",
       "    .dataframe tbody tr th {\n",
       "        vertical-align: top;\n",
       "    }\n",
       "\n",
       "    .dataframe thead th {\n",
       "        text-align: right;\n",
       "    }\n",
       "</style>\n",
       "<table border=\"1\" class=\"dataframe\">\n",
       "  <thead>\n",
       "    <tr style=\"text-align: right;\">\n",
       "      <th></th>\n",
       "      <th>season</th>\n",
       "      <th>episode</th>\n",
       "      <th>scene</th>\n",
       "      <th>num_speaker_pairs</th>\n",
       "    </tr>\n",
       "  </thead>\n",
       "  <tbody>\n",
       "    <tr>\n",
       "      <th>0</th>\n",
       "      <td>1</td>\n",
       "      <td>1</td>\n",
       "      <td>1</td>\n",
       "      <td>1</td>\n",
       "    </tr>\n",
       "    <tr>\n",
       "      <th>1</th>\n",
       "      <td>1</td>\n",
       "      <td>1</td>\n",
       "      <td>3</td>\n",
       "      <td>1</td>\n",
       "    </tr>\n",
       "    <tr>\n",
       "      <th>2</th>\n",
       "      <td>1</td>\n",
       "      <td>1</td>\n",
       "      <td>7</td>\n",
       "      <td>3</td>\n",
       "    </tr>\n",
       "    <tr>\n",
       "      <th>3</th>\n",
       "      <td>1</td>\n",
       "      <td>1</td>\n",
       "      <td>10</td>\n",
       "      <td>3</td>\n",
       "    </tr>\n",
       "    <tr>\n",
       "      <th>4</th>\n",
       "      <td>1</td>\n",
       "      <td>1</td>\n",
       "      <td>11</td>\n",
       "      <td>3</td>\n",
       "    </tr>\n",
       "    <tr>\n",
       "      <th>...</th>\n",
       "      <td>...</td>\n",
       "      <td>...</td>\n",
       "      <td>...</td>\n",
       "      <td>...</td>\n",
       "    </tr>\n",
       "    <tr>\n",
       "      <th>5316</th>\n",
       "      <td>9</td>\n",
       "      <td>23</td>\n",
       "      <td>98</td>\n",
       "      <td>3</td>\n",
       "    </tr>\n",
       "    <tr>\n",
       "      <th>5317</th>\n",
       "      <td>9</td>\n",
       "      <td>23</td>\n",
       "      <td>99</td>\n",
       "      <td>3</td>\n",
       "    </tr>\n",
       "    <tr>\n",
       "      <th>5318</th>\n",
       "      <td>9</td>\n",
       "      <td>23</td>\n",
       "      <td>101</td>\n",
       "      <td>3</td>\n",
       "    </tr>\n",
       "    <tr>\n",
       "      <th>5319</th>\n",
       "      <td>9</td>\n",
       "      <td>23</td>\n",
       "      <td>107</td>\n",
       "      <td>6</td>\n",
       "    </tr>\n",
       "    <tr>\n",
       "      <th>5320</th>\n",
       "      <td>9</td>\n",
       "      <td>23</td>\n",
       "      <td>108</td>\n",
       "      <td>1</td>\n",
       "    </tr>\n",
       "  </tbody>\n",
       "</table>\n",
       "<p>5321 rows × 4 columns</p>\n",
       "</div>"
      ],
      "text/plain": [
       "      season  episode  scene  num_speaker_pairs\n",
       "0          1        1      1                  1\n",
       "1          1        1      3                  1\n",
       "2          1        1      7                  3\n",
       "3          1        1     10                  3\n",
       "4          1        1     11                  3\n",
       "...      ...      ...    ...                ...\n",
       "5316       9       23     98                  3\n",
       "5317       9       23     99                  3\n",
       "5318       9       23    101                  3\n",
       "5319       9       23    107                  6\n",
       "5320       9       23    108                  1\n",
       "\n",
       "[5321 rows x 4 columns]"
      ]
     },
     "execution_count": 7,
     "metadata": {},
     "output_type": "execute_result"
    }
   ],
   "source": [
    "#Get number of speakers per scene\n",
    "num_speakers_pairs_per_scene = co_df.groupby(['season','episode','scene'])['speaker_pair'].nunique()\\\n",
    "                                 .reset_index(name='num_speaker_pairs')\n",
    "num_speakers_pairs_per_scene"
   ]
  },
  {
   "cell_type": "code",
   "execution_count": 8,
   "metadata": {
    "ExecuteTime": {
     "end_time": "2021-03-19T11:54:26.341805Z",
     "start_time": "2021-03-19T11:54:26.279395Z"
    }
   },
   "outputs": [
    {
     "data": {
      "text/html": [
       "<div>\n",
       "<style scoped>\n",
       "    .dataframe tbody tr th:only-of-type {\n",
       "        vertical-align: middle;\n",
       "    }\n",
       "\n",
       "    .dataframe tbody tr th {\n",
       "        vertical-align: top;\n",
       "    }\n",
       "\n",
       "    .dataframe thead th {\n",
       "        text-align: right;\n",
       "    }\n",
       "</style>\n",
       "<table border=\"1\" class=\"dataframe\">\n",
       "  <thead>\n",
       "    <tr style=\"text-align: right;\">\n",
       "      <th></th>\n",
       "      <th>season</th>\n",
       "      <th>episode</th>\n",
       "      <th>scene</th>\n",
       "      <th>speaker1</th>\n",
       "      <th>speaker2</th>\n",
       "      <th>speaker_pair</th>\n",
       "      <th>num_speaker_pairs</th>\n",
       "    </tr>\n",
       "  </thead>\n",
       "  <tbody>\n",
       "    <tr>\n",
       "      <th>0</th>\n",
       "      <td>1</td>\n",
       "      <td>1</td>\n",
       "      <td>1</td>\n",
       "      <td>Michael</td>\n",
       "      <td>Jim</td>\n",
       "      <td>Michael-Jim</td>\n",
       "      <td>1</td>\n",
       "    </tr>\n",
       "    <tr>\n",
       "      <th>1</th>\n",
       "      <td>1</td>\n",
       "      <td>1</td>\n",
       "      <td>3</td>\n",
       "      <td>Michael</td>\n",
       "      <td>Pam</td>\n",
       "      <td>Michael-Pam</td>\n",
       "      <td>1</td>\n",
       "    </tr>\n",
       "    <tr>\n",
       "      <th>2</th>\n",
       "      <td>1</td>\n",
       "      <td>1</td>\n",
       "      <td>7</td>\n",
       "      <td>Michael</td>\n",
       "      <td>Jim</td>\n",
       "      <td>Michael-Jim</td>\n",
       "      <td>3</td>\n",
       "    </tr>\n",
       "    <tr>\n",
       "      <th>3</th>\n",
       "      <td>1</td>\n",
       "      <td>1</td>\n",
       "      <td>7</td>\n",
       "      <td>Dwight</td>\n",
       "      <td>Michael</td>\n",
       "      <td>Dwight-Michael</td>\n",
       "      <td>3</td>\n",
       "    </tr>\n",
       "    <tr>\n",
       "      <th>4</th>\n",
       "      <td>1</td>\n",
       "      <td>1</td>\n",
       "      <td>7</td>\n",
       "      <td>Dwight</td>\n",
       "      <td>Jim</td>\n",
       "      <td>Dwight-Jim</td>\n",
       "      <td>3</td>\n",
       "    </tr>\n",
       "    <tr>\n",
       "      <th>...</th>\n",
       "      <td>...</td>\n",
       "      <td>...</td>\n",
       "      <td>...</td>\n",
       "      <td>...</td>\n",
       "      <td>...</td>\n",
       "      <td>...</td>\n",
       "      <td>...</td>\n",
       "    </tr>\n",
       "    <tr>\n",
       "      <th>21683</th>\n",
       "      <td>9</td>\n",
       "      <td>23</td>\n",
       "      <td>107</td>\n",
       "      <td>Phyllis</td>\n",
       "      <td>Angela</td>\n",
       "      <td>Phyllis-Angela</td>\n",
       "      <td>6</td>\n",
       "    </tr>\n",
       "    <tr>\n",
       "      <th>21684</th>\n",
       "      <td>9</td>\n",
       "      <td>23</td>\n",
       "      <td>107</td>\n",
       "      <td>Creed</td>\n",
       "      <td>Jim</td>\n",
       "      <td>Creed-Jim</td>\n",
       "      <td>6</td>\n",
       "    </tr>\n",
       "    <tr>\n",
       "      <th>21685</th>\n",
       "      <td>9</td>\n",
       "      <td>23</td>\n",
       "      <td>107</td>\n",
       "      <td>Angela</td>\n",
       "      <td>Jim</td>\n",
       "      <td>Angela-Jim</td>\n",
       "      <td>6</td>\n",
       "    </tr>\n",
       "    <tr>\n",
       "      <th>21686</th>\n",
       "      <td>9</td>\n",
       "      <td>23</td>\n",
       "      <td>107</td>\n",
       "      <td>Creed</td>\n",
       "      <td>Angela</td>\n",
       "      <td>Creed-Angela</td>\n",
       "      <td>6</td>\n",
       "    </tr>\n",
       "    <tr>\n",
       "      <th>21687</th>\n",
       "      <td>9</td>\n",
       "      <td>23</td>\n",
       "      <td>108</td>\n",
       "      <td>Kevin</td>\n",
       "      <td>Oscar</td>\n",
       "      <td>Kevin-Oscar</td>\n",
       "      <td>1</td>\n",
       "    </tr>\n",
       "  </tbody>\n",
       "</table>\n",
       "<p>21688 rows × 7 columns</p>\n",
       "</div>"
      ],
      "text/plain": [
       "       season  episode  scene speaker1 speaker2    speaker_pair  \\\n",
       "0           1        1      1  Michael      Jim     Michael-Jim   \n",
       "1           1        1      3  Michael      Pam     Michael-Pam   \n",
       "2           1        1      7  Michael      Jim     Michael-Jim   \n",
       "3           1        1      7   Dwight  Michael  Dwight-Michael   \n",
       "4           1        1      7   Dwight      Jim      Dwight-Jim   \n",
       "...       ...      ...    ...      ...      ...             ...   \n",
       "21683       9       23    107  Phyllis   Angela  Phyllis-Angela   \n",
       "21684       9       23    107    Creed      Jim       Creed-Jim   \n",
       "21685       9       23    107   Angela      Jim      Angela-Jim   \n",
       "21686       9       23    107    Creed   Angela    Creed-Angela   \n",
       "21687       9       23    108    Kevin    Oscar     Kevin-Oscar   \n",
       "\n",
       "       num_speaker_pairs  \n",
       "0                      1  \n",
       "1                      1  \n",
       "2                      3  \n",
       "3                      3  \n",
       "4                      3  \n",
       "...                  ...  \n",
       "21683                  6  \n",
       "21684                  6  \n",
       "21685                  6  \n",
       "21686                  6  \n",
       "21687                  1  \n",
       "\n",
       "[21688 rows x 7 columns]"
      ]
     },
     "execution_count": 8,
     "metadata": {},
     "output_type": "execute_result"
    }
   ],
   "source": [
    "co_df = co_df.merge(num_speakers_pairs_per_scene, on=['season','episode','scene'], how='left')\n",
    "co_df"
   ]
  },
  {
   "cell_type": "code",
   "execution_count": 9,
   "metadata": {
    "ExecuteTime": {
     "end_time": "2021-03-19T11:54:57.887201Z",
     "start_time": "2021-03-19T11:54:57.819821Z"
    }
   },
   "outputs": [
    {
     "data": {
      "text/html": [
       "<div>\n",
       "<style scoped>\n",
       "    .dataframe tbody tr th:only-of-type {\n",
       "        vertical-align: middle;\n",
       "    }\n",
       "\n",
       "    .dataframe tbody tr th {\n",
       "        vertical-align: top;\n",
       "    }\n",
       "\n",
       "    .dataframe thead th {\n",
       "        text-align: right;\n",
       "    }\n",
       "</style>\n",
       "<table border=\"1\" class=\"dataframe\">\n",
       "  <thead>\n",
       "    <tr style=\"text-align: right;\">\n",
       "      <th></th>\n",
       "      <th>season</th>\n",
       "      <th>episode</th>\n",
       "      <th>scene</th>\n",
       "      <th>speaker1</th>\n",
       "      <th>speaker2</th>\n",
       "      <th>speaker_pair</th>\n",
       "      <th>num_speaker_pairs</th>\n",
       "      <th>interaction_factor</th>\n",
       "    </tr>\n",
       "  </thead>\n",
       "  <tbody>\n",
       "    <tr>\n",
       "      <th>0</th>\n",
       "      <td>1</td>\n",
       "      <td>1</td>\n",
       "      <td>1</td>\n",
       "      <td>Michael</td>\n",
       "      <td>Jim</td>\n",
       "      <td>Michael-Jim</td>\n",
       "      <td>1</td>\n",
       "      <td>1.000000</td>\n",
       "    </tr>\n",
       "    <tr>\n",
       "      <th>1</th>\n",
       "      <td>1</td>\n",
       "      <td>1</td>\n",
       "      <td>3</td>\n",
       "      <td>Michael</td>\n",
       "      <td>Pam</td>\n",
       "      <td>Michael-Pam</td>\n",
       "      <td>1</td>\n",
       "      <td>1.000000</td>\n",
       "    </tr>\n",
       "    <tr>\n",
       "      <th>2</th>\n",
       "      <td>1</td>\n",
       "      <td>1</td>\n",
       "      <td>7</td>\n",
       "      <td>Michael</td>\n",
       "      <td>Jim</td>\n",
       "      <td>Michael-Jim</td>\n",
       "      <td>3</td>\n",
       "      <td>0.333333</td>\n",
       "    </tr>\n",
       "    <tr>\n",
       "      <th>3</th>\n",
       "      <td>1</td>\n",
       "      <td>1</td>\n",
       "      <td>7</td>\n",
       "      <td>Dwight</td>\n",
       "      <td>Michael</td>\n",
       "      <td>Dwight-Michael</td>\n",
       "      <td>3</td>\n",
       "      <td>0.333333</td>\n",
       "    </tr>\n",
       "    <tr>\n",
       "      <th>4</th>\n",
       "      <td>1</td>\n",
       "      <td>1</td>\n",
       "      <td>7</td>\n",
       "      <td>Dwight</td>\n",
       "      <td>Jim</td>\n",
       "      <td>Dwight-Jim</td>\n",
       "      <td>3</td>\n",
       "      <td>0.333333</td>\n",
       "    </tr>\n",
       "    <tr>\n",
       "      <th>...</th>\n",
       "      <td>...</td>\n",
       "      <td>...</td>\n",
       "      <td>...</td>\n",
       "      <td>...</td>\n",
       "      <td>...</td>\n",
       "      <td>...</td>\n",
       "      <td>...</td>\n",
       "      <td>...</td>\n",
       "    </tr>\n",
       "    <tr>\n",
       "      <th>21683</th>\n",
       "      <td>9</td>\n",
       "      <td>23</td>\n",
       "      <td>107</td>\n",
       "      <td>Phyllis</td>\n",
       "      <td>Angela</td>\n",
       "      <td>Phyllis-Angela</td>\n",
       "      <td>6</td>\n",
       "      <td>0.166667</td>\n",
       "    </tr>\n",
       "    <tr>\n",
       "      <th>21684</th>\n",
       "      <td>9</td>\n",
       "      <td>23</td>\n",
       "      <td>107</td>\n",
       "      <td>Creed</td>\n",
       "      <td>Jim</td>\n",
       "      <td>Creed-Jim</td>\n",
       "      <td>6</td>\n",
       "      <td>0.166667</td>\n",
       "    </tr>\n",
       "    <tr>\n",
       "      <th>21685</th>\n",
       "      <td>9</td>\n",
       "      <td>23</td>\n",
       "      <td>107</td>\n",
       "      <td>Angela</td>\n",
       "      <td>Jim</td>\n",
       "      <td>Angela-Jim</td>\n",
       "      <td>6</td>\n",
       "      <td>0.166667</td>\n",
       "    </tr>\n",
       "    <tr>\n",
       "      <th>21686</th>\n",
       "      <td>9</td>\n",
       "      <td>23</td>\n",
       "      <td>107</td>\n",
       "      <td>Creed</td>\n",
       "      <td>Angela</td>\n",
       "      <td>Creed-Angela</td>\n",
       "      <td>6</td>\n",
       "      <td>0.166667</td>\n",
       "    </tr>\n",
       "    <tr>\n",
       "      <th>21687</th>\n",
       "      <td>9</td>\n",
       "      <td>23</td>\n",
       "      <td>108</td>\n",
       "      <td>Kevin</td>\n",
       "      <td>Oscar</td>\n",
       "      <td>Kevin-Oscar</td>\n",
       "      <td>1</td>\n",
       "      <td>1.000000</td>\n",
       "    </tr>\n",
       "  </tbody>\n",
       "</table>\n",
       "<p>21688 rows × 8 columns</p>\n",
       "</div>"
      ],
      "text/plain": [
       "       season  episode  scene speaker1 speaker2    speaker_pair  \\\n",
       "0           1        1      1  Michael      Jim     Michael-Jim   \n",
       "1           1        1      3  Michael      Pam     Michael-Pam   \n",
       "2           1        1      7  Michael      Jim     Michael-Jim   \n",
       "3           1        1      7   Dwight  Michael  Dwight-Michael   \n",
       "4           1        1      7   Dwight      Jim      Dwight-Jim   \n",
       "...       ...      ...    ...      ...      ...             ...   \n",
       "21683       9       23    107  Phyllis   Angela  Phyllis-Angela   \n",
       "21684       9       23    107    Creed      Jim       Creed-Jim   \n",
       "21685       9       23    107   Angela      Jim      Angela-Jim   \n",
       "21686       9       23    107    Creed   Angela    Creed-Angela   \n",
       "21687       9       23    108    Kevin    Oscar     Kevin-Oscar   \n",
       "\n",
       "       num_speaker_pairs  interaction_factor  \n",
       "0                      1            1.000000  \n",
       "1                      1            1.000000  \n",
       "2                      3            0.333333  \n",
       "3                      3            0.333333  \n",
       "4                      3            0.333333  \n",
       "...                  ...                 ...  \n",
       "21683                  6            0.166667  \n",
       "21684                  6            0.166667  \n",
       "21685                  6            0.166667  \n",
       "21686                  6            0.166667  \n",
       "21687                  1            1.000000  \n",
       "\n",
       "[21688 rows x 8 columns]"
      ]
     },
     "execution_count": 9,
     "metadata": {},
     "output_type": "execute_result"
    }
   ],
   "source": [
    "co_df['interaction_factor'] =1/co_df['num_speaker_pairs']\n",
    "co_df"
   ]
  },
  {
   "cell_type": "code",
   "execution_count": 10,
   "metadata": {
    "ExecuteTime": {
     "end_time": "2021-03-19T11:55:57.432350Z",
     "start_time": "2021-03-19T11:55:57.244802Z"
    }
   },
   "outputs": [],
   "source": [
    "#save table with interaction factor\n",
    "co_df.to_csv('data/the_office_speaker_pair_interaction_factors.csv', index=False)"
   ]
  },
  {
   "cell_type": "markdown",
   "metadata": {},
   "source": [
    "## Build edgelist table\n",
    "\n",
    "Our python network library `networkx` requires a specific pandas dataframe format to create a network out of it.\n",
    "\n",
    "An *edgelist* is one way of representing a network in table form.\n",
    "\n",
    "An edgelist is composed of at least 2 columns: 2 columns for the 2 nodes that are to be connected with an edge, and optionally, a third column containing a measure of the strength of the connection.\n",
    "\n",
    "Our co-occurence table is an example of an edgelist table\n"
   ]
  },
  {
   "cell_type": "code",
   "execution_count": 11,
   "metadata": {
    "ExecuteTime": {
     "end_time": "2021-03-19T11:58:13.875254Z",
     "start_time": "2021-03-19T11:58:13.841378Z"
    }
   },
   "outputs": [
    {
     "data": {
      "text/html": [
       "<div>\n",
       "<style scoped>\n",
       "    .dataframe tbody tr th:only-of-type {\n",
       "        vertical-align: middle;\n",
       "    }\n",
       "\n",
       "    .dataframe tbody tr th {\n",
       "        vertical-align: top;\n",
       "    }\n",
       "\n",
       "    .dataframe thead th {\n",
       "        text-align: right;\n",
       "    }\n",
       "</style>\n",
       "<table border=\"1\" class=\"dataframe\">\n",
       "  <thead>\n",
       "    <tr style=\"text-align: right;\">\n",
       "      <th></th>\n",
       "      <th>speaker1</th>\n",
       "      <th>speaker2</th>\n",
       "      <th>total_interaction_factor</th>\n",
       "    </tr>\n",
       "  </thead>\n",
       "  <tbody>\n",
       "    <tr>\n",
       "      <th>78</th>\n",
       "      <td>Creed</td>\n",
       "      <td>DeAngelo</td>\n",
       "      <td>0.012821</td>\n",
       "    </tr>\n",
       "    <tr>\n",
       "      <th>148</th>\n",
       "      <td>DeAngelo</td>\n",
       "      <td>Phyllis</td>\n",
       "      <td>0.022222</td>\n",
       "    </tr>\n",
       "    <tr>\n",
       "      <th>138</th>\n",
       "      <td>DeAngelo</td>\n",
       "      <td>Angela</td>\n",
       "      <td>0.022222</td>\n",
       "    </tr>\n",
       "    <tr>\n",
       "      <th>405</th>\n",
       "      <td>Nate</td>\n",
       "      <td>Michael</td>\n",
       "      <td>0.022222</td>\n",
       "    </tr>\n",
       "    <tr>\n",
       "      <th>281</th>\n",
       "      <td>Jo</td>\n",
       "      <td>DeAngelo</td>\n",
       "      <td>0.022222</td>\n",
       "    </tr>\n",
       "    <tr>\n",
       "      <th>...</th>\n",
       "      <td>...</td>\n",
       "      <td>...</td>\n",
       "      <td>...</td>\n",
       "    </tr>\n",
       "    <tr>\n",
       "      <th>383</th>\n",
       "      <td>Michael</td>\n",
       "      <td>Jim</td>\n",
       "      <td>156.731197</td>\n",
       "    </tr>\n",
       "    <tr>\n",
       "      <th>390</th>\n",
       "      <td>Michael</td>\n",
       "      <td>Pam</td>\n",
       "      <td>200.843173</td>\n",
       "    </tr>\n",
       "    <tr>\n",
       "      <th>189</th>\n",
       "      <td>Dwight</td>\n",
       "      <td>Jim</td>\n",
       "      <td>260.987302</td>\n",
       "    </tr>\n",
       "    <tr>\n",
       "      <th>198</th>\n",
       "      <td>Dwight</td>\n",
       "      <td>Michael</td>\n",
       "      <td>343.880281</td>\n",
       "    </tr>\n",
       "    <tr>\n",
       "      <th>461</th>\n",
       "      <td>Pam</td>\n",
       "      <td>Jim</td>\n",
       "      <td>383.069242</td>\n",
       "    </tr>\n",
       "  </tbody>\n",
       "</table>\n",
       "<p>615 rows × 3 columns</p>\n",
       "</div>"
      ],
      "text/plain": [
       "     speaker1  speaker2  total_interaction_factor\n",
       "78      Creed  DeAngelo                  0.012821\n",
       "148  DeAngelo   Phyllis                  0.022222\n",
       "138  DeAngelo    Angela                  0.022222\n",
       "405      Nate   Michael                  0.022222\n",
       "281        Jo  DeAngelo                  0.022222\n",
       "..        ...       ...                       ...\n",
       "383   Michael       Jim                156.731197\n",
       "390   Michael       Pam                200.843173\n",
       "189    Dwight       Jim                260.987302\n",
       "198    Dwight   Michael                343.880281\n",
       "461       Pam       Jim                383.069242\n",
       "\n",
       "[615 rows x 3 columns]"
      ]
     },
     "execution_count": 11,
     "metadata": {},
     "output_type": "execute_result"
    }
   ],
   "source": [
    "#full series\n",
    "data = co_df.groupby(['speaker1','speaker2'])['interaction_factor'].sum().reset_index(name='total_interaction_factor')\n",
    "data.sort_values('total_interaction_factor')"
   ]
  },
  {
   "cell_type": "code",
   "execution_count": 12,
   "metadata": {
    "ExecuteTime": {
     "end_time": "2021-03-19T11:58:32.513674Z",
     "start_time": "2021-03-19T11:58:32.196488Z"
    }
   },
   "outputs": [
    {
     "data": {
      "text/plain": [
       "<matplotlib.axes._subplots.AxesSubplot at 0x7f208c6ae580>"
      ]
     },
     "execution_count": 12,
     "metadata": {},
     "output_type": "execute_result"
    },
    {
     "data": {
      "image/png": "[encoded data removed]",
      "text/plain": [
       "<Figure size 432x288 with 1 Axes>"
      ]
     },
     "metadata": {
      "needs_background": "light"
     },
     "output_type": "display_data"
    }
   ],
   "source": [
    "#check histogram\n",
    "data['total_interaction_factor'].hist()"
   ]
  },
  {
   "cell_type": "markdown",
   "metadata": {},
   "source": [
    "**Filter 1**: Remove pairs with total_interaction_factor<2"
   ]
  },
  {
   "cell_type": "code",
   "execution_count": 13,
   "metadata": {
    "ExecuteTime": {
     "end_time": "2021-03-19T12:00:06.513412Z",
     "start_time": "2021-03-19T12:00:06.506222Z"
    }
   },
   "outputs": [],
   "source": [
    "data = data[data['total_interaction_factor']>2]"
   ]
  },
  {
   "cell_type": "markdown",
   "metadata": {},
   "source": [
    "**Filter 2**: Get only top N interacting speaker pairs"
   ]
  },
  {
   "cell_type": "code",
   "execution_count": 14,
   "metadata": {
    "ExecuteTime": {
     "end_time": "2021-03-19T12:11:58.564190Z",
     "start_time": "2021-03-19T12:11:58.529642Z"
    }
   },
   "outputs": [
    {
     "data": {
      "text/plain": [
       "28.9813553113553"
      ]
     },
     "execution_count": 14,
     "metadata": {},
     "output_type": "execute_result"
    }
   ],
   "source": [
    "#use quantiles to get a threshold\n",
    "threshold = data['total_interaction_factor'].quantile(0.85)\n",
    "threshold"
   ]
  },
  {
   "cell_type": "code",
   "execution_count": 15,
   "metadata": {
    "ExecuteTime": {
     "end_time": "2021-03-19T12:12:13.743208Z",
     "start_time": "2021-03-19T12:12:13.731148Z"
    }
   },
   "outputs": [
    {
     "name": "stdout",
     "output_type": "stream",
     "text": [
      "272\n",
      "41\n"
     ]
    }
   ],
   "source": [
    "print(len(data))\n",
    "network_data = data[data['total_interaction_factor']>threshold]\n",
    "print(len(network_data))"
   ]
  },
  {
   "cell_type": "code",
   "execution_count": 16,
   "metadata": {
    "ExecuteTime": {
     "end_time": "2021-03-19T12:12:20.791745Z",
     "start_time": "2021-03-19T12:12:20.760896Z"
    },
    "scrolled": true
   },
   "outputs": [
    {
     "data": {
      "text/html": [
       "<div>\n",
       "<style scoped>\n",
       "    .dataframe tbody tr th:only-of-type {\n",
       "        vertical-align: middle;\n",
       "    }\n",
       "\n",
       "    .dataframe tbody tr th {\n",
       "        vertical-align: top;\n",
       "    }\n",
       "\n",
       "    .dataframe thead th {\n",
       "        text-align: right;\n",
       "    }\n",
       "</style>\n",
       "<table border=\"1\" class=\"dataframe\">\n",
       "  <thead>\n",
       "    <tr style=\"text-align: right;\">\n",
       "      <th></th>\n",
       "      <th>speaker1</th>\n",
       "      <th>speaker2</th>\n",
       "      <th>total_interaction_factor</th>\n",
       "    </tr>\n",
       "  </thead>\n",
       "  <tbody>\n",
       "    <tr>\n",
       "      <th>321</th>\n",
       "      <td>Kelly</td>\n",
       "      <td>Michael</td>\n",
       "      <td>29.251832</td>\n",
       "    </tr>\n",
       "    <tr>\n",
       "      <th>195</th>\n",
       "      <td>Dwight</td>\n",
       "      <td>Kevin</td>\n",
       "      <td>30.328571</td>\n",
       "    </tr>\n",
       "    <tr>\n",
       "      <th>466</th>\n",
       "      <td>Pam</td>\n",
       "      <td>Ryan</td>\n",
       "      <td>30.740720</td>\n",
       "    </tr>\n",
       "    <tr>\n",
       "      <th>201</th>\n",
       "      <td>Dwight</td>\n",
       "      <td>Oscar</td>\n",
       "      <td>31.473016</td>\n",
       "    </tr>\n",
       "    <tr>\n",
       "      <th>0</th>\n",
       "      <td>Andy</td>\n",
       "      <td>Angela</td>\n",
       "      <td>32.018448</td>\n",
       "    </tr>\n",
       "    <tr>\n",
       "      <th>564</th>\n",
       "      <td>Stanley</td>\n",
       "      <td>Phyllis</td>\n",
       "      <td>32.127178</td>\n",
       "    </tr>\n",
       "    <tr>\n",
       "      <th>183</th>\n",
       "      <td>Dwight</td>\n",
       "      <td>Erin</td>\n",
       "      <td>33.816450</td>\n",
       "    </tr>\n",
       "    <tr>\n",
       "      <th>373</th>\n",
       "      <td>Michael</td>\n",
       "      <td>Angela</td>\n",
       "      <td>34.847813</td>\n",
       "    </tr>\n",
       "    <tr>\n",
       "      <th>329</th>\n",
       "      <td>Kelly</td>\n",
       "      <td>Ryan</td>\n",
       "      <td>35.644616</td>\n",
       "    </tr>\n",
       "    <tr>\n",
       "      <th>123</th>\n",
       "      <td>David</td>\n",
       "      <td>Michael</td>\n",
       "      <td>36.166667</td>\n",
       "    </tr>\n",
       "    <tr>\n",
       "      <th>14</th>\n",
       "      <td>Andy</td>\n",
       "      <td>Kevin</td>\n",
       "      <td>37.882784</td>\n",
       "    </tr>\n",
       "    <tr>\n",
       "      <th>343</th>\n",
       "      <td>Kevin</td>\n",
       "      <td>Jim</td>\n",
       "      <td>37.962149</td>\n",
       "    </tr>\n",
       "    <tr>\n",
       "      <th>347</th>\n",
       "      <td>Kevin</td>\n",
       "      <td>Pam</td>\n",
       "      <td>38.433528</td>\n",
       "    </tr>\n",
       "    <tr>\n",
       "      <th>205</th>\n",
       "      <td>Dwight</td>\n",
       "      <td>Phyllis</td>\n",
       "      <td>38.915995</td>\n",
       "    </tr>\n",
       "    <tr>\n",
       "      <th>35</th>\n",
       "      <td>Angela</td>\n",
       "      <td>Pam</td>\n",
       "      <td>39.631025</td>\n",
       "    </tr>\n",
       "    <tr>\n",
       "      <th>558</th>\n",
       "      <td>Stanley</td>\n",
       "      <td>Michael</td>\n",
       "      <td>42.139927</td>\n",
       "    </tr>\n",
       "    <tr>\n",
       "      <th>346</th>\n",
       "      <td>Kevin</td>\n",
       "      <td>Oscar</td>\n",
       "      <td>42.702625</td>\n",
       "    </tr>\n",
       "    <tr>\n",
       "      <th>379</th>\n",
       "      <td>Michael</td>\n",
       "      <td>Erin</td>\n",
       "      <td>43.053030</td>\n",
       "    </tr>\n",
       "    <tr>\n",
       "      <th>17</th>\n",
       "      <td>Andy</td>\n",
       "      <td>Pam</td>\n",
       "      <td>43.317777</td>\n",
       "    </tr>\n",
       "    <tr>\n",
       "      <th>34</th>\n",
       "      <td>Angela</td>\n",
       "      <td>Oscar</td>\n",
       "      <td>44.463564</td>\n",
       "    </tr>\n",
       "    <tr>\n",
       "      <th>208</th>\n",
       "      <td>Dwight</td>\n",
       "      <td>Ryan</td>\n",
       "      <td>44.536558</td>\n",
       "    </tr>\n",
       "    <tr>\n",
       "      <th>377</th>\n",
       "      <td>Michael</td>\n",
       "      <td>Darryl</td>\n",
       "      <td>45.729537</td>\n",
       "    </tr>\n",
       "    <tr>\n",
       "      <th>4</th>\n",
       "      <td>Andy</td>\n",
       "      <td>Darryl</td>\n",
       "      <td>46.727228</td>\n",
       "    </tr>\n",
       "    <tr>\n",
       "      <th>297</th>\n",
       "      <td>Karen</td>\n",
       "      <td>Jim</td>\n",
       "      <td>46.750000</td>\n",
       "    </tr>\n",
       "    <tr>\n",
       "      <th>591</th>\n",
       "      <td>Toby</td>\n",
       "      <td>Michael</td>\n",
       "      <td>52.467827</td>\n",
       "    </tr>\n",
       "    <tr>\n",
       "      <th>387</th>\n",
       "      <td>Michael</td>\n",
       "      <td>Kevin</td>\n",
       "      <td>55.201038</td>\n",
       "    </tr>\n",
       "    <tr>\n",
       "      <th>389</th>\n",
       "      <td>Michael</td>\n",
       "      <td>Oscar</td>\n",
       "      <td>58.601038</td>\n",
       "    </tr>\n",
       "    <tr>\n",
       "      <th>372</th>\n",
       "      <td>Michael</td>\n",
       "      <td>Andy</td>\n",
       "      <td>63.811477</td>\n",
       "    </tr>\n",
       "    <tr>\n",
       "      <th>381</th>\n",
       "      <td>Michael</td>\n",
       "      <td>Holly</td>\n",
       "      <td>67.163614</td>\n",
       "    </tr>\n",
       "    <tr>\n",
       "      <th>393</th>\n",
       "      <td>Michael</td>\n",
       "      <td>Ryan</td>\n",
       "      <td>83.944811</td>\n",
       "    </tr>\n",
       "    <tr>\n",
       "      <th>203</th>\n",
       "      <td>Dwight</td>\n",
       "      <td>Pam</td>\n",
       "      <td>92.277850</td>\n",
       "    </tr>\n",
       "    <tr>\n",
       "      <th>11</th>\n",
       "      <td>Andy</td>\n",
       "      <td>Jim</td>\n",
       "      <td>92.804212</td>\n",
       "    </tr>\n",
       "    <tr>\n",
       "      <th>382</th>\n",
       "      <td>Michael</td>\n",
       "      <td>Jan</td>\n",
       "      <td>95.785714</td>\n",
       "    </tr>\n",
       "    <tr>\n",
       "      <th>169</th>\n",
       "      <td>Dwight</td>\n",
       "      <td>Andy</td>\n",
       "      <td>96.831868</td>\n",
       "    </tr>\n",
       "    <tr>\n",
       "      <th>6</th>\n",
       "      <td>Andy</td>\n",
       "      <td>Erin</td>\n",
       "      <td>99.767244</td>\n",
       "    </tr>\n",
       "    <tr>\n",
       "      <th>170</th>\n",
       "      <td>Dwight</td>\n",
       "      <td>Angela</td>\n",
       "      <td>105.482734</td>\n",
       "    </tr>\n",
       "    <tr>\n",
       "      <th>383</th>\n",
       "      <td>Michael</td>\n",
       "      <td>Jim</td>\n",
       "      <td>156.731197</td>\n",
       "    </tr>\n",
       "    <tr>\n",
       "      <th>390</th>\n",
       "      <td>Michael</td>\n",
       "      <td>Pam</td>\n",
       "      <td>200.843173</td>\n",
       "    </tr>\n",
       "    <tr>\n",
       "      <th>189</th>\n",
       "      <td>Dwight</td>\n",
       "      <td>Jim</td>\n",
       "      <td>260.987302</td>\n",
       "    </tr>\n",
       "    <tr>\n",
       "      <th>198</th>\n",
       "      <td>Dwight</td>\n",
       "      <td>Michael</td>\n",
       "      <td>343.880281</td>\n",
       "    </tr>\n",
       "    <tr>\n",
       "      <th>461</th>\n",
       "      <td>Pam</td>\n",
       "      <td>Jim</td>\n",
       "      <td>383.069242</td>\n",
       "    </tr>\n",
       "  </tbody>\n",
       "</table>\n",
       "</div>"
      ],
      "text/plain": [
       "    speaker1 speaker2  total_interaction_factor\n",
       "321    Kelly  Michael                 29.251832\n",
       "195   Dwight    Kevin                 30.328571\n",
       "466      Pam     Ryan                 30.740720\n",
       "201   Dwight    Oscar                 31.473016\n",
       "0       Andy   Angela                 32.018448\n",
       "564  Stanley  Phyllis                 32.127178\n",
       "183   Dwight     Erin                 33.816450\n",
       "373  Michael   Angela                 34.847813\n",
       "329    Kelly     Ryan                 35.644616\n",
       "123    David  Michael                 36.166667\n",
       "14      Andy    Kevin                 37.882784\n",
       "343    Kevin      Jim                 37.962149\n",
       "347    Kevin      Pam                 38.433528\n",
       "205   Dwight  Phyllis                 38.915995\n",
       "35    Angela      Pam                 39.631025\n",
       "558  Stanley  Michael                 42.139927\n",
       "346    Kevin    Oscar                 42.702625\n",
       "379  Michael     Erin                 43.053030\n",
       "17      Andy      Pam                 43.317777\n",
       "34    Angela    Oscar                 44.463564\n",
       "208   Dwight     Ryan                 44.536558\n",
       "377  Michael   Darryl                 45.729537\n",
       "4       Andy   Darryl                 46.727228\n",
       "297    Karen      Jim                 46.750000\n",
       "591     Toby  Michael                 52.467827\n",
       "387  Michael    Kevin                 55.201038\n",
       "389  Michael    Oscar                 58.601038\n",
       "372  Michael     Andy                 63.811477\n",
       "381  Michael    Holly                 67.163614\n",
       "393  Michael     Ryan                 83.944811\n",
       "203   Dwight      Pam                 92.277850\n",
       "11      Andy      Jim                 92.804212\n",
       "382  Michael      Jan                 95.785714\n",
       "169   Dwight     Andy                 96.831868\n",
       "6       Andy     Erin                 99.767244\n",
       "170   Dwight   Angela                105.482734\n",
       "383  Michael      Jim                156.731197\n",
       "390  Michael      Pam                200.843173\n",
       "189   Dwight      Jim                260.987302\n",
       "198   Dwight  Michael                343.880281\n",
       "461      Pam      Jim                383.069242"
      ]
     },
     "execution_count": 16,
     "metadata": {},
     "output_type": "execute_result"
    }
   ],
   "source": [
    "network_data.sort_values('total_interaction_factor')"
   ]
  },
  {
   "cell_type": "markdown",
   "metadata": {},
   "source": [
    "## Constructing the network"
   ]
  },
  {
   "cell_type": "code",
   "execution_count": 17,
   "metadata": {
    "ExecuteTime": {
     "end_time": "2021-03-19T12:12:47.665392Z",
     "start_time": "2021-03-19T12:12:46.806650Z"
    }
   },
   "outputs": [],
   "source": [
    "import networkx as nx"
   ]
  },
  {
   "cell_type": "code",
   "execution_count": 18,
   "metadata": {
    "ExecuteTime": {
     "end_time": "2021-03-19T12:13:21.128447Z",
     "start_time": "2021-03-19T12:13:21.110203Z"
    }
   },
   "outputs": [],
   "source": [
    "#build network from edgelist\n",
    "G = nx.from_pandas_edgelist(network_data, source='speaker1', target='speaker2', edge_attr='total_interaction_factor')\n"
   ]
  },
  {
   "cell_type": "code",
   "execution_count": 19,
   "metadata": {
    "ExecuteTime": {
     "end_time": "2021-03-19T12:13:39.481774Z",
     "start_time": "2021-03-19T12:13:38.978688Z"
    }
   },
   "outputs": [
    {
     "data": {
      "image/png": "[encoded data removed]",
      "text/plain": [
       "<Figure size 432x288 with 1 Axes>"
      ]
     },
     "metadata": {},
     "output_type": "display_data"
    }
   ],
   "source": [
    "#plot network\n",
    "nx.draw(G,with_labels = True)"
   ]
  },
  {
   "cell_type": "markdown",
   "metadata": {},
   "source": [
    "## Network Navigation and Metrics"
   ]
  },
  {
   "cell_type": "markdown",
   "metadata": {},
   "source": [
    "### Navigating the network"
   ]
  },
  {
   "cell_type": "code",
   "execution_count": 20,
   "metadata": {
    "ExecuteTime": {
     "end_time": "2021-03-19T12:17:40.942751Z",
     "start_time": "2021-03-19T12:17:40.933582Z"
    }
   },
   "outputs": [
    {
     "data": {
      "text/plain": [
       "NodeView(('Andy', 'Angela', 'Darryl', 'Erin', 'Jim', 'Kevin', 'Pam', 'Oscar', 'David', 'Michael', 'Dwight', 'Phyllis', 'Ryan', 'Karen', 'Kelly', 'Holly', 'Jan', 'Stanley', 'Toby'))"
      ]
     },
     "execution_count": 20,
     "metadata": {},
     "output_type": "execute_result"
    }
   ],
   "source": [
    "#get all nodes\n",
    "G.nodes()"
   ]
  },
  {
   "cell_type": "code",
   "execution_count": 21,
   "metadata": {
    "ExecuteTime": {
     "end_time": "2021-03-19T12:17:53.383843Z",
     "start_time": "2021-03-19T12:17:53.373175Z"
    }
   },
   "outputs": [
    {
     "data": {
      "text/plain": [
       "EdgeView([('Andy', 'Angela'), ('Andy', 'Darryl'), ('Andy', 'Erin'), ('Andy', 'Jim'), ('Andy', 'Kevin'), ('Andy', 'Pam'), ('Andy', 'Dwight'), ('Andy', 'Michael'), ('Angela', 'Oscar'), ('Angela', 'Pam'), ('Angela', 'Dwight'), ('Angela', 'Michael'), ('Darryl', 'Michael'), ('Erin', 'Dwight'), ('Erin', 'Michael'), ('Jim', 'Dwight'), ('Jim', 'Karen'), ('Jim', 'Kevin'), ('Jim', 'Michael'), ('Jim', 'Pam'), ('Kevin', 'Dwight'), ('Kevin', 'Oscar'), ('Kevin', 'Pam'), ('Kevin', 'Michael'), ('Pam', 'Dwight'), ('Pam', 'Michael'), ('Pam', 'Ryan'), ('Oscar', 'Dwight'), ('Oscar', 'Michael'), ('David', 'Michael'), ('Michael', 'Dwight'), ('Michael', 'Kelly'), ('Michael', 'Holly'), ('Michael', 'Jan'), ('Michael', 'Ryan'), ('Michael', 'Stanley'), ('Michael', 'Toby'), ('Dwight', 'Phyllis'), ('Dwight', 'Ryan'), ('Phyllis', 'Stanley'), ('Ryan', 'Kelly')])"
      ]
     },
     "execution_count": 21,
     "metadata": {},
     "output_type": "execute_result"
    }
   ],
   "source": [
    "#get all edges\n",
    "G.edges()"
   ]
  },
  {
   "cell_type": "code",
   "execution_count": 22,
   "metadata": {
    "ExecuteTime": {
     "end_time": "2021-03-19T12:18:28.293684Z",
     "start_time": "2021-03-19T12:18:28.282307Z"
    }
   },
   "outputs": [
    {
     "data": {
      "text/plain": [
       "['Andy', 'Angela', 'Dwight', 'Kevin', 'Michael', 'Jim', 'Ryan']"
      ]
     },
     "execution_count": 22,
     "metadata": {},
     "output_type": "execute_result"
    }
   ],
   "source": [
    "#get neighbors\n",
    "list(G.neighbors(\"Pam\"))"
   ]
  },
  {
   "cell_type": "markdown",
   "metadata": {},
   "source": [
    "A subgraph is a portion of a larger graph"
   ]
  },
  {
   "cell_type": "code",
   "execution_count": 23,
   "metadata": {
    "ExecuteTime": {
     "end_time": "2021-03-19T12:19:26.913287Z",
     "start_time": "2021-03-19T12:19:26.572870Z"
    }
   },
   "outputs": [
    {
     "data": {
      "image/png": "[encoded data removed]",
      "text/plain": [
       "<Figure size 432x288 with 1 Axes>"
      ]
     },
     "metadata": {},
     "output_type": "display_data"
    }
   ],
   "source": [
    "#subgraph of neighbors\n",
    "Gsub = G.subgraph(list(G.neighbors(\"Pam\"))+[\"Pam\"])\n",
    "nx.draw(Gsub,with_labels = True)"
   ]
  },
  {
   "cell_type": "code",
   "execution_count": 24,
   "metadata": {
    "ExecuteTime": {
     "end_time": "2021-03-19T12:20:32.237238Z",
     "start_time": "2021-03-19T12:20:32.222166Z"
    }
   },
   "outputs": [
    {
     "data": {
      "text/plain": [
       "['Kelly', 'Michael', 'Toby']"
      ]
     },
     "execution_count": 24,
     "metadata": {},
     "output_type": "execute_result"
    }
   ],
   "source": [
    "#shortest path\n",
    "nx.shortest_path(G,\"Kelly\",\"Toby\")"
   ]
  },
  {
   "cell_type": "code",
   "execution_count": 25,
   "metadata": {
    "ExecuteTime": {
     "end_time": "2021-03-19T12:21:29.608325Z",
     "start_time": "2021-03-19T12:21:29.598632Z"
    }
   },
   "outputs": [
    {
     "name": "stdout",
     "output_type": "stream",
     "text": [
      "1.8654970760233918\n"
     ]
    }
   ],
   "source": [
    "#average path length\n",
    "print(nx.average_shortest_path_length(G))"
   ]
  },
  {
   "cell_type": "markdown",
   "metadata": {},
   "source": [
    "Average path length values: \n",
    "\n",
    "> exactly 1 = characters are 1 edge apart; all characters are directly connected to each other\n",
    "\n",
    "> 1.0 to 2.0 = characters are 1-2 edges apart\n",
    "\n",
    "> 2.0 above = characters are 2+ edges apart; a character most often stands in between 2 others (>3.0 unlikely for sitcoms)"
   ]
  },
  {
   "cell_type": "markdown",
   "metadata": {},
   "source": [
    "### Centrality Measures"
   ]
  },
  {
   "cell_type": "markdown",
   "metadata": {},
   "source": [
    "1. **Degree**\n",
    "Degree is the number of edges connected to a node. "
   ]
  },
  {
   "cell_type": "code",
   "execution_count": 26,
   "metadata": {
    "ExecuteTime": {
     "end_time": "2021-03-19T12:24:06.881712Z",
     "start_time": "2021-03-19T12:24:06.873506Z"
    }
   },
   "outputs": [
    {
     "data": {
      "text/plain": [
       "DegreeView({'Andy': 8, 'Angela': 5, 'Darryl': 2, 'Erin': 3, 'Jim': 6, 'Kevin': 6, 'Pam': 7, 'Oscar': 4, 'David': 1, 'Michael': 16, 'Dwight': 10, 'Phyllis': 2, 'Ryan': 4, 'Karen': 1, 'Kelly': 2, 'Holly': 1, 'Jan': 1, 'Stanley': 2, 'Toby': 1})"
      ]
     },
     "execution_count": 26,
     "metadata": {},
     "output_type": "execute_result"
    }
   ],
   "source": [
    "G.degree()"
   ]
  },
  {
   "cell_type": "code",
   "execution_count": 27,
   "metadata": {
    "ExecuteTime": {
     "end_time": "2021-03-19T12:24:24.039168Z",
     "start_time": "2021-03-19T12:24:24.025371Z"
    },
    "scrolled": true
   },
   "outputs": [
    {
     "data": {
      "text/html": [
       "<div>\n",
       "<style scoped>\n",
       "    .dataframe tbody tr th:only-of-type {\n",
       "        vertical-align: middle;\n",
       "    }\n",
       "\n",
       "    .dataframe tbody tr th {\n",
       "        vertical-align: top;\n",
       "    }\n",
       "\n",
       "    .dataframe thead th {\n",
       "        text-align: right;\n",
       "    }\n",
       "</style>\n",
       "<table border=\"1\" class=\"dataframe\">\n",
       "  <thead>\n",
       "    <tr style=\"text-align: right;\">\n",
       "      <th></th>\n",
       "      <th>character</th>\n",
       "      <th>degree</th>\n",
       "    </tr>\n",
       "  </thead>\n",
       "  <tbody>\n",
       "    <tr>\n",
       "      <th>0</th>\n",
       "      <td>Andy</td>\n",
       "      <td>8</td>\n",
       "    </tr>\n",
       "    <tr>\n",
       "      <th>1</th>\n",
       "      <td>Angela</td>\n",
       "      <td>5</td>\n",
       "    </tr>\n",
       "    <tr>\n",
       "      <th>2</th>\n",
       "      <td>Darryl</td>\n",
       "      <td>2</td>\n",
       "    </tr>\n",
       "    <tr>\n",
       "      <th>3</th>\n",
       "      <td>Erin</td>\n",
       "      <td>3</td>\n",
       "    </tr>\n",
       "    <tr>\n",
       "      <th>4</th>\n",
       "      <td>Jim</td>\n",
       "      <td>6</td>\n",
       "    </tr>\n",
       "    <tr>\n",
       "      <th>5</th>\n",
       "      <td>Kevin</td>\n",
       "      <td>6</td>\n",
       "    </tr>\n",
       "    <tr>\n",
       "      <th>6</th>\n",
       "      <td>Pam</td>\n",
       "      <td>7</td>\n",
       "    </tr>\n",
       "    <tr>\n",
       "      <th>7</th>\n",
       "      <td>Oscar</td>\n",
       "      <td>4</td>\n",
       "    </tr>\n",
       "    <tr>\n",
       "      <th>8</th>\n",
       "      <td>David</td>\n",
       "      <td>1</td>\n",
       "    </tr>\n",
       "    <tr>\n",
       "      <th>9</th>\n",
       "      <td>Michael</td>\n",
       "      <td>16</td>\n",
       "    </tr>\n",
       "    <tr>\n",
       "      <th>10</th>\n",
       "      <td>Dwight</td>\n",
       "      <td>10</td>\n",
       "    </tr>\n",
       "    <tr>\n",
       "      <th>11</th>\n",
       "      <td>Phyllis</td>\n",
       "      <td>2</td>\n",
       "    </tr>\n",
       "    <tr>\n",
       "      <th>12</th>\n",
       "      <td>Ryan</td>\n",
       "      <td>4</td>\n",
       "    </tr>\n",
       "    <tr>\n",
       "      <th>13</th>\n",
       "      <td>Karen</td>\n",
       "      <td>1</td>\n",
       "    </tr>\n",
       "    <tr>\n",
       "      <th>14</th>\n",
       "      <td>Kelly</td>\n",
       "      <td>2</td>\n",
       "    </tr>\n",
       "    <tr>\n",
       "      <th>15</th>\n",
       "      <td>Holly</td>\n",
       "      <td>1</td>\n",
       "    </tr>\n",
       "    <tr>\n",
       "      <th>16</th>\n",
       "      <td>Jan</td>\n",
       "      <td>1</td>\n",
       "    </tr>\n",
       "    <tr>\n",
       "      <th>17</th>\n",
       "      <td>Stanley</td>\n",
       "      <td>2</td>\n",
       "    </tr>\n",
       "    <tr>\n",
       "      <th>18</th>\n",
       "      <td>Toby</td>\n",
       "      <td>1</td>\n",
       "    </tr>\n",
       "  </tbody>\n",
       "</table>\n",
       "</div>"
      ],
      "text/plain": [
       "   character  degree\n",
       "0       Andy       8\n",
       "1     Angela       5\n",
       "2     Darryl       2\n",
       "3       Erin       3\n",
       "4        Jim       6\n",
       "5      Kevin       6\n",
       "6        Pam       7\n",
       "7      Oscar       4\n",
       "8      David       1\n",
       "9    Michael      16\n",
       "10    Dwight      10\n",
       "11   Phyllis       2\n",
       "12      Ryan       4\n",
       "13     Karen       1\n",
       "14     Kelly       2\n",
       "15     Holly       1\n",
       "16       Jan       1\n",
       "17   Stanley       2\n",
       "18      Toby       1"
      ]
     },
     "execution_count": 27,
     "metadata": {},
     "output_type": "execute_result"
    }
   ],
   "source": [
    "#degree\n",
    "metrics_df = pd.DataFrame(G.degree(), columns=['character','degree'])\n",
    "metrics_df"
   ]
  },
  {
   "cell_type": "markdown",
   "metadata": {},
   "source": [
    "2. **Betweenness centrality**\n",
    "Betweenness centrality measures the number of times a node is present in the shortest path between 2 other nodes"
   ]
  },
  {
   "cell_type": "code",
   "execution_count": 28,
   "metadata": {
    "ExecuteTime": {
     "end_time": "2021-03-19T12:25:44.747662Z",
     "start_time": "2021-03-19T12:25:44.736548Z"
    }
   },
   "outputs": [
    {
     "data": {
      "text/plain": [
       "{'Andy': 0.04052287581699347,\n",
       " 'Angela': 0.0032679738562091504,\n",
       " 'Darryl': 0.0,\n",
       " 'Erin': 0.0,\n",
       " 'Jim': 0.11111111111111112,\n",
       " 'Kevin': 0.007625272331154683,\n",
       " 'Pam': 0.015468409586056643,\n",
       " 'Oscar': 0.0013071895424836603,\n",
       " 'David': 0.0,\n",
       " 'Michael': 0.6276688453159042,\n",
       " 'Dwight': 0.12766884531590414,\n",
       " 'Phyllis': 0.0032679738562091504,\n",
       " 'Ryan': 0.008714596949891067,\n",
       " 'Karen': 0.0,\n",
       " 'Kelly': 0.0,\n",
       " 'Holly': 0.0,\n",
       " 'Jan': 0.0,\n",
       " 'Stanley': 0.020697167755991286,\n",
       " 'Toby': 0.0}"
      ]
     },
     "execution_count": 28,
     "metadata": {},
     "output_type": "execute_result"
    }
   ],
   "source": [
    "nx.betweenness_centrality(G)"
   ]
  },
  {
   "cell_type": "code",
   "execution_count": 29,
   "metadata": {
    "ExecuteTime": {
     "end_time": "2021-03-19T12:26:12.812440Z",
     "start_time": "2021-03-19T12:26:12.775405Z"
    },
    "scrolled": true
   },
   "outputs": [
    {
     "data": {
      "text/html": [
       "<div>\n",
       "<style scoped>\n",
       "    .dataframe tbody tr th:only-of-type {\n",
       "        vertical-align: middle;\n",
       "    }\n",
       "\n",
       "    .dataframe tbody tr th {\n",
       "        vertical-align: top;\n",
       "    }\n",
       "\n",
       "    .dataframe thead th {\n",
       "        text-align: right;\n",
       "    }\n",
       "</style>\n",
       "<table border=\"1\" class=\"dataframe\">\n",
       "  <thead>\n",
       "    <tr style=\"text-align: right;\">\n",
       "      <th></th>\n",
       "      <th>character</th>\n",
       "      <th>degree</th>\n",
       "      <th>betweenness_c</th>\n",
       "    </tr>\n",
       "  </thead>\n",
       "  <tbody>\n",
       "    <tr>\n",
       "      <th>0</th>\n",
       "      <td>Andy</td>\n",
       "      <td>8</td>\n",
       "      <td>0.040523</td>\n",
       "    </tr>\n",
       "    <tr>\n",
       "      <th>1</th>\n",
       "      <td>Angela</td>\n",
       "      <td>5</td>\n",
       "      <td>0.003268</td>\n",
       "    </tr>\n",
       "    <tr>\n",
       "      <th>2</th>\n",
       "      <td>Darryl</td>\n",
       "      <td>2</td>\n",
       "      <td>0.000000</td>\n",
       "    </tr>\n",
       "    <tr>\n",
       "      <th>3</th>\n",
       "      <td>Erin</td>\n",
       "      <td>3</td>\n",
       "      <td>0.000000</td>\n",
       "    </tr>\n",
       "    <tr>\n",
       "      <th>4</th>\n",
       "      <td>Jim</td>\n",
       "      <td>6</td>\n",
       "      <td>0.111111</td>\n",
       "    </tr>\n",
       "    <tr>\n",
       "      <th>5</th>\n",
       "      <td>Kevin</td>\n",
       "      <td>6</td>\n",
       "      <td>0.007625</td>\n",
       "    </tr>\n",
       "    <tr>\n",
       "      <th>6</th>\n",
       "      <td>Pam</td>\n",
       "      <td>7</td>\n",
       "      <td>0.015468</td>\n",
       "    </tr>\n",
       "    <tr>\n",
       "      <th>7</th>\n",
       "      <td>Oscar</td>\n",
       "      <td>4</td>\n",
       "      <td>0.001307</td>\n",
       "    </tr>\n",
       "    <tr>\n",
       "      <th>8</th>\n",
       "      <td>David</td>\n",
       "      <td>1</td>\n",
       "      <td>0.000000</td>\n",
       "    </tr>\n",
       "    <tr>\n",
       "      <th>9</th>\n",
       "      <td>Michael</td>\n",
       "      <td>16</td>\n",
       "      <td>0.627669</td>\n",
       "    </tr>\n",
       "    <tr>\n",
       "      <th>10</th>\n",
       "      <td>Dwight</td>\n",
       "      <td>10</td>\n",
       "      <td>0.127669</td>\n",
       "    </tr>\n",
       "    <tr>\n",
       "      <th>11</th>\n",
       "      <td>Phyllis</td>\n",
       "      <td>2</td>\n",
       "      <td>0.003268</td>\n",
       "    </tr>\n",
       "    <tr>\n",
       "      <th>12</th>\n",
       "      <td>Ryan</td>\n",
       "      <td>4</td>\n",
       "      <td>0.008715</td>\n",
       "    </tr>\n",
       "    <tr>\n",
       "      <th>13</th>\n",
       "      <td>Karen</td>\n",
       "      <td>1</td>\n",
       "      <td>0.000000</td>\n",
       "    </tr>\n",
       "    <tr>\n",
       "      <th>14</th>\n",
       "      <td>Kelly</td>\n",
       "      <td>2</td>\n",
       "      <td>0.000000</td>\n",
       "    </tr>\n",
       "    <tr>\n",
       "      <th>15</th>\n",
       "      <td>Holly</td>\n",
       "      <td>1</td>\n",
       "      <td>0.000000</td>\n",
       "    </tr>\n",
       "    <tr>\n",
       "      <th>16</th>\n",
       "      <td>Jan</td>\n",
       "      <td>1</td>\n",
       "      <td>0.000000</td>\n",
       "    </tr>\n",
       "    <tr>\n",
       "      <th>17</th>\n",
       "      <td>Stanley</td>\n",
       "      <td>2</td>\n",
       "      <td>0.020697</td>\n",
       "    </tr>\n",
       "    <tr>\n",
       "      <th>18</th>\n",
       "      <td>Toby</td>\n",
       "      <td>1</td>\n",
       "      <td>0.000000</td>\n",
       "    </tr>\n",
       "  </tbody>\n",
       "</table>\n",
       "</div>"
      ],
      "text/plain": [
       "   character  degree  betweenness_c\n",
       "0       Andy       8       0.040523\n",
       "1     Angela       5       0.003268\n",
       "2     Darryl       2       0.000000\n",
       "3       Erin       3       0.000000\n",
       "4        Jim       6       0.111111\n",
       "5      Kevin       6       0.007625\n",
       "6        Pam       7       0.015468\n",
       "7      Oscar       4       0.001307\n",
       "8      David       1       0.000000\n",
       "9    Michael      16       0.627669\n",
       "10    Dwight      10       0.127669\n",
       "11   Phyllis       2       0.003268\n",
       "12      Ryan       4       0.008715\n",
       "13     Karen       1       0.000000\n",
       "14     Kelly       2       0.000000\n",
       "15     Holly       1       0.000000\n",
       "16       Jan       1       0.000000\n",
       "17   Stanley       2       0.020697\n",
       "18      Toby       1       0.000000"
      ]
     },
     "execution_count": 29,
     "metadata": {},
     "output_type": "execute_result"
    }
   ],
   "source": [
    "#betweenness centrality\n",
    "bc_df = pd.DataFrame(nx.betweenness_centrality(G).items(), columns=['character','betweenness_c'])\n",
    "metrics_df = metrics_df.merge(bc_df, on='character', how='left')\n",
    "metrics_df\n",
    "#bw_vals"
   ]
  },
  {
   "cell_type": "markdown",
   "metadata": {},
   "source": [
    "3. **Eigenvector centrality**\n",
    "Eigenvector centrality measures a node’s importance while giving consideration to the importance of its neighbors. "
   ]
  },
  {
   "cell_type": "code",
   "execution_count": 30,
   "metadata": {
    "ExecuteTime": {
     "end_time": "2021-03-19T12:29:04.666513Z",
     "start_time": "2021-03-19T12:29:04.613467Z"
    }
   },
   "outputs": [
    {
     "data": {
      "text/html": [
       "<div>\n",
       "<style scoped>\n",
       "    .dataframe tbody tr th:only-of-type {\n",
       "        vertical-align: middle;\n",
       "    }\n",
       "\n",
       "    .dataframe tbody tr th {\n",
       "        vertical-align: top;\n",
       "    }\n",
       "\n",
       "    .dataframe thead th {\n",
       "        text-align: right;\n",
       "    }\n",
       "</style>\n",
       "<table border=\"1\" class=\"dataframe\">\n",
       "  <thead>\n",
       "    <tr style=\"text-align: right;\">\n",
       "      <th></th>\n",
       "      <th>character</th>\n",
       "      <th>degree</th>\n",
       "      <th>betweenness_c</th>\n",
       "      <th>eigenvector_c</th>\n",
       "    </tr>\n",
       "  </thead>\n",
       "  <tbody>\n",
       "    <tr>\n",
       "      <th>0</th>\n",
       "      <td>Andy</td>\n",
       "      <td>8</td>\n",
       "      <td>0.040523</td>\n",
       "      <td>0.346952</td>\n",
       "    </tr>\n",
       "    <tr>\n",
       "      <th>1</th>\n",
       "      <td>Angela</td>\n",
       "      <td>5</td>\n",
       "      <td>0.003268</td>\n",
       "      <td>0.259961</td>\n",
       "    </tr>\n",
       "    <tr>\n",
       "      <th>2</th>\n",
       "      <td>Darryl</td>\n",
       "      <td>2</td>\n",
       "      <td>0.000000</td>\n",
       "      <td>0.120122</td>\n",
       "    </tr>\n",
       "    <tr>\n",
       "      <th>3</th>\n",
       "      <td>Erin</td>\n",
       "      <td>3</td>\n",
       "      <td>0.000000</td>\n",
       "      <td>0.178763</td>\n",
       "    </tr>\n",
       "    <tr>\n",
       "      <th>4</th>\n",
       "      <td>Jim</td>\n",
       "      <td>6</td>\n",
       "      <td>0.111111</td>\n",
       "      <td>0.279773</td>\n",
       "    </tr>\n",
       "    <tr>\n",
       "      <th>5</th>\n",
       "      <td>Kevin</td>\n",
       "      <td>6</td>\n",
       "      <td>0.007625</td>\n",
       "      <td>0.301737</td>\n",
       "    </tr>\n",
       "    <tr>\n",
       "      <th>6</th>\n",
       "      <td>Pam</td>\n",
       "      <td>7</td>\n",
       "      <td>0.015468</td>\n",
       "      <td>0.332953</td>\n",
       "    </tr>\n",
       "    <tr>\n",
       "      <th>7</th>\n",
       "      <td>Oscar</td>\n",
       "      <td>4</td>\n",
       "      <td>0.001307</td>\n",
       "      <td>0.210829</td>\n",
       "    </tr>\n",
       "    <tr>\n",
       "      <th>8</th>\n",
       "      <td>David</td>\n",
       "      <td>1</td>\n",
       "      <td>0.000000</td>\n",
       "      <td>0.068315</td>\n",
       "    </tr>\n",
       "    <tr>\n",
       "      <th>9</th>\n",
       "      <td>Michael</td>\n",
       "      <td>16</td>\n",
       "      <td>0.627669</td>\n",
       "      <td>0.457503</td>\n",
       "    </tr>\n",
       "    <tr>\n",
       "      <th>10</th>\n",
       "      <td>Dwight</td>\n",
       "      <td>10</td>\n",
       "      <td>0.127669</td>\n",
       "      <td>0.392717</td>\n",
       "    </tr>\n",
       "    <tr>\n",
       "      <th>11</th>\n",
       "      <td>Phyllis</td>\n",
       "      <td>2</td>\n",
       "      <td>0.003268</td>\n",
       "      <td>0.070412</td>\n",
       "    </tr>\n",
       "    <tr>\n",
       "      <th>12</th>\n",
       "      <td>Ryan</td>\n",
       "      <td>4</td>\n",
       "      <td>0.008715</td>\n",
       "      <td>0.191136</td>\n",
       "    </tr>\n",
       "    <tr>\n",
       "      <th>13</th>\n",
       "      <td>Karen</td>\n",
       "      <td>1</td>\n",
       "      <td>0.000000</td>\n",
       "      <td>0.041776</td>\n",
       "    </tr>\n",
       "    <tr>\n",
       "      <th>14</th>\n",
       "      <td>Kelly</td>\n",
       "      <td>2</td>\n",
       "      <td>0.000000</td>\n",
       "      <td>0.096856</td>\n",
       "    </tr>\n",
       "    <tr>\n",
       "      <th>15</th>\n",
       "      <td>Holly</td>\n",
       "      <td>1</td>\n",
       "      <td>0.000000</td>\n",
       "      <td>0.068315</td>\n",
       "    </tr>\n",
       "    <tr>\n",
       "      <th>16</th>\n",
       "      <td>Jan</td>\n",
       "      <td>1</td>\n",
       "      <td>0.000000</td>\n",
       "      <td>0.068315</td>\n",
       "    </tr>\n",
       "    <tr>\n",
       "      <th>17</th>\n",
       "      <td>Stanley</td>\n",
       "      <td>2</td>\n",
       "      <td>0.020697</td>\n",
       "      <td>0.078829</td>\n",
       "    </tr>\n",
       "    <tr>\n",
       "      <th>18</th>\n",
       "      <td>Toby</td>\n",
       "      <td>1</td>\n",
       "      <td>0.000000</td>\n",
       "      <td>0.068315</td>\n",
       "    </tr>\n",
       "  </tbody>\n",
       "</table>\n",
       "</div>"
      ],
      "text/plain": [
       "   character  degree  betweenness_c  eigenvector_c\n",
       "0       Andy       8       0.040523       0.346952\n",
       "1     Angela       5       0.003268       0.259961\n",
       "2     Darryl       2       0.000000       0.120122\n",
       "3       Erin       3       0.000000       0.178763\n",
       "4        Jim       6       0.111111       0.279773\n",
       "5      Kevin       6       0.007625       0.301737\n",
       "6        Pam       7       0.015468       0.332953\n",
       "7      Oscar       4       0.001307       0.210829\n",
       "8      David       1       0.000000       0.068315\n",
       "9    Michael      16       0.627669       0.457503\n",
       "10    Dwight      10       0.127669       0.392717\n",
       "11   Phyllis       2       0.003268       0.070412\n",
       "12      Ryan       4       0.008715       0.191136\n",
       "13     Karen       1       0.000000       0.041776\n",
       "14     Kelly       2       0.000000       0.096856\n",
       "15     Holly       1       0.000000       0.068315\n",
       "16       Jan       1       0.000000       0.068315\n",
       "17   Stanley       2       0.020697       0.078829\n",
       "18      Toby       1       0.000000       0.068315"
      ]
     },
     "execution_count": 30,
     "metadata": {},
     "output_type": "execute_result"
    }
   ],
   "source": [
    "#eigenvector centrality\n",
    "eig_df = pd.DataFrame(nx.eigenvector_centrality(G).items()  , columns=['character','eigenvector_c'])\n",
    "metrics_df = metrics_df.merge(eig_df, on='character', how='left')\n",
    "metrics_df"
   ]
  },
  {
   "cell_type": "markdown",
   "metadata": {},
   "source": [
    "### Clustering"
   ]
  },
  {
   "cell_type": "markdown",
   "metadata": {
    "ExecuteTime": {
     "end_time": "2021-03-14T15:00:52.725000Z",
     "start_time": "2021-03-14T15:00:51.434Z"
    }
   },
   "source": [
    "A clique is a subgraph within which all nodes are connected to each other"
   ]
  },
  {
   "cell_type": "code",
   "execution_count": 31,
   "metadata": {
    "ExecuteTime": {
     "end_time": "2021-03-19T12:32:12.957743Z",
     "start_time": "2021-03-19T12:32:12.934576Z"
    }
   },
   "outputs": [
    {
     "data": {
      "text/plain": [
       "[['Andy'],\n",
       " ['Angela'],\n",
       " ['Darryl'],\n",
       " ['Erin'],\n",
       " ['Jim'],\n",
       " ['Kevin'],\n",
       " ['Pam'],\n",
       " ['Oscar'],\n",
       " ['David'],\n",
       " ['Michael'],\n",
       " ['Dwight'],\n",
       " ['Phyllis'],\n",
       " ['Ryan'],\n",
       " ['Karen'],\n",
       " ['Kelly'],\n",
       " ['Holly'],\n",
       " ['Jan'],\n",
       " ['Stanley'],\n",
       " ['Toby'],\n",
       " ['Andy', 'Angela'],\n",
       " ['Andy', 'Darryl'],\n",
       " ['Andy', 'Erin'],\n",
       " ['Andy', 'Jim'],\n",
       " ['Andy', 'Kevin'],\n",
       " ['Andy', 'Pam'],\n",
       " ['Andy', 'Michael'],\n",
       " ['Andy', 'Dwight'],\n",
       " ['Angela', 'Pam'],\n",
       " ['Angela', 'Oscar'],\n",
       " ['Angela', 'Michael'],\n",
       " ['Angela', 'Dwight'],\n",
       " ['Darryl', 'Michael'],\n",
       " ['Erin', 'Michael'],\n",
       " ['Erin', 'Dwight'],\n",
       " ['Jim', 'Kevin'],\n",
       " ['Jim', 'Pam'],\n",
       " ['Jim', 'Michael'],\n",
       " ['Jim', 'Dwight'],\n",
       " ['Jim', 'Karen'],\n",
       " ['Kevin', 'Pam'],\n",
       " ['Kevin', 'Oscar'],\n",
       " ['Kevin', 'Michael'],\n",
       " ['Kevin', 'Dwight'],\n",
       " ['Pam', 'Michael'],\n",
       " ['Pam', 'Dwight'],\n",
       " ['Pam', 'Ryan'],\n",
       " ['Oscar', 'Michael'],\n",
       " ['Oscar', 'Dwight'],\n",
       " ['David', 'Michael'],\n",
       " ['Michael', 'Dwight'],\n",
       " ['Michael', 'Ryan'],\n",
       " ['Michael', 'Kelly'],\n",
       " ['Michael', 'Holly'],\n",
       " ['Michael', 'Jan'],\n",
       " ['Michael', 'Stanley'],\n",
       " ['Michael', 'Toby'],\n",
       " ['Dwight', 'Phyllis'],\n",
       " ['Dwight', 'Ryan'],\n",
       " ['Phyllis', 'Stanley'],\n",
       " ['Ryan', 'Kelly'],\n",
       " ['Andy', 'Angela', 'Pam'],\n",
       " ['Andy', 'Angela', 'Michael'],\n",
       " ['Andy', 'Angela', 'Dwight'],\n",
       " ['Andy', 'Darryl', 'Michael'],\n",
       " ['Andy', 'Erin', 'Michael'],\n",
       " ['Andy', 'Erin', 'Dwight'],\n",
       " ['Andy', 'Jim', 'Kevin'],\n",
       " ['Andy', 'Jim', 'Pam'],\n",
       " ['Andy', 'Jim', 'Michael'],\n",
       " ['Andy', 'Jim', 'Dwight'],\n",
       " ['Andy', 'Kevin', 'Pam'],\n",
       " ['Andy', 'Kevin', 'Michael'],\n",
       " ['Andy', 'Kevin', 'Dwight'],\n",
       " ['Andy', 'Pam', 'Michael'],\n",
       " ['Andy', 'Pam', 'Dwight'],\n",
       " ['Andy', 'Michael', 'Dwight'],\n",
       " ['Angela', 'Pam', 'Michael'],\n",
       " ['Angela', 'Pam', 'Dwight'],\n",
       " ['Angela', 'Oscar', 'Michael'],\n",
       " ['Angela', 'Oscar', 'Dwight'],\n",
       " ['Angela', 'Michael', 'Dwight'],\n",
       " ['Erin', 'Michael', 'Dwight'],\n",
       " ['Jim', 'Kevin', 'Pam'],\n",
       " ['Jim', 'Kevin', 'Michael'],\n",
       " ['Jim', 'Kevin', 'Dwight'],\n",
       " ['Jim', 'Pam', 'Michael'],\n",
       " ['Jim', 'Pam', 'Dwight'],\n",
       " ['Jim', 'Michael', 'Dwight'],\n",
       " ['Kevin', 'Pam', 'Michael'],\n",
       " ['Kevin', 'Pam', 'Dwight'],\n",
       " ['Kevin', 'Oscar', 'Michael'],\n",
       " ['Kevin', 'Oscar', 'Dwight'],\n",
       " ['Kevin', 'Michael', 'Dwight'],\n",
       " ['Pam', 'Michael', 'Dwight'],\n",
       " ['Pam', 'Michael', 'Ryan'],\n",
       " ['Pam', 'Dwight', 'Ryan'],\n",
       " ['Oscar', 'Michael', 'Dwight'],\n",
       " ['Michael', 'Dwight', 'Ryan'],\n",
       " ['Michael', 'Ryan', 'Kelly'],\n",
       " ['Andy', 'Angela', 'Pam', 'Michael'],\n",
       " ['Andy', 'Angela', 'Pam', 'Dwight'],\n",
       " ['Andy', 'Angela', 'Michael', 'Dwight'],\n",
       " ['Andy', 'Erin', 'Michael', 'Dwight'],\n",
       " ['Andy', 'Jim', 'Kevin', 'Pam'],\n",
       " ['Andy', 'Jim', 'Kevin', 'Michael'],\n",
       " ['Andy', 'Jim', 'Kevin', 'Dwight'],\n",
       " ['Andy', 'Jim', 'Pam', 'Michael'],\n",
       " ['Andy', 'Jim', 'Pam', 'Dwight'],\n",
       " ['Andy', 'Jim', 'Michael', 'Dwight'],\n",
       " ['Andy', 'Kevin', 'Pam', 'Michael'],\n",
       " ['Andy', 'Kevin', 'Pam', 'Dwight'],\n",
       " ['Andy', 'Kevin', 'Michael', 'Dwight'],\n",
       " ['Andy', 'Pam', 'Michael', 'Dwight'],\n",
       " ['Angela', 'Pam', 'Michael', 'Dwight'],\n",
       " ['Angela', 'Oscar', 'Michael', 'Dwight'],\n",
       " ['Jim', 'Kevin', 'Pam', 'Michael'],\n",
       " ['Jim', 'Kevin', 'Pam', 'Dwight'],\n",
       " ['Jim', 'Kevin', 'Michael', 'Dwight'],\n",
       " ['Jim', 'Pam', 'Michael', 'Dwight'],\n",
       " ['Kevin', 'Pam', 'Michael', 'Dwight'],\n",
       " ['Kevin', 'Oscar', 'Michael', 'Dwight'],\n",
       " ['Pam', 'Michael', 'Dwight', 'Ryan'],\n",
       " ['Andy', 'Angela', 'Pam', 'Michael', 'Dwight'],\n",
       " ['Andy', 'Jim', 'Kevin', 'Pam', 'Michael'],\n",
       " ['Andy', 'Jim', 'Kevin', 'Pam', 'Dwight'],\n",
       " ['Andy', 'Jim', 'Kevin', 'Michael', 'Dwight'],\n",
       " ['Andy', 'Jim', 'Pam', 'Michael', 'Dwight'],\n",
       " ['Andy', 'Kevin', 'Pam', 'Michael', 'Dwight'],\n",
       " ['Jim', 'Kevin', 'Pam', 'Michael', 'Dwight'],\n",
       " ['Andy', 'Jim', 'Kevin', 'Pam', 'Michael', 'Dwight']]"
      ]
     },
     "execution_count": 31,
     "metadata": {},
     "output_type": "execute_result"
    }
   ],
   "source": [
    "sitcom_cliques = list(nx.algorithms.clique.enumerate_all_cliques(G))\n",
    "sitcom_cliques"
   ]
  },
  {
   "cell_type": "code",
   "execution_count": 32,
   "metadata": {
    "ExecuteTime": {
     "end_time": "2021-03-19T12:32:47.434927Z",
     "start_time": "2021-03-19T12:32:47.113124Z"
    }
   },
   "outputs": [
    {
     "data": {
      "image/png": "[encoded data removed]",
      "text/plain": [
       "<Figure size 432x288 with 1 Axes>"
      ]
     },
     "metadata": {},
     "output_type": "display_data"
    }
   ],
   "source": [
    "#largest clique\n",
    "Gsub = G.subgraph(sitcom_cliques[-1])\n",
    "nx.draw(Gsub,with_labels = True)"
   ]
  },
  {
   "cell_type": "markdown",
   "metadata": {},
   "source": [
    "A community is a local clustering of nodes "
   ]
  },
  {
   "cell_type": "code",
   "execution_count": 33,
   "metadata": {
    "ExecuteTime": {
     "end_time": "2021-03-19T12:37:10.607416Z",
     "start_time": "2021-03-19T12:37:10.594213Z"
    }
   },
   "outputs": [
    {
     "data": {
      "text/plain": [
       "[['Angela', 'Kevin', 'Karen', 'Jim', 'Dwight', 'Oscar', 'Pam'],\n",
       " ['Michael', 'Jan', 'Toby', 'Ryan', 'Holly', 'Kelly', 'David'],\n",
       " ['Erin', 'Andy', 'Darryl'],\n",
       " ['Phyllis', 'Stanley']]"
      ]
     },
     "execution_count": 33,
     "metadata": {},
     "output_type": "execute_result"
    }
   ],
   "source": [
    "from networkx.algorithms import community\n",
    "\n",
    "community_lookup =[list(x) for x in community.greedy_modularity_communities(G)]\n",
    "community_lookup\n"
   ]
  },
  {
   "cell_type": "markdown",
   "metadata": {},
   "source": [
    "## Interactive Visualization"
   ]
  },
  {
   "cell_type": "code",
   "execution_count": 50,
   "metadata": {
    "ExecuteTime": {
     "end_time": "2021-03-19T12:44:56.149848Z",
     "start_time": "2021-03-19T12:44:56.123107Z"
    }
   },
   "outputs": [],
   "source": [
    "#add group number and size as node attribute\n",
    "for character in metrics_df['character']:\n",
    "    G.nodes[character]['size']=metrics_df[metrics_df['character']==character]['degree'].values[0]+4\n",
    "    G.nodes[character]['group']=[n+1 for n,x in enumerate(community_lookup) if character in x][0]"
   ]
  },
  {
   "cell_type": "code",
   "execution_count": 51,
   "metadata": {
    "ExecuteTime": {
     "end_time": "2021-03-19T12:44:56.614711Z",
     "start_time": "2021-03-19T12:44:56.585469Z"
    }
   },
   "outputs": [
    {
     "data": {
      "text/plain": [
       "NodeDataView({'Andy': {'size': 12, 'group': 3}, 'Angela': {'size': 9, 'group': 1}, 'Darryl': {'size': 6, 'group': 3}, 'Erin': {'size': 7, 'group': 3}, 'Jim': {'size': 10, 'group': 1}, 'Kevin': {'size': 10, 'group': 1}, 'Pam': {'size': 11, 'group': 1}, 'Oscar': {'size': 8, 'group': 1}, 'David': {'size': 5, 'group': 2}, 'Michael': {'size': 20, 'group': 2}, 'Dwight': {'size': 14, 'group': 1}, 'Phyllis': {'size': 6, 'group': 4}, 'Ryan': {'size': 8, 'group': 2}, 'Karen': {'size': 5, 'group': 1}, 'Kelly': {'size': 6, 'group': 2}, 'Holly': {'size': 5, 'group': 2}, 'Jan': {'size': 5, 'group': 2}, 'Stanley': {'size': 6, 'group': 4}, 'Toby': {'size': 5, 'group': 2}})"
      ]
     },
     "execution_count": 51,
     "metadata": {},
     "output_type": "execute_result"
    }
   ],
   "source": [
    "#check if the attributes were properly loaded\n",
    "G.nodes(data=True)"
   ]
  },
  {
   "cell_type": "code",
   "execution_count": 52,
   "metadata": {
    "ExecuteTime": {
     "end_time": "2021-03-19T12:44:57.022441Z",
     "start_time": "2021-03-19T12:44:57.000521Z"
    }
   },
   "outputs": [],
   "source": [
    "#Pyvis to visualize the network interactively\n",
    "#install by running in your terminal \"pip install pyvis\"\n",
    "from pyvis.network import Network"
   ]
  },
  {
   "cell_type": "code",
   "execution_count": 53,
   "metadata": {
    "ExecuteTime": {
     "end_time": "2021-03-19T12:44:57.864534Z",
     "start_time": "2021-03-19T12:44:57.831212Z"
    }
   },
   "outputs": [
    {
     "data": {
      "text/html": [
       "\n",
       "        <iframe\n",
       "            width=\"100%\"\n",
       "            height=\"500px\"\n",
       "            src=\"the_office_network_viz.html\"\n",
       "            frameborder=\"0\"\n",
       "            allowfullscreen\n",
       "        ></iframe>\n",
       "        "
      ],
      "text/plain": [
       "<IPython.lib.display.IFrame at 0x7f207f50f3a0>"
      ]
     },
     "execution_count": 53,
     "metadata": {},
     "output_type": "execute_result"
    }
   ],
   "source": [
    "g = Network(notebook=True,height='500px', width='100%')\n",
    "g.from_nx(G)\n",
    "g.show(\"the_office_network_viz.html\")"
   ]
  },
  {
   "cell_type": "markdown",
   "metadata": {},
   "source": [
    "### Further Reading\n",
    "1. Crach course on basic network analysis in python [here](https://www.analyticsvidhya.com/blog/2018/04/introduction-to-graph-theory-network-analysis-python-codes/)\n",
    "2. In-depth network analysis with some literary explanations for Game of Thrones [here](https://networkofthrones.wordpress.com/)\n"
   ]
  },
  {
   "cell_type": "code",
   "execution_count": null,
   "metadata": {},
   "outputs": [],
   "source": []
  }
 ],
 "metadata": {
  "kernelspec": {
   "display_name": "Python 3",
   "language": "python",
   "name": "python3"
  },
  "language_info": {
   "codemirror_mode": {
    "name": "ipython",
    "version": 3
   },
   "file_extension": ".py",
   "mimetype": "text/x-python",
   "name": "python",
   "nbconvert_exporter": "python",
   "pygments_lexer": "ipython3",
   "version": "3.8.5"
  }
 },
 "nbformat": 4,
 "nbformat_minor": 4
}
