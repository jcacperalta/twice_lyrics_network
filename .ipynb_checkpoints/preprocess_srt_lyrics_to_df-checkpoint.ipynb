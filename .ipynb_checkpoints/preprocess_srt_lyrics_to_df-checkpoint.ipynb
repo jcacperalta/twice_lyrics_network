{
 "cells": [
  {
   "cell_type": "code",
   "execution_count": 110,
   "metadata": {
    "ExecuteTime": {
     "end_time": "2021-03-20T15:39:56.076828Z",
     "start_time": "2021-03-20T15:39:54.802914Z"
    }
   },
   "outputs": [],
   "source": [
    "import pandas as pd\n",
    "import numpy as np\n",
    "\n",
    "import re\n",
    "import os\n",
    "\n",
    "import urllib.request\n",
    "from bs4 import BeautifulSoup"
   ]
  },
  {
   "cell_type": "code",
   "execution_count": 94,
   "metadata": {
    "ExecuteTime": {
     "end_time": "2021-03-20T15:25:09.813035Z",
     "start_time": "2021-03-20T15:25:09.807231Z"
    }
   },
   "outputs": [],
   "source": [
    "fn_list = os.listdir('data/raw/')"
   ]
  },
  {
   "cell_type": "markdown",
   "metadata": {},
   "source": [
    "### Get timed data from youtube srt"
   ]
  },
  {
   "cell_type": "code",
   "execution_count": 89,
   "metadata": {
    "ExecuteTime": {
     "end_time": "2021-03-20T15:15:41.529874Z",
     "start_time": "2021-03-20T15:15:41.520292Z"
    }
   },
   "outputs": [],
   "source": [
    "def create_lyrics_table(fn):\n",
    "    #read lines\n",
    "    with open(fn, 'r') as h:\n",
    "        sub = h.readlines()\n",
    "    \n",
    "    # Get start,end times\n",
    "    re_pattern = r'[0-9]{2}:[0-9]{2}:[0-9]{2},[0-9]{3} -->'\n",
    "    regex = re.compile(re_pattern)\n",
    "    times = list(filter(regex.search, sub))\n",
    "    start_times = [time.split(' ')[0] for time in times]    \n",
    "    end_times = [time.split(' ')[2].strip('\\n') for time in times]   \n",
    "    \n",
    "    # Get lines\n",
    "    lines = [[]]\n",
    "    for sentence in sub:\n",
    "        if re.match(re_pattern, sentence):\n",
    "            lines[-1].pop()\n",
    "            lines.append([])\n",
    "        else:\n",
    "            clean_line = re.sub(\"[\\(\\[].*?[\\)\\]],\", \"\", sentence.strip())\n",
    "            lines[-1].append(clean_line)\n",
    "    lines = lines[1:]   \n",
    "    lines = [x[0] for x in lines]\n",
    "    \n",
    "    # construct dataframe\n",
    "    df = pd.DataFrame(list(zip(start_times, end_times, lines)),\\\n",
    "                  columns=['start_time','end_time','lyric'])\n",
    "    #get duration\n",
    "    df['duration'] = pd.to_datetime(df['end_time'])-pd.to_datetime(df['start_time']) \n",
    "    df['duration'] = df['duration']/ np.timedelta64(1, 's')\n",
    "    return df"
   ]
  },
  {
   "cell_type": "code",
   "execution_count": 95,
   "metadata": {
    "ExecuteTime": {
     "end_time": "2021-03-20T15:25:19.073548Z",
     "start_time": "2021-03-20T15:25:19.040349Z"
    },
    "scrolled": true
   },
   "outputs": [
    {
     "data": {
      "text/html": [
       "<div>\n",
       "<style scoped>\n",
       "    .dataframe tbody tr th:only-of-type {\n",
       "        vertical-align: middle;\n",
       "    }\n",
       "\n",
       "    .dataframe tbody tr th {\n",
       "        vertical-align: top;\n",
       "    }\n",
       "\n",
       "    .dataframe thead th {\n",
       "        text-align: right;\n",
       "    }\n",
       "</style>\n",
       "<table border=\"1\" class=\"dataframe\">\n",
       "  <thead>\n",
       "    <tr style=\"text-align: right;\">\n",
       "      <th></th>\n",
       "      <th>start_time</th>\n",
       "      <th>end_time</th>\n",
       "      <th>lyric</th>\n",
       "      <th>duration</th>\n",
       "    </tr>\n",
       "  </thead>\n",
       "  <tbody>\n",
       "    <tr>\n",
       "      <th>0</th>\n",
       "      <td>00:00:15,370</td>\n",
       "      <td>00:00:18,953</td>\n",
       "      <td>Alarm goes off Ring ring a ling</td>\n",
       "      <td>3.583</td>\n",
       "    </tr>\n",
       "    <tr>\n",
       "      <th>1</th>\n",
       "      <td>00:00:18,953</td>\n",
       "      <td>00:00:22,220</td>\n",
       "      <td>Whenever our eyes meet</td>\n",
       "      <td>3.267</td>\n",
       "    </tr>\n",
       "    <tr>\n",
       "      <th>2</th>\n",
       "      <td>00:00:22,220</td>\n",
       "      <td>00:00:25,522</td>\n",
       "      <td>I notice but just spin around</td>\n",
       "      <td>3.302</td>\n",
       "    </tr>\n",
       "    <tr>\n",
       "      <th>3</th>\n",
       "      <td>00:00:25,522</td>\n",
       "      <td>00:00:28,814</td>\n",
       "      <td>Yet I keep getting closer I know it’s too late</td>\n",
       "      <td>3.292</td>\n",
       "    </tr>\n",
       "    <tr>\n",
       "      <th>4</th>\n",
       "      <td>00:00:28,814</td>\n",
       "      <td>00:00:31,814</td>\n",
       "      <td>In my heart I already know</td>\n",
       "      <td>3.000</td>\n",
       "    </tr>\n",
       "  </tbody>\n",
       "</table>\n",
       "</div>"
      ],
      "text/plain": [
       "     start_time      end_time                                           lyric  \\\n",
       "0  00:00:15,370  00:00:18,953                 Alarm goes off Ring ring a ling   \n",
       "1  00:00:18,953  00:00:22,220                          Whenever our eyes meet   \n",
       "2  00:00:22,220  00:00:25,522                   I notice but just spin around   \n",
       "3  00:00:25,522  00:00:28,814  Yet I keep getting closer I know it’s too late   \n",
       "4  00:00:28,814  00:00:31,814                      In my heart I already know   \n",
       "\n",
       "   duration  \n",
       "0     3.583  \n",
       "1     3.267  \n",
       "2     3.302  \n",
       "3     3.292  \n",
       "4     3.000  "
      ]
     },
     "execution_count": 95,
     "metadata": {},
     "output_type": "execute_result"
    }
   ],
   "source": [
    "fn = 'data/raw/ICantStopMe_eng.srt'\n",
    "df = create_lyrics_table(fn)\n",
    "df.head()"
   ]
  },
  {
   "cell_type": "code",
   "execution_count": 100,
   "metadata": {
    "ExecuteTime": {
     "end_time": "2021-03-20T15:27:54.780341Z",
     "start_time": "2021-03-20T15:27:54.227210Z"
    }
   },
   "outputs": [],
   "source": [
    "for fn in fn_list:\n",
    "    try:\n",
    "        df = create_lyrics_table(\"data/raw/\"+fn)\n",
    "        df['member'] = ''\n",
    "        df.to_csv(\"data/processed/\"+fn.split(\".srt\")[0]+\".csv\", index=False)\n",
    "    except Exception as e:\n",
    "        print(e)\n",
    "        "
   ]
  },
  {
   "cell_type": "markdown",
   "metadata": {},
   "source": [
    "### Get member tagged lines"
   ]
  },
  {
   "cell_type": "code",
   "execution_count": 349,
   "metadata": {
    "ExecuteTime": {
     "end_time": "2021-03-20T17:50:30.500318Z",
     "start_time": "2021-03-20T17:50:30.487185Z"
    }
   },
   "outputs": [],
   "source": [
    "def get_member_lines(lyric_url):\n",
    "    ##################\n",
    "    with urllib.request.urlopen(lyric_url) as response:\n",
    "        content = response.read()\n",
    "        \n",
    "    soup = BeautifulSoup(content)\n",
    "    print(lyric_url)\n",
    "    #get song title\n",
    "    #title = soup.find_all('h2',attrs = {'class':\"has-text-align-center\"})[0].text.replace(\" \",\"\")\n",
    "    #print(title)\n",
    "    #get color code members\n",
    "    try:\n",
    "        #M&M\n",
    "        member_colors_raw = soup.find_all('p',attrs = {'class':\"has-text-align-center\"})[1]\n",
    "    except Exception as e:\n",
    "        try:\n",
    "        #ICSM\n",
    "            member_colors_raw = [p for p in soup.find_all('p',attrs = {'style':\"text-align: center\"}) if \"Jihyo\" in str(p)][0]\n",
    "        except:\n",
    "        #all else:\n",
    "            member_colors_raw = [td for td in soup.find_all('td',attrs = {'style':\"text-align: center\"}) if \"Jihyo\" in str(td)][0]      \n",
    "        \n",
    "    #print(member_colors_raw)#.find_all('span'))\n",
    "    member_colors_dict = dict([(mc['style'].split(':')[1].strip(),mc.text)\\\n",
    "                      for mc in member_colors_raw.find_all('span')])\n",
    "    print(member_colors_dict)\n",
    "    #get romanized color coded lyrics and color\n",
    "    #first table is romanized table\n",
    "    try:\n",
    "        max_length_div = max([len(str(td)) for td in soup.find_all('div', attrs = {'class':\"wp-block-group\"})])\n",
    "        for td in soup.find_all('div', attrs = {'class':\"wp-block-group\"}):\n",
    "            if (len(str(td))==max_length_div):\n",
    "                lyrics_table = td\n",
    "    except:\n",
    "        max_length_div = max([len(str(td)) for td in soup.find_all('td')])\n",
    "        for td in soup.find_all('td'):\n",
    "            if len(str(td))==max_length_div:\n",
    "                lyrics_table = td\n",
    "\n",
    "    if \"wp-block-group__inner-container\" in str(lyrics_table):\n",
    "        lyrics_table = lyrics_table.find(\"wp-block-group__inner-container\")\n",
    "        \n",
    "    lyrics_raw = lyrics_table.find_all('span')\n",
    "    print([str(l) for l in lyrics_raw])# if ':color' in l])\n",
    "    lyrics = [l.text for l in lyrics_raw if \"color\" in str(l)]\n",
    "    member_tags = [l['style'].split(': ')[1] for l in lyrics_raw if \":color\" in str(l)]\n",
    "    \n",
    "    #build dataframe\n",
    "    df = pd.DataFrame({'member':member_tags,\n",
    "                  'line':lyrics})\n",
    "    df['member'] = df['member'].apply(lambda x: member_colors_dict[x])\n",
    "    return df"
   ]
  },
  {
   "cell_type": "code",
   "execution_count": 302,
   "metadata": {
    "ExecuteTime": {
     "end_time": "2021-03-20T17:31:45.126394Z",
     "start_time": "2021-03-20T17:31:45.121731Z"
    }
   },
   "outputs": [],
   "source": [
    "lyric_urls = ['https://colorcodedlyrics.com/2020/10/twice-i-can-t-stop-me',\\\n",
    "              'https://colorcodedlyrics.com/2018/07/twice-dance-night-away',\\\n",
    "             'https://colorcodedlyrics.com/2017/02/twice-knock-knock',\\\n",
    "             'https://colorcodedlyrics.com/2016/10/twice-tt',\n",
    "             'https://colorcodedlyrics.com/2017/10/twice-likey',\n",
    "             'https://colorcodedlyrics.com/2017/12/twice-heart-shaker',\\\n",
    "             'https://colorcodedlyrics.com/2015/10/twice-like-ooh-ahh-ooh-ahhhage',\\\n",
    "             'https://colorcodedlyrics.com/2016/04/twice-cheer-up',\\\n",
    "             'https://colorcodedlyrics.com/2017/05/twice-signal',\\\n",
    "             'https://colorcodedlyrics.com/2018/04/twice-what-is-love',\\\n",
    "             'https://colorcodedlyrics.com/2019/04/twice-fancy',\\\n",
    "             'https://colorcodedlyrics.com/2018/11/twice-yes-yes',\\\n",
    "              'https://colorcodedlyrics.com/2019/09/twice-feel-special',\\\n",
    "              'https://colorcodedlyrics.com/2020/06/twice-more-amp-more',\\\n",
    "              'https://colorcodedlyrics.com/2020/12/twice-cry-for-me'\n",
    "             ]\n",
    "song_name = [\"ICantStopMe\",\"DanceTheNightAway\",\"KnockKnock\",\"TT\",\"Likey\",\"HeartShaker\",\\\n",
    "            \"LikeOohAhh\",\"CheerUp\",\"Signal\",\"WhatIsLove\",\"Fancy\",\"YesOrYes\",\"FeelSpecial\",\"More&More\",\"CryForMe\"]"
   ]
  },
  {
   "cell_type": "code",
   "execution_count": 303,
   "metadata": {
    "ExecuteTime": {
     "end_time": "2021-03-20T17:32:02.202723Z",
     "start_time": "2021-03-20T17:31:45.614509Z"
    },
    "scrolled": true
   },
   "outputs": [
    {
     "name": "stdout",
     "output_type": "stream",
     "text": [
      "ICantStopMe\n",
      "https://colorcodedlyrics.com/2020/10/twice-i-can-t-stop-me\n",
      "{'#00ccff': 'Nayeon', '#84cc00': 'Jeongyeon', '#ffb1b8': 'Momo', '#996de7': 'Sana', '#ffb74d': 'Jihyo', '#1af0af': 'Mina', '#ffe7ff': 'Dahyun', '#ff1744': 'Chaeyoung', '#396ad8': 'Tzuyu'}\n",
      "   member                                      line\n",
      "0  Nayeon         allami ullyeodae Ring ring a ling\n",
      "1  Nayeon           seoroye nungiri daheul ttaemada\n",
      "2    Mina              almyeonseo bingbing doneunde\n",
      "3    Mina  jeomjeom dagagajana I know it’s too late\n",
      "4    Sana           maeumsogeuroneun da algo itjana\n",
      "DanceTheNightAway\n",
      "https://colorcodedlyrics.com/2018/07/twice-dance-night-away\n",
      "{'#00ccff': 'Nayeon', '#84cc00': 'Jeongyeon', '#ffb1b8': 'Momo', '#996de7': 'Sana', '#ffb74d': 'Jihyo', '#1af0af': 'Mina', '#ffe7ff': 'Dahyun', '#ff1744': 'Chaeyoung', '#396ad8': 'Tzuyu'}\n",
      "   member                           line\n",
      "0    Mina  Lalalalalalala lalalalalalala\n",
      "1    Mina  Lalalalalalala lalalalalalala\n",
      "2  Nayeon    You and me in the moonlight\n",
      "3  Nayeon  byeol kkot chukje yeollin bam\n",
      "4    Sana           pado sorireul teulgo\n",
      "KnockKnock\n",
      "https://colorcodedlyrics.com/2017/02/twice-knock-knock\n",
      "{'#00ccff': 'Nayeon', '#84cc00': 'Jeongyeon', '#ffb1b8': 'Momo', '#996de7': 'Sana', '#ffb74d': 'Jihyo', '#1af0af': 'Mina', '#ffe7ff': 'Dahyun', '#ff1744': 'Chaeyoung', '#396ad8': 'Tzuyu'}\n",
      "      member                           line\n",
      "0     Nayeon  yeoldushiga dwemyeon dacheoyo\n",
      "1     Nayeon   jogeumman seodulleo jullaeyo\n",
      "2  Chaeyoung        Knock knock knock knock\n",
      "3  Chaeyoung               knock on my door\n",
      "4  Chaeyoung        Knock knock knock knock\n",
      "TT\n",
      "https://colorcodedlyrics.com/2016/10/twice-tt\n",
      "{'#00ccff': 'Nayeon', '#84cc00': 'Jeongyeon', '#ffb1b8': 'Momo', '#996de7': 'Sana', '#ffb74d': 'Jihyo', '#1af0af': 'Mina', '#ffe7ff': 'Dahyun', '#ff1744': 'Chaeyoung', '#396ad8': 'Tzuyu'}\n",
      "   member                                   line\n",
      "0  Nayeon                    ireojido motaneunde\n",
      "1  Nayeon                      jeoreojido motane\n",
      "2  Nayeon        geujeo barabomyeo Ba-ba-ba-baby\n",
      "3    Mina  maeil sangsangman hae ireumgwa hamkke\n",
      "4    Mina               sseuk mareul nwanne Baby\n",
      "Likey\n",
      "https://colorcodedlyrics.com/2017/10/twice-likey\n",
      "{'#00ccff': 'Nayeon', '#84cc00': 'Jeongyeon', '#ffb1b8': 'Momo', '#996de7': 'Sana', '#ffb74d': 'Jihyo', '#1af0af': 'Mina', '#ffe7ff': 'Dahyun', '#ff1744': 'Chaeyoung', '#396ad8': 'Tzuyu'}\n",
      "   member                   line\n",
      "0    Sana     seollenda Me likey\n",
      "1    Sana   Me likey likey likey\n",
      "2    Sana   Me likey likey likey\n",
      "3  Dahyun   dugeun dugeun dugeun\n",
      "4   Jihyo               Me likey\n",
      "HeartShaker\n",
      "https://colorcodedlyrics.com/2017/12/twice-heart-shaker\n",
      "{'#00ccff': 'Nayeon', '#84cc00': 'Jeongyeon', '#ffb1b8': 'Momo', '#996de7': 'Sana', '#ffb74d': 'Jihyo', '#1af0af': 'Mina', '#ffe7ff': 'Dahyun', '#ff1744': 'Chaeyoung', '#396ad8': 'Tzuyu'}\n",
      "      member                                 line\n",
      "0  Chaeyoung                  Come and be my love\n",
      "1  Chaeyoung             Come and be my love baby\n",
      "2     Dahyun                  Come and be my love\n",
      "3     Dahyun             Come and be my love baby\n",
      "4     Nayeon  meonghani seoseo mak gomingomin hae\n",
      "LikeOohAhh\n",
      "https://colorcodedlyrics.com/2015/10/twice-like-ooh-ahh-ooh-ahhhage\n",
      "{'#00ccff': 'Nayeon', '#84cc00': 'Jeongyeon', '#ffb1b8': 'Momo', '#996de7': 'Sana', '#ffb74d': 'Jihyo', '#1af0af': 'Mina', '#ffe7ff': 'Dahyun', '#ff1744': 'Chaeyoung', '#396ad8': 'Tzuyu'}\n",
      "'#eeff00'\n",
      "CheerUp\n",
      "https://colorcodedlyrics.com/2016/04/twice-cheer-up\n",
      "{'#00ccff': 'Nayeon', '#84cc00': 'Jeongyeon', '#ffb1b8': 'Momo', '#996de7': 'Sana', '#ffb74d': 'Jihyo', '#1af0af': 'Mina', '#ffe7ff': 'Dahyun', '#ff1744': 'Chaeyoung', '#396ad8': 'Tzuyu'}\n",
      "   member                                   line\n",
      "0  Nayeon             maeil ullineun bel bel bel\n",
      "1  Nayeon           ijen nareul baeryeo hae jweo\n",
      "2  Nayeon            baeteori nangbihagin shireo\n",
      "3    Mina          jakkuman bwa jakkujakkuman wa\n",
      "4    Mina   jeonhwaga peong teojil kkeonman gata\n",
      "Signal\n",
      "https://colorcodedlyrics.com/2017/05/twice-signal\n",
      "{'#00ccff': 'Nayeon', '#84cc00': 'Jeongyeon', '#ffb1b8': 'Momo', '#996de7': 'Sana', '#ffb74d': 'Jihyo', '#1af0af': 'Mina', '#ffe7ff': 'Dahyun', '#ff1744': 'Chaeyoung', '#396ad8': 'Tzuyu'}\n",
      "      member                                               line\n",
      "0     Dahyun  Trying to let you know\\nSign-eul bonae Signal ...\n",
      "1  Chaeyoung  I must let you know\\nSign-eul bonae Signal bon...\n",
      "2     Dahyun                                     Sign-eul bonae\n",
      "3  Chaeyoung                                       Signal bonae\n",
      "4     Dahyun                                     Sign-eul bonae\n",
      "WhatIsLove\n",
      "https://colorcodedlyrics.com/2018/04/twice-what-is-love\n",
      "{'#00ccff': 'Nayeon', '#84cc00': 'Jeongyeon', '#ffb1b8': 'Momo', '#996de7': 'Sana', '#ffb74d': 'Jihyo', '#1af0af': 'Mina', '#ffe7ff': 'Dahyun', '#ff1744': 'Chaeyoung', '#396ad8': 'Tzuyu'}\n",
      "      member                                               line\n",
      "0     Nayeon  maeilgachi yeonghwa sogeseona\\nchaek sogeseona...\n",
      "1  Jeongyeon  nae ilcheoreom jakku gaseumi ttwieo\\ndugeundug...\n",
      "2       Mina  Ooh eonjengan naegedo\\nireon iri shiljero ireo...\n",
      "3  Chaeyoung         geuge eonjejjeumilkka? eotteon saramilkka?\n",
      "4       Sana                    satangcheoreom dalkomhadaneunde\n",
      "Fancy\n",
      "https://colorcodedlyrics.com/2019/04/twice-fancy\n",
      "{'#00ccff': 'Nayeon', '#84cc00': 'Jeongyeon', '#ffb1b8': 'Momo', '#996de7': 'Sana', '#ffb74d': 'Jihyo', '#1af0af': 'Mina', '#ffe7ff': 'Dahyun', '#ff1744': 'Chaeyoung', '#396ad8': 'Tzuyu'}\n",
      "      member                                               line\n",
      "0     Nayeon  jigeum haneul gureum saegeun Tropical yeah\\nje...\n",
      "1       Mina  Oh tell me I’m the only one babe\\nI fancy you,...\n",
      "2  Jeongyeon  It’s dangerous ttakkeumhae neon jangmi gata\\ng...\n",
      "3       Momo  deo sege kkok jaba Take my hand\\njom wiheomhal...\n",
      "4       Sana  dalkomhan chokollit aiseukeurimcheoreom\\nnogab...\n",
      "YesOrYes\n",
      "https://colorcodedlyrics.com/2018/11/twice-yes-yes\n",
      "{'#00ccff': 'Nayeon', '#84cc00': 'Jeongyeon', '#ffb1b8': 'Momo', '#996de7': 'Sana', '#ffb74d': 'Jihyo', '#1af0af': 'Mina', '#ffe7ff': 'Dahyun', '#ff1744': 'Chaeyoung', '#396ad8': 'Tzuyu'}\n",
      "  member                                      line\n",
      "0   Mina                                   Hey boy\n",
      "1   Mina  Look, I’m gonna make this simple for you\n",
      "2   Mina          You got two choices… YES or YES?\n",
      "3  Tzuyu                                      (Ah)\n",
      "4  Jihyo                                        Ji\n",
      "FeelSpecial\n",
      "https://colorcodedlyrics.com/2019/09/twice-feel-special\n",
      "{'#00ccff': 'Nayeon', '#84cc00': 'Jeongyeon', '#ffb1b8': 'Momo', '#996de7': 'Sana', '#ffb74d': 'Jihyo', '#1af0af': 'Mina', '#ffe7ff': 'Dahyun', '#ff1744': 'Chaeyoung', '#396ad8': 'Tzuyu'}\n",
      "      member                                      line\n",
      "0  Chaeyoung                        geureon nari isseo\n",
      "1  Chaeyoung        gapjagi honjain geonman gateun nal\n",
      "2  Chaeyoung  eodil gado nae jariga anin geonman gatgo\n",
      "3  Chaeyoung                gogaen tteolgweojineun nal\n",
      "4      Tzuyu                    geureol ttaemada naege\n",
      "More&More\n",
      "https://colorcodedlyrics.com/2020/06/twice-more-amp-more\n",
      "{'#00ccff': 'Nayeon', '#84cc00': 'Jeongyeon', '#ffb1b8': 'Momo', '#996de7': 'Sana', '#ffb74d': 'Jihyo', '#1af0af': 'Mina', '#ffe7ff': 'Dahyun', '#ff1744': 'Chaeyoung', '#396ad8': 'Tzuyu'}\n",
      "   member                                               line\n",
      "0  Nayeon                                   I know I want it\n",
      "1  Nayeon                   ibe bareun sorin ije geumanhalge\n",
      "2  Nayeon                      Cause I deserve it deserve it\n",
      "3    Mina  hokshi jamkkan naega miweojideorado geokjeong ...\n",
      "4    Mina                        Cause I know you I know you\n",
      "CryForMe\n",
      "https://colorcodedlyrics.com/2020/12/twice-cry-for-me\n",
      "{'#00ccff': 'Nayeon', '#84cc00': 'Jeongyeon', '#ffb1b8': 'Momo', '#996de7': 'Sana', '#ffb74d': 'Jihyo', '#1af0af': 'Mina', '#ffe7ff': 'Dahyun', '#ff1744': 'Chaeyoung', '#396ad8': 'Tzuyu'}\n",
      "Empty DataFrame\n",
      "Columns: [member, line]\n",
      "Index: []\n"
     ]
    }
   ],
   "source": [
    "for n,lyric_url in enumerate(lyric_urls):\n",
    "    print(song_name[n])\n",
    "    try:\n",
    "        df = get_member_lines(lyric_url)\n",
    "        print(df.head())\n",
    "        df.to_csv(\"data/processed/color_coded_lyrics/\"+song_name[n]+\".csv\", index=False)\n",
    "    except Exception as e:\n",
    "        print(e)"
   ]
  },
  {
   "cell_type": "code",
   "execution_count": null,
   "metadata": {},
   "outputs": [],
   "source": [
    "<div class=\"wp-block-group__inner-container\"><p><span style=\"color: #00ccff\">I know gochyeo sseul gachido eoptan geol</span><br><span style=\"color: #00ccff\">hajiman geunyeowa dalli nan neol</span><br><span style=\"color: #00ccff\">shwipge nwajul mami eopgeodeun</span> (<span style=\"color: #ff1744\">Never let go</span>)</p><p><span style=\"color: #1af0af\">You don’t know me</span><br><span style=\"color: #1af0af\">L O V E or hatred</span><br><span style=\"color: #1af0af\">ibyeol daeshin nan sunjinhan misoman</span><br><span style=\"color: #1af0af\">oneuldo ne pume angillae</span></p><p><span style=\"color: #ffe7ff\">amugeotto moreuneun cheok</span><br><span style=\"color: #ffb1b8\">Baby no more real love</span><br><span style=\"color: #ffe7ff\">neoye gyeote isseojulge</span><br><span style=\"color: #ffb1b8\">majimaken break your heart</span><br><span style=\"color: #84cc00\">Bad boy bad boy</span><br><span style=\"color: #84cc00\">yeah you really make me</span><br><span style=\"color: #84cc00\">a mad girl mad girl</span></p><p><span style=\"color: #ffb74d\">I want you to cry, cry for me</span><br><span style=\"color: #ffb74d\">naega ureotteon geotcheoreom Cry for me</span><br><span style=\"color: #ffb74d\">Make your rain fall</span><br><span style=\"color: #ffb74d\">Cry for me but</span><br><span style=\"color: #ffb74d\">Again</span></p><p><span style=\"color: #00ccff\">jogeumsshik jogeumsshik tto ppajyeoga</span><br><span style=\"color: #00ccff\">sarange nae gyeolshimi tto muneojyeoga</span><br><span style=\"color: #00ccff\">yongseohal pinggyereul mandeureoga</span></p><p><span style=\"color: #396ad8\">I want you to</span><br><span style=\"color: #396ad8\">I want you to</span><br><span style=\"color: #396ad8\">I want you to</span><br><span style=\"color: #396ad8\">Cry for me</span></p><p><span style=\"color: #996de7\">I don’t know neoran nom miweojil jul moreugo</span><br><span style=\"color: #996de7\">chingudeulhanten tto neoreul gamssajuneun jung</span><br><span style=\"color: #996de7\">baboga dwae beoryeossgun</span><br><span style=\"color: #ff1744\">neo wae jakku nareul bomyeo unneunde</span><br><span style=\"color: #ff1744\">ttak han beone nunmurimyeon dweneunde</span><br><span style=\"color: #ffe7ff\">Cry for me, let me please forgive you</span></p><p><span style=\"color: #ffb1b8\">amugeotto moreuneun cheok</span><br><span style=\"color: #ffe7ff\">Baby just like real love</span> (<span style=\"color: #00ccff\">real love</span>)<br><span style=\"color: #ffb1b8\">majimak gihweya eoseo</span><br>[<span style=\"color: #00ccff\">Na</span>/<span style=\"color: #ffe7ff\">Da</span>] boyeojweobwa your true love<br><span style=\"color: #ffb74d\">Bad boy bad boy</span><br><span style=\"color: #ffb74d\">yeah you really make me</span><br>[<span style=\"color: #00ccff\">Na</span>/<span style=\"color: #ffb74d\">Ji</span>] a sad girl sad girl (<span style=\"color: #ffb74d\">whoa</span>)</p><p><span style=\"color: #84cc00\">I want you to cry, cry for me</span> (<span style=\"color: #00ccff\">me</span>)<br><span style=\"color: #84cc00\">naega ureotteon geotcheoreom Cry for me</span><br><span style=\"color: #84cc00\">Make your rain fall</span><br><span style=\"color: #84cc00\">Cry for me</span> (<span style=\"color: #1af0af\">me, yeah</span>) <span style=\"color: #84cc00\">but</span><br><span style=\"color: #84cc00\">Again</span></p><p><span style=\"color: #00ccff\">jogeumsshik jogeumsshik tto ppajyeoga</span><br><span style=\"color: #00ccff\">sarange nae gyeolshimi tto muneojyeoga</span><br><span style=\"color: #00ccff\">yongseohal pinggyereul mandeureoga</span></p><p><span style=\"color: #996de7\">I want you to</span><br><span style=\"color: #996de7\">I want you to</span><br><span style=\"color: #996de7\">I want you to</span><br><span style=\"color: #996de7\">Cry for me</span></p><p><span style=\"color: #1af0af\">sarangiran ge neomu dogae</span><br><span style=\"color: #1af0af\">miun maeumdo da nogabeorige hae</span><br><span style=\"color: #396ad8\">tto dashi weonhae neol nae gyeote yeah yeah</span></p><p><span style=\"color: #00ccff\">I want you to cry, cry for me</span><br><span style=\"color: #00ccff\">neo yeongirado hae ppalli Cry for me</span><br><span style=\"color: #00ccff\">Make your rain fall</span><br><span style=\"color: #00ccff\">fall and fall now</span></p><p><span style=\"color: #84cc00\">I want you to cry, cry for me</span> (<span style=\"color: #00ccff\">me</span>)<br>[<span style=\"color: #00ccff\">Na</span>/<span style=\"color: #84cc00\">Jeong</span>] <span style=\"color: #84cc00\">naega ureotteon geotcheoreom </span>Cry for me<br><span style=\"color: #84cc00\">Make your rain fall</span><br><span style=\"color: #84cc00\">Cry for me</span> (<span style=\"color: #00ccff\">me</span>)<span style=\"color: #84cc00\"> but</span><br><span style=\"color: #84cc00\">Again</span></p><p><span style=\"color: #ffb74d\">jogeumsshik jogeumsshik tto ppajyeoga</span><br><span style=\"color: #ffb74d\">sarange nae gyeolshimi tto muneojyeoga</span><br><span style=\"color: #ffb74d\">yongseohal pinggyereul mandeureoga</span><br><span style=\"color: #ff1744\">I want you to</span><br><span style=\"color: #ff1744\">I want you to</span><br><span style=\"color: #ff1744\">I want you to</span></p><p><span style=\"color: #ff1744\">Die for me</span></p></div>"
   ]
  },
  {
   "cell_type": "code",
   "execution_count": 350,
   "metadata": {
    "ExecuteTime": {
     "end_time": "2021-03-20T17:50:34.156516Z",
     "start_time": "2021-03-20T17:50:33.034799Z"
    }
   },
   "outputs": [
    {
     "name": "stdout",
     "output_type": "stream",
     "text": [
      "https://colorcodedlyrics.com/2020/12/twice-cry-for-me\n",
      "{'#00ccff': 'Nayeon', '#84cc00': 'Jeongyeon', '#ffb1b8': 'Momo', '#996de7': 'Sana', '#ffb74d': 'Jihyo', '#1af0af': 'Mina', '#ffe7ff': 'Dahyun', '#ff1744': 'Chaeyoung', '#396ad8': 'Tzuyu'}\n",
      "['<span style=\"text-decoration: underline\">[Single] CRY FOR ME<br/></span>', '<span class=\"embed-youtube\" style=\"text-align:center; display: block;\"><iframe allowfullscreen=\"true\" class=\"youtube-player\" height=\"360\" sandbox=\"allow-scripts allow-same-origin allow-popups allow-presentation\" src=\"https://www.youtube.com/embed/FF50-LY2Kro?version=3&amp;rel=1&amp;showsearch=0&amp;showinfo=1&amp;iv_load_policy=1&amp;fs=1&amp;hl=en-US&amp;autohide=2&amp;wmode=transparent\" style=\"border:0;\" width=\"640\"></iframe></span>', '<span class=\"has-inline-color\" style=\"color:#ffdc00\">Heize (헤이즈)</span>', '<span class=\"has-inline-color\" style=\"color:#ffdc00\"> </span>', '<span style=\"color: #00ccff\">Nayeon</span>', '<span style=\"color: #84cc00\">Jeongyeon</span>', '<span style=\"color: #ffb1b8\">Momo</span>', '<span style=\"color: #996de7\">Sana</span>', '<span style=\"color: #ffb74d\">Jihyo</span>', '<span style=\"color: #1af0af\">Mina</span>', '<span style=\"color: #ffe7ff\">Dahyun</span>', '<span style=\"color: #ff1744\">Chaeyoung</span>', '<span style=\"color: #396ad8\">Tzuyu</span>', '<span class=\"has-inline-color has-very-light-gray-color\">Romanization</span>', '<span style=\"color: #00ccff\">I know gochyeo sseul gachido eoptan geol</span>', '<span style=\"color: #00ccff\">hajiman geunyeowa dalli nan neol</span>', '<span style=\"color: #00ccff\">shwipge nwajul mami eopgeodeun</span>', '<span style=\"color: #ff1744\">Never let go</span>', '<span style=\"color: #1af0af\">You don’t know me</span>', '<span style=\"color: #1af0af\">L O V E or hatred</span>', '<span style=\"color: #1af0af\">ibyeol daeshin nan sunjinhan misoman</span>', '<span style=\"color: #1af0af\">oneuldo ne pume angillae</span>', '<span style=\"color: #ffe7ff\">amugeotto moreuneun cheok</span>', '<span style=\"color: #ffb1b8\">Baby no more real love</span>', '<span style=\"color: #ffe7ff\">neoye gyeote isseojulge</span>', '<span style=\"color: #ffb1b8\">majimaken break your heart</span>', '<span style=\"color: #84cc00\">Bad boy bad boy</span>', '<span style=\"color: #84cc00\">yeah you really make me</span>', '<span style=\"color: #84cc00\">a mad girl mad girl</span>', '<span style=\"color: #ffb74d\">I want you to cry, cry for me</span>', '<span style=\"color: #ffb74d\">naega ureotteon geotcheoreom Cry for me</span>', '<span style=\"color: #ffb74d\">Make your rain fall</span>', '<span style=\"color: #ffb74d\">Cry for me but</span>', '<span style=\"color: #ffb74d\">Again</span>', '<span style=\"color: #00ccff\">jogeumsshik jogeumsshik tto ppajyeoga</span>', '<span style=\"color: #00ccff\">sarange nae gyeolshimi tto muneojyeoga</span>', '<span style=\"color: #00ccff\">yongseohal pinggyereul mandeureoga</span>', '<span style=\"color: #396ad8\">I want you to</span>', '<span style=\"color: #396ad8\">I want you to</span>', '<span style=\"color: #396ad8\">I want you to</span>', '<span style=\"color: #396ad8\">Cry for me</span>', '<span style=\"color: #996de7\">I don’t know neoran nom miweojil jul moreugo</span>', '<span style=\"color: #996de7\">chingudeulhanten tto neoreul gamssajuneun jung</span>', '<span style=\"color: #996de7\">baboga dwae beoryeossgun</span>', '<span style=\"color: #ff1744\">neo wae jakku nareul bomyeo unneunde</span>', '<span style=\"color: #ff1744\">ttak han beone nunmurimyeon dweneunde</span>', '<span style=\"color: #ffe7ff\">Cry for me, let me please forgive you</span>', '<span style=\"color: #ffb1b8\">amugeotto moreuneun cheok</span>', '<span style=\"color: #ffe7ff\">Baby just like real love</span>', '<span style=\"color: #00ccff\">real love</span>', '<span style=\"color: #ffb1b8\">majimak gihweya eoseo</span>', '<span style=\"color: #00ccff\">Na</span>', '<span style=\"color: #ffe7ff\">Da</span>', '<span style=\"color: #ffb74d\">Bad boy bad boy</span>', '<span style=\"color: #ffb74d\">yeah you really make me</span>', '<span style=\"color: #00ccff\">Na</span>', '<span style=\"color: #ffb74d\">Ji</span>', '<span style=\"color: #ffb74d\">whoa</span>', '<span style=\"color: #84cc00\">I want you to cry, cry for me</span>', '<span style=\"color: #00ccff\">me</span>', '<span style=\"color: #84cc00\">naega ureotteon geotcheoreom Cry for me</span>', '<span style=\"color: #84cc00\">Make your rain fall</span>', '<span style=\"color: #84cc00\">Cry for me</span>', '<span style=\"color: #1af0af\">me, yeah</span>', '<span style=\"color: #84cc00\">but</span>', '<span style=\"color: #84cc00\">Again</span>', '<span style=\"color: #00ccff\">jogeumsshik jogeumsshik tto ppajyeoga</span>', '<span style=\"color: #00ccff\">sarange nae gyeolshimi tto muneojyeoga</span>', '<span style=\"color: #00ccff\">yongseohal pinggyereul mandeureoga</span>', '<span style=\"color: #996de7\">I want you to</span>', '<span style=\"color: #996de7\">I want you to</span>', '<span style=\"color: #996de7\">I want you to</span>', '<span style=\"color: #996de7\">Cry for me</span>', '<span style=\"color: #1af0af\">sarangiran ge neomu dogae</span>', '<span style=\"color: #1af0af\">miun maeumdo da nogabeorige hae</span>', '<span style=\"color: #396ad8\">tto dashi weonhae neol nae gyeote yeah yeah</span>', '<span style=\"color: #00ccff\">I want you to cry, cry for me</span>', '<span style=\"color: #00ccff\">neo yeongirado hae ppalli Cry for me</span>', '<span style=\"color: #00ccff\">Make your rain fall</span>', '<span style=\"color: #00ccff\">fall and fall now</span>', '<span style=\"color: #84cc00\">I want you to cry, cry for me</span>', '<span style=\"color: #00ccff\">me</span>', '<span style=\"color: #00ccff\">Na</span>', '<span style=\"color: #84cc00\">Jeong</span>', '<span style=\"color: #84cc00\">naega ureotteon geotcheoreom </span>', '<span style=\"color: #84cc00\">Make your rain fall</span>', '<span style=\"color: #84cc00\">Cry for me</span>', '<span style=\"color: #00ccff\">me</span>', '<span style=\"color: #84cc00\"> but</span>', '<span style=\"color: #84cc00\">Again</span>', '<span style=\"color: #ffb74d\">jogeumsshik jogeumsshik tto ppajyeoga</span>', '<span style=\"color: #ffb74d\">sarange nae gyeolshimi tto muneojyeoga</span>', '<span style=\"color: #ffb74d\">yongseohal pinggyereul mandeureoga</span>', '<span style=\"color: #ff1744\">I want you to</span>', '<span style=\"color: #ff1744\">I want you to</span>', '<span style=\"color: #ff1744\">I want you to</span>', '<span style=\"color: #ff1744\">Die for me</span>', '<span class=\"has-inline-color has-very-light-gray-color\">Hangul</span>', '<span style=\"color: #00ccff\">I know 고쳐 쓸 가치도 없단 걸</span>', '<span style=\"color: #00ccff\">하지만 그녀와 달리 난 널</span>', '<span style=\"color: #00ccff\">쉽게 놔줄 맘이 없거든 </span>', '<span style=\"color: #ff1744\">Never let go</span>', '<span style=\"color: #1af0af\">You don’t know me</span>', '<span style=\"color: #1af0af\">L O V E or hatred</span>', '<span style=\"color: #1af0af\">이별 대신 난 순진한 미소만</span>', '<span style=\"color: #1af0af\">오늘도 네 품에 안길래<br/></span>', '<span style=\"color: #ffe7ff\">아무것도 모르는 척</span>', '<span style=\"color: #ffb1b8\">Baby no more real love</span>', '<span style=\"color: #ffe7ff\">너의 곁에 있어줄게</span>', '<span style=\"color: #ffb1b8\">마지막엔 break your heart</span>', '<span style=\"color: #84cc00\">Bad boy bad boy</span>', '<span style=\"color: #84cc00\">yeah you really make me</span>', '<span style=\"color: #84cc00\">a mad girl mad girl<br/></span>', '<span style=\"color: #ffb74d\">I want you to cry, cry for me</span>', '<span style=\"color: #ffb74d\">내가 울었던 것처럼 Cry for me</span>', '<span style=\"color: #ffb74d\">Make your rain fall</span>', '<span style=\"color: #ffb74d\">Cry for me but</span>', '<span style=\"color: #ffb74d\">Again<br/></span>', '<span style=\"color: #00ccff\">조금씩 조금씩 또 빠져가</span>', '<span style=\"color: #00ccff\">사랑에 내 결심이 또 무너져가</span>', '<span style=\"color: #00ccff\">용서할 핑계를 만들어가<br/></span>', '<span style=\"color: #396ad8\">I want you to</span>', '<span style=\"color: #396ad8\">I want you to</span>', '<span style=\"color: #396ad8\">I want you to</span>', '<span style=\"color: #396ad8\">Cry for me<br/></span>', '<span style=\"color: #996de7\">I don’t know 너란 놈 미워질 줄 모르고</span>', '<span style=\"color: #996de7\">친구들한텐 또 너를 감싸주는 중</span>', '<span style=\"color: #996de7\">바보가 돼 버렸군</span>', '<span style=\"color: #ff1744\">너 왜 자꾸 나를 보며 웃는데</span>', '<span style=\"color: #ff1744\">딱 한 번의 눈물이면 되는데</span>', '<span style=\"color: #ffe7ff\">Cry for me, let me please forgive you<br/></span>', '<span style=\"color: #ffb1b8\">아무것도 모르는 척</span>', '<span style=\"color: #ffe7ff\">Baby just like real love</span>', '<span style=\"color: #00ccff\">real love</span>', '<span style=\"color: #ffb1b8\">마지막 기회야 어서</span>', '<span style=\"color: #00ccff\">나</span>', '<span style=\"color: #ffe7ff\">다</span>', '<span style=\"color: #ffb74d\">Bad boy bad boy</span>', '<span style=\"color: #ffb74d\">yeah you really make me</span>', '<span style=\"color: #00ccff\">나</span>', '<span style=\"color: #ffb74d\">지</span>', '<span style=\"color: #ffb74d\">whoa</span>', '<span style=\"color: #84cc00\">I want you to cry, cry for me</span>', '<span style=\"color: #00ccff\">me</span>', '<span style=\"color: #ffb74d\"><br/><span style=\"color: #84cc00\">내가 울었던 것처럼 Cry for me</span><br/><span style=\"color: #84cc00\">Make your rain fall</span><br/><span style=\"color: #84cc00\">Cry for me</span></span>', '<span style=\"color: #84cc00\">내가 울었던 것처럼 Cry for me</span>', '<span style=\"color: #84cc00\">Make your rain fall</span>', '<span style=\"color: #84cc00\">Cry for me</span>', '<span style=\"color: #1af0af\">me, yeah</span>', '<span style=\"color: #ffb74d\"><span style=\"color: #84cc00\">but</span><br/><span style=\"color: #84cc00\">Again</span></span>', '<span style=\"color: #84cc00\">but</span>', '<span style=\"color: #84cc00\">Again</span>', '<span style=\"color: #00ccff\">조금씩 조금씩 또 빠져가</span>', '<span style=\"color: #00ccff\">사랑에 내 결심이 또 무너져가</span>', '<span style=\"color: #00ccff\">용서할 핑계를 만들어가</span>', '<span style=\"color: #996de7\">I want you to</span>', '<span style=\"color: #996de7\">I want you to</span>', '<span style=\"color: #996de7\">I want you to</span>', '<span style=\"color: #996de7\">Cry for me</span>', '<span style=\"color: #1af0af\">사랑이란 게 너무 독해</span>', '<span style=\"color: #1af0af\">미운 마음도 다 녹아버리게 해</span>', '<span style=\"color: #396ad8\">또 다시 원해 널 내 곁에 yeah yeah<br/></span>', '<span style=\"color: #00ccff\">I want you to cry, cry for me</span>', '<span style=\"color: #00ccff\">너 연기라도 해 빨리 Cry for me</span>', '<span style=\"color: #00ccff\">Make your rain fall</span>', '<span style=\"color: #00ccff\">fall and fall now<br/></span>', '<span style=\"color: #84cc00\">I want you to cry, cry for me</span>', '<span style=\"color: #00ccff\">me</span>', '<span style=\"color: #00ccff\">나</span>', '<span style=\"color: #84cc00\">정</span>', '<span style=\"color: #84cc00\"> 내가 울었던 것처럼 </span>', '<span style=\"color: #84cc00\">Make your rain fall</span>', '<span style=\"color: #84cc00\">Cry for me</span>', '<span style=\"color: #00ccff\">me</span>', '<span style=\"color: #84cc00\">but</span>', '<span style=\"color: #84cc00\">Again<br/></span>', '<span style=\"color: #ffb74d\">조금씩 조금씩 또 빠져가</span>', '<span style=\"color: #ffb74d\">사랑에 내 결심이 또 무너져가</span>', '<span style=\"color: #ffb74d\">용서할 핑계를 만들어가</span>', '<span style=\"color: #ff1744\">I want you to</span>', '<span style=\"color: #ff1744\">I want you to</span>', '<span style=\"color: #ff1744\">I want you to</span>', '<span style=\"color: #ff1744\">Die for me</span>', '<span class=\"has-inline-color has-very-light-gray-color\">Translation</span>', '<span class=\"has-inline-color has-very-light-gray-color\">Credits</span>', '<span class=\"has-inline-color has-vivid-red-color\">Korean: genie.co.kr<br/>Rom: colorcodedlyrics.com<br/>Eng: JYP Entertainment<br/>Info: genie.co.kr</span>']\n"
     ]
    },
    {
     "ename": "ValueError",
     "evalue": "arrays must all be same length",
     "output_type": "error",
     "traceback": [
      "\u001b[0;31m---------------------------------------------------------------------------\u001b[0m",
      "\u001b[0;31mValueError\u001b[0m                                Traceback (most recent call last)",
      "\u001b[0;32m<ipython-input-350-cd79816a5ae9>\u001b[0m in \u001b[0;36m<module>\u001b[0;34m\u001b[0m\n\u001b[1;32m      1\u001b[0m \u001b[0mlyric_url\u001b[0m \u001b[0;34m=\u001b[0m \u001b[0;34m'https://colorcodedlyrics.com/2020/12/twice-cry-for-me'\u001b[0m\u001b[0;34m\u001b[0m\u001b[0;34m\u001b[0m\u001b[0m\n\u001b[0;32m----> 2\u001b[0;31m \u001b[0mdf\u001b[0m \u001b[0;34m=\u001b[0m \u001b[0mget_member_lines\u001b[0m\u001b[0;34m(\u001b[0m\u001b[0mlyric_url\u001b[0m\u001b[0;34m)\u001b[0m\u001b[0;34m\u001b[0m\u001b[0;34m\u001b[0m\u001b[0m\n\u001b[0m\u001b[1;32m      3\u001b[0m \u001b[0mdf\u001b[0m\u001b[0;34m\u001b[0m\u001b[0;34m\u001b[0m\u001b[0m\n",
      "\u001b[0;32m<ipython-input-349-382d9ff9cd83>\u001b[0m in \u001b[0;36mget_member_lines\u001b[0;34m(lyric_url)\u001b[0m\n\u001b[1;32m     44\u001b[0m \u001b[0;34m\u001b[0m\u001b[0m\n\u001b[1;32m     45\u001b[0m     \u001b[0;31m#build dataframe\u001b[0m\u001b[0;34m\u001b[0m\u001b[0;34m\u001b[0m\u001b[0;34m\u001b[0m\u001b[0m\n\u001b[0;32m---> 46\u001b[0;31m     df = pd.DataFrame({'member':member_tags,\n\u001b[0m\u001b[1;32m     47\u001b[0m                   'line':lyrics})\n\u001b[1;32m     48\u001b[0m     \u001b[0mdf\u001b[0m\u001b[0;34m[\u001b[0m\u001b[0;34m'member'\u001b[0m\u001b[0;34m]\u001b[0m \u001b[0;34m=\u001b[0m \u001b[0mdf\u001b[0m\u001b[0;34m[\u001b[0m\u001b[0;34m'member'\u001b[0m\u001b[0;34m]\u001b[0m\u001b[0;34m.\u001b[0m\u001b[0mapply\u001b[0m\u001b[0;34m(\u001b[0m\u001b[0;32mlambda\u001b[0m \u001b[0mx\u001b[0m\u001b[0;34m:\u001b[0m \u001b[0mmember_colors_dict\u001b[0m\u001b[0;34m[\u001b[0m\u001b[0mx\u001b[0m\u001b[0;34m]\u001b[0m\u001b[0;34m)\u001b[0m\u001b[0;34m\u001b[0m\u001b[0;34m\u001b[0m\u001b[0m\n",
      "\u001b[0;32m~/anaconda3/lib/python3.8/site-packages/pandas/core/frame.py\u001b[0m in \u001b[0;36m__init__\u001b[0;34m(self, data, index, columns, dtype, copy)\u001b[0m\n\u001b[1;32m    527\u001b[0m \u001b[0;34m\u001b[0m\u001b[0m\n\u001b[1;32m    528\u001b[0m         \u001b[0;32melif\u001b[0m \u001b[0misinstance\u001b[0m\u001b[0;34m(\u001b[0m\u001b[0mdata\u001b[0m\u001b[0;34m,\u001b[0m \u001b[0mdict\u001b[0m\u001b[0;34m)\u001b[0m\u001b[0;34m:\u001b[0m\u001b[0;34m\u001b[0m\u001b[0;34m\u001b[0m\u001b[0m\n\u001b[0;32m--> 529\u001b[0;31m             \u001b[0mmgr\u001b[0m \u001b[0;34m=\u001b[0m \u001b[0minit_dict\u001b[0m\u001b[0;34m(\u001b[0m\u001b[0mdata\u001b[0m\u001b[0;34m,\u001b[0m \u001b[0mindex\u001b[0m\u001b[0;34m,\u001b[0m \u001b[0mcolumns\u001b[0m\u001b[0;34m,\u001b[0m \u001b[0mdtype\u001b[0m\u001b[0;34m=\u001b[0m\u001b[0mdtype\u001b[0m\u001b[0;34m)\u001b[0m\u001b[0;34m\u001b[0m\u001b[0;34m\u001b[0m\u001b[0m\n\u001b[0m\u001b[1;32m    530\u001b[0m         \u001b[0;32melif\u001b[0m \u001b[0misinstance\u001b[0m\u001b[0;34m(\u001b[0m\u001b[0mdata\u001b[0m\u001b[0;34m,\u001b[0m \u001b[0mma\u001b[0m\u001b[0;34m.\u001b[0m\u001b[0mMaskedArray\u001b[0m\u001b[0;34m)\u001b[0m\u001b[0;34m:\u001b[0m\u001b[0;34m\u001b[0m\u001b[0;34m\u001b[0m\u001b[0m\n\u001b[1;32m    531\u001b[0m             \u001b[0;32mimport\u001b[0m \u001b[0mnumpy\u001b[0m\u001b[0;34m.\u001b[0m\u001b[0mma\u001b[0m\u001b[0;34m.\u001b[0m\u001b[0mmrecords\u001b[0m \u001b[0;32mas\u001b[0m \u001b[0mmrecords\u001b[0m\u001b[0;34m\u001b[0m\u001b[0;34m\u001b[0m\u001b[0m\n",
      "\u001b[0;32m~/anaconda3/lib/python3.8/site-packages/pandas/core/internals/construction.py\u001b[0m in \u001b[0;36minit_dict\u001b[0;34m(data, index, columns, dtype)\u001b[0m\n\u001b[1;32m    285\u001b[0m             \u001b[0marr\u001b[0m \u001b[0;32mif\u001b[0m \u001b[0;32mnot\u001b[0m \u001b[0mis_datetime64tz_dtype\u001b[0m\u001b[0;34m(\u001b[0m\u001b[0marr\u001b[0m\u001b[0;34m)\u001b[0m \u001b[0;32melse\u001b[0m \u001b[0marr\u001b[0m\u001b[0;34m.\u001b[0m\u001b[0mcopy\u001b[0m\u001b[0;34m(\u001b[0m\u001b[0;34m)\u001b[0m \u001b[0;32mfor\u001b[0m \u001b[0marr\u001b[0m \u001b[0;32min\u001b[0m \u001b[0marrays\u001b[0m\u001b[0;34m\u001b[0m\u001b[0;34m\u001b[0m\u001b[0m\n\u001b[1;32m    286\u001b[0m         ]\n\u001b[0;32m--> 287\u001b[0;31m     \u001b[0;32mreturn\u001b[0m \u001b[0marrays_to_mgr\u001b[0m\u001b[0;34m(\u001b[0m\u001b[0marrays\u001b[0m\u001b[0;34m,\u001b[0m \u001b[0mdata_names\u001b[0m\u001b[0;34m,\u001b[0m \u001b[0mindex\u001b[0m\u001b[0;34m,\u001b[0m \u001b[0mcolumns\u001b[0m\u001b[0;34m,\u001b[0m \u001b[0mdtype\u001b[0m\u001b[0;34m=\u001b[0m\u001b[0mdtype\u001b[0m\u001b[0;34m)\u001b[0m\u001b[0;34m\u001b[0m\u001b[0;34m\u001b[0m\u001b[0m\n\u001b[0m\u001b[1;32m    288\u001b[0m \u001b[0;34m\u001b[0m\u001b[0m\n\u001b[1;32m    289\u001b[0m \u001b[0;34m\u001b[0m\u001b[0m\n",
      "\u001b[0;32m~/anaconda3/lib/python3.8/site-packages/pandas/core/internals/construction.py\u001b[0m in \u001b[0;36marrays_to_mgr\u001b[0;34m(arrays, arr_names, index, columns, dtype, verify_integrity)\u001b[0m\n\u001b[1;32m     78\u001b[0m         \u001b[0;31m# figure out the index, if necessary\u001b[0m\u001b[0;34m\u001b[0m\u001b[0;34m\u001b[0m\u001b[0;34m\u001b[0m\u001b[0m\n\u001b[1;32m     79\u001b[0m         \u001b[0;32mif\u001b[0m \u001b[0mindex\u001b[0m \u001b[0;32mis\u001b[0m \u001b[0;32mNone\u001b[0m\u001b[0;34m:\u001b[0m\u001b[0;34m\u001b[0m\u001b[0;34m\u001b[0m\u001b[0m\n\u001b[0;32m---> 80\u001b[0;31m             \u001b[0mindex\u001b[0m \u001b[0;34m=\u001b[0m \u001b[0mextract_index\u001b[0m\u001b[0;34m(\u001b[0m\u001b[0marrays\u001b[0m\u001b[0;34m)\u001b[0m\u001b[0;34m\u001b[0m\u001b[0;34m\u001b[0m\u001b[0m\n\u001b[0m\u001b[1;32m     81\u001b[0m         \u001b[0;32melse\u001b[0m\u001b[0;34m:\u001b[0m\u001b[0;34m\u001b[0m\u001b[0;34m\u001b[0m\u001b[0m\n\u001b[1;32m     82\u001b[0m             \u001b[0mindex\u001b[0m \u001b[0;34m=\u001b[0m \u001b[0mensure_index\u001b[0m\u001b[0;34m(\u001b[0m\u001b[0mindex\u001b[0m\u001b[0;34m)\u001b[0m\u001b[0;34m\u001b[0m\u001b[0;34m\u001b[0m\u001b[0m\n",
      "\u001b[0;32m~/anaconda3/lib/python3.8/site-packages/pandas/core/internals/construction.py\u001b[0m in \u001b[0;36mextract_index\u001b[0;34m(data)\u001b[0m\n\u001b[1;32m    399\u001b[0m             \u001b[0mlengths\u001b[0m \u001b[0;34m=\u001b[0m \u001b[0mlist\u001b[0m\u001b[0;34m(\u001b[0m\u001b[0mset\u001b[0m\u001b[0;34m(\u001b[0m\u001b[0mraw_lengths\u001b[0m\u001b[0;34m)\u001b[0m\u001b[0;34m)\u001b[0m\u001b[0;34m\u001b[0m\u001b[0;34m\u001b[0m\u001b[0m\n\u001b[1;32m    400\u001b[0m             \u001b[0;32mif\u001b[0m \u001b[0mlen\u001b[0m\u001b[0;34m(\u001b[0m\u001b[0mlengths\u001b[0m\u001b[0;34m)\u001b[0m \u001b[0;34m>\u001b[0m \u001b[0;36m1\u001b[0m\u001b[0;34m:\u001b[0m\u001b[0;34m\u001b[0m\u001b[0;34m\u001b[0m\u001b[0m\n\u001b[0;32m--> 401\u001b[0;31m                 \u001b[0;32mraise\u001b[0m \u001b[0mValueError\u001b[0m\u001b[0;34m(\u001b[0m\u001b[0;34m\"arrays must all be same length\"\u001b[0m\u001b[0;34m)\u001b[0m\u001b[0;34m\u001b[0m\u001b[0;34m\u001b[0m\u001b[0m\n\u001b[0m\u001b[1;32m    402\u001b[0m \u001b[0;34m\u001b[0m\u001b[0m\n\u001b[1;32m    403\u001b[0m             \u001b[0;32mif\u001b[0m \u001b[0mhave_dicts\u001b[0m\u001b[0;34m:\u001b[0m\u001b[0;34m\u001b[0m\u001b[0;34m\u001b[0m\u001b[0m\n",
      "\u001b[0;31mValueError\u001b[0m: arrays must all be same length"
     ]
    }
   ],
   "source": [
    "lyric_url = 'https://colorcodedlyrics.com/2020/12/twice-cry-for-me'\n",
    "df = get_member_lines(lyric_url)\n",
    "df"
   ]
  },
  {
   "cell_type": "code",
   "execution_count": null,
   "metadata": {},
   "outputs": [],
   "source": [
    "lyric_url = 'https://colorcodedlyrics.com/2018/07/twice-dance-night-away'\n",
    "df = get_member_lines(lyric_url)\n",
    "print(df.head())\n",
    "df.to_csv(\"data/processed/color_coded_lyrics/DanceTheNightAway.csv\", index=False)"
   ]
  },
  {
   "cell_type": "code",
   "execution_count": 295,
   "metadata": {
    "ExecuteTime": {
     "end_time": "2021-03-20T17:22:22.166643Z",
     "start_time": "2021-03-20T17:22:20.978988Z"
    }
   },
   "outputs": [
    {
     "name": "stdout",
     "output_type": "stream",
     "text": [
      "{'#00ccff': 'Nayeon', '#84cc00': 'Jeongyeon', '#ffb1b8': 'Momo', '#996de7': 'Sana', '#ffb74d': 'Jihyo', '#1af0af': 'Mina', '#ffe7ff': 'Dahyun', '#ff1744': 'Chaeyoung', '#396ad8': 'Tzuyu'}\n",
      "   member                           line\n",
      "0    Mina  Lalalalalalala lalalalalalala\n",
      "1    Mina  Lalalalalalala lalalalalalala\n",
      "2  Nayeon    You and me in the moonlight\n",
      "3  Nayeon  byeol kkot chukje yeollin bam\n",
      "4    Sana           pado sorireul teulgo\n"
     ]
    }
   ],
   "source": [
    "lyric_url = 'https://colorcodedlyrics.com/2018/07/twice-dance-night-away'\n",
    "df = get_member_lines(lyric_url)\n",
    "print(df.head())\n",
    "df.to_csv(\"data/processed/color_coded_lyrics/DanceTheNightAway.csv\", index=False)"
   ]
  },
  {
   "cell_type": "code",
   "execution_count": 250,
   "metadata": {
    "ExecuteTime": {
     "end_time": "2021-03-20T17:03:17.414844Z",
     "start_time": "2021-03-20T17:03:16.388273Z"
    }
   },
   "outputs": [
    {
     "name": "stdout",
     "output_type": "stream",
     "text": [
      "ICAN’TSTOPME\n",
      "   member                                      line\n",
      "0  Nayeon         allami ullyeodae Ring ring a ling\n",
      "1  Nayeon           seoroye nungiri daheul ttaemada\n",
      "2    Mina              almyeonseo bingbing doneunde\n",
      "3    Mina  jeomjeom dagagajana I know it’s too late\n",
      "4    Sana           maeumsogeuroneun da algo itjana\n"
     ]
    }
   ],
   "source": [
    "lyric_url = 'https://colorcodedlyrics.com/2020/10/twice-i-can-t-stop-me'\n",
    "df = get_member_lines(lyric_url)\n",
    "print(df.head())\n",
    "df.to_csv(\"data/processed/color_coded_lyrics/ICantStopMe.csv\", index=False)"
   ]
  },
  {
   "cell_type": "code",
   "execution_count": 249,
   "metadata": {
    "ExecuteTime": {
     "end_time": "2021-03-20T17:03:08.846849Z",
     "start_time": "2021-03-20T17:03:07.625479Z"
    }
   },
   "outputs": [
    {
     "name": "stdout",
     "output_type": "stream",
     "text": [
      "MORE&MORE\n",
      "   member                                               line\n",
      "0  Nayeon                                   I know I want it\n",
      "1  Nayeon                   ibe bareun sorin ije geumanhalge\n",
      "2  Nayeon                      Cause I deserve it deserve it\n",
      "3    Mina  hokshi jamkkan naega miweojideorado geokjeong ...\n",
      "4    Mina                        Cause I know you I know you\n"
     ]
    }
   ],
   "source": [
    "lyric_url = 'https://colorcodedlyrics.com/2020/06/twice-more-amp-more'\n",
    "df = get_member_lines(lyric_url)\n",
    "print(df.head())\n",
    "df.to_csv(\"data/processed/color_coded_lyrics/More&More.csv\", index=False)"
   ]
  },
  {
   "cell_type": "code",
   "execution_count": null,
   "metadata": {},
   "outputs": [],
   "source": []
  },
  {
   "cell_type": "code",
   "execution_count": null,
   "metadata": {},
   "outputs": [],
   "source": []
  },
  {
   "cell_type": "code",
   "execution_count": 187,
   "metadata": {
    "ExecuteTime": {
     "end_time": "2021-03-20T16:27:57.028741Z",
     "start_time": "2021-03-20T16:27:55.864800Z"
    }
   },
   "outputs": [
    {
     "name": "stdout",
     "output_type": "stream",
     "text": [
      "MORE&MORE\n"
     ]
    },
    {
     "data": {
      "text/html": [
       "<div>\n",
       "<style scoped>\n",
       "    .dataframe tbody tr th:only-of-type {\n",
       "        vertical-align: middle;\n",
       "    }\n",
       "\n",
       "    .dataframe tbody tr th {\n",
       "        vertical-align: top;\n",
       "    }\n",
       "\n",
       "    .dataframe thead th {\n",
       "        text-align: right;\n",
       "    }\n",
       "</style>\n",
       "<table border=\"1\" class=\"dataframe\">\n",
       "  <thead>\n",
       "    <tr style=\"text-align: right;\">\n",
       "      <th></th>\n",
       "      <th>member</th>\n",
       "      <th>line</th>\n",
       "    </tr>\n",
       "  </thead>\n",
       "  <tbody>\n",
       "    <tr>\n",
       "      <th>0</th>\n",
       "      <td>Nayeon</td>\n",
       "      <td>I know I want it</td>\n",
       "    </tr>\n",
       "    <tr>\n",
       "      <th>1</th>\n",
       "      <td>Nayeon</td>\n",
       "      <td>ibe bareun sorin ije geumanhalge</td>\n",
       "    </tr>\n",
       "    <tr>\n",
       "      <th>2</th>\n",
       "      <td>Nayeon</td>\n",
       "      <td>Cause I deserve it deserve it</td>\n",
       "    </tr>\n",
       "    <tr>\n",
       "      <th>3</th>\n",
       "      <td>Mina</td>\n",
       "      <td>hokshi jamkkan naega miweojideorado geokjeong ...</td>\n",
       "    </tr>\n",
       "    <tr>\n",
       "      <th>4</th>\n",
       "      <td>Mina</td>\n",
       "      <td>Cause I know you I know you</td>\n",
       "    </tr>\n",
       "    <tr>\n",
       "      <th>...</th>\n",
       "      <td>...</td>\n",
       "      <td>...</td>\n",
       "    </tr>\n",
       "    <tr>\n",
       "      <th>56</th>\n",
       "      <td>Tzuyu</td>\n",
       "      <td>geureoni han beon deo</td>\n",
       "    </tr>\n",
       "    <tr>\n",
       "      <th>57</th>\n",
       "      <td>Nayeon</td>\n",
       "      <td>geureoni han beon deo</td>\n",
       "    </tr>\n",
       "    <tr>\n",
       "      <th>58</th>\n",
       "      <td>Mina</td>\n",
       "      <td>meomchugiga shireo</td>\n",
       "    </tr>\n",
       "    <tr>\n",
       "      <th>59</th>\n",
       "      <td>Nayeon</td>\n",
       "      <td>More and more</td>\n",
       "    </tr>\n",
       "    <tr>\n",
       "      <th>60</th>\n",
       "      <td>Nayeon</td>\n",
       "      <td>geureoni han beon deo</td>\n",
       "    </tr>\n",
       "  </tbody>\n",
       "</table>\n",
       "<p>61 rows × 2 columns</p>\n",
       "</div>"
      ],
      "text/plain": [
       "    member                                               line\n",
       "0   Nayeon                                   I know I want it\n",
       "1   Nayeon                   ibe bareun sorin ije geumanhalge\n",
       "2   Nayeon                      Cause I deserve it deserve it\n",
       "3     Mina  hokshi jamkkan naega miweojideorado geokjeong ...\n",
       "4     Mina                        Cause I know you I know you\n",
       "..     ...                                                ...\n",
       "56   Tzuyu                             geureoni han beon deo \n",
       "57  Nayeon                              geureoni han beon deo\n",
       "58    Mina                                meomchugiga shireo \n",
       "59  Nayeon                                      More and more\n",
       "60  Nayeon                              geureoni han beon deo\n",
       "\n",
       "[61 rows x 2 columns]"
      ]
     },
     "execution_count": 187,
     "metadata": {},
     "output_type": "execute_result"
    }
   ],
   "source": [
    "lyric_url = 'https://colorcodedlyrics.com/2020/06/twice-more-amp-more'\n",
    "get_member_lines(lyric_url)"
   ]
  },
  {
   "cell_type": "code",
   "execution_count": 281,
   "metadata": {
    "ExecuteTime": {
     "end_time": "2021-03-20T17:18:07.682749Z",
     "start_time": "2021-03-20T17:18:06.611309Z"
    }
   },
   "outputs": [],
   "source": [
    "lyric_url = 'https://colorcodedlyrics.com/2018/07/twice-dance-night-away'\n",
    "##################\n",
    "with urllib.request.urlopen(lyric_url) as response:\n",
    "    content = response.read()\n",
    "soup = BeautifulSoup(content)"
   ]
  },
  {
   "cell_type": "code",
   "execution_count": 285,
   "metadata": {
    "ExecuteTime": {
     "end_time": "2021-03-20T17:18:42.869687Z",
     "start_time": "2021-03-20T17:18:42.853399Z"
    }
   },
   "outputs": [
    {
     "data": {
      "text/plain": [
       "True"
      ]
     },
     "execution_count": 285,
     "metadata": {},
     "output_type": "execute_result"
    }
   ],
   "source": [
    "\"Jihyo\" in str(soup.find_all('td',attrs = {'style':\"text-align: center\"})[0])"
   ]
  },
  {
   "cell_type": "code",
   "execution_count": 253,
   "metadata": {
    "ExecuteTime": {
     "end_time": "2021-03-20T17:05:50.424212Z",
     "start_time": "2021-03-20T17:05:50.410254Z"
    }
   },
   "outputs": [
    {
     "data": {
      "text/plain": [
       "[<td style=\"text-align: center\"><span style=\"color: #00ccff\">Nayeon</span>, <span style=\"color: #84cc00\">Jeongyeon</span>, <span style=\"color: #ffb1b8\">Momo</span>,<br/>\n",
       " <span style=\"color: #996de7\">Sana</span>, <span style=\"color: #ffb74d\">Jihyo</span>, <span style=\"color: #1af0af\">Mina</span>,<br/>\n",
       " <span style=\"color: #ffe7ff\">Dahyun</span>, <span style=\"color: #ff1744\">Chaeyoung</span>, <span style=\"color: #396ad8\">Tzuyu</span></td>]"
      ]
     },
     "execution_count": 253,
     "metadata": {},
     "output_type": "execute_result"
    }
   ],
   "source": [
    "member_colors_raw = soup.find_all('td',attrs = {'style':\"text-align: center\"})\n",
    "#member_colors_dict = dict([(mc['style'].split(':')[1],mc.text)\\\n",
    "#                      for mc in member_colors_raw.find_all('span')])\n",
    "member_colors_raw"
   ]
  },
  {
   "cell_type": "code",
   "execution_count": 293,
   "metadata": {
    "ExecuteTime": {
     "end_time": "2021-03-20T17:21:45.874875Z",
     "start_time": "2021-03-20T17:21:45.864405Z"
    }
   },
   "outputs": [
    {
     "data": {
      "text/plain": [
       "21"
      ]
     },
     "execution_count": 293,
     "metadata": {},
     "output_type": "execute_result"
    }
   ],
   "source": [
    "max_length_div = max([len(td) for td in soup.find_all('td')])\n"
   ]
  },
  {
   "cell_type": "code",
   "execution_count": null,
   "metadata": {},
   "outputs": [],
   "source": []
  },
  {
   "cell_type": "code",
   "execution_count": 206,
   "metadata": {
    "ExecuteTime": {
     "end_time": "2021-03-20T16:46:25.090803Z",
     "start_time": "2021-03-20T16:46:25.074441Z"
    }
   },
   "outputs": [
    {
     "ename": "IndexError",
     "evalue": "list index out of range",
     "output_type": "error",
     "traceback": [
      "\u001b[0;31m---------------------------------------------------------------------------\u001b[0m",
      "\u001b[0;31mIndexError\u001b[0m                                Traceback (most recent call last)",
      "\u001b[0;32m<ipython-input-206-f7a49add78b4>\u001b[0m in \u001b[0;36m<module>\u001b[0;34m\u001b[0m\n\u001b[0;32m----> 1\u001b[0;31m \u001b[0mmember_colors_raw\u001b[0m \u001b[0;34m=\u001b[0m \u001b[0msoup\u001b[0m\u001b[0;34m.\u001b[0m\u001b[0mfind_all\u001b[0m\u001b[0;34m(\u001b[0m\u001b[0;34m'p'\u001b[0m\u001b[0;34m,\u001b[0m\u001b[0mattrs\u001b[0m \u001b[0;34m=\u001b[0m \u001b[0;34m{\u001b[0m\u001b[0;34m'class'\u001b[0m\u001b[0;34m:\u001b[0m\u001b[0;34m\"has-text-align-center\"\u001b[0m\u001b[0;34m}\u001b[0m\u001b[0;34m)\u001b[0m\u001b[0;34m[\u001b[0m\u001b[0;36m1\u001b[0m\u001b[0;34m]\u001b[0m\u001b[0;34m\u001b[0m\u001b[0;34m\u001b[0m\u001b[0m\n\u001b[0m\u001b[1;32m      2\u001b[0m member_colors_dict = dict([(mc['style'].split(':')[1],mc.text)\\\n\u001b[1;32m      3\u001b[0m                       for mc in member_colors_raw.find_all('span')])\n\u001b[1;32m      4\u001b[0m \u001b[0mmember_colors_dict\u001b[0m\u001b[0;34m\u001b[0m\u001b[0;34m\u001b[0m\u001b[0m\n",
      "\u001b[0;31mIndexError\u001b[0m: list index out of range"
     ]
    }
   ],
   "source": [
    "member_colors_raw = soup.find_all('',attrs = {'class':\"has-text-align-center\"})[1]\n",
    "member_colors_dict = dict([(mc['style'].split(':')[1],mc.text)\\\n",
    "                      for mc in member_colors_raw.find_all('span')])\n",
    "member_colors_dict"
   ]
  },
  {
   "cell_type": "code",
   "execution_count": 220,
   "metadata": {
    "ExecuteTime": {
     "end_time": "2021-03-20T16:52:15.803728Z",
     "start_time": "2021-03-20T16:52:15.789793Z"
    }
   },
   "outputs": [
    {
     "data": {
      "text/plain": [
       "['#00ccff',\n",
       " '#00ccff',\n",
       " '#1af0af',\n",
       " '#1af0af',\n",
       " '#996de7',\n",
       " '#996de7',\n",
       " '#ff1744',\n",
       " '#ff1744',\n",
       " '#84cc00',\n",
       " '#84cc00',\n",
       " '#ffb74d',\n",
       " '#ffb74d',\n",
       " '#ffb74d',\n",
       " '#ffb1b8',\n",
       " '#00ccff',\n",
       " '#00ccff',\n",
       " '#00ccff',\n",
       " '#ffe7ff',\n",
       " '#396ad8',\n",
       " '#ffb1b8',\n",
       " '#ffe7ff',\n",
       " '#ffb1b8',\n",
       " '#84cc00',\n",
       " '#ffb74d',\n",
       " '#396ad8',\n",
       " '#396ad8',\n",
       " '#996de7',\n",
       " '#996de7',\n",
       " '#ff1744',\n",
       " '#ff1744',\n",
       " '#00ccff',\n",
       " '#00ccff',\n",
       " '#00ccff',\n",
       " '#ffe7ff',\n",
       " '#ffb74d',\n",
       " '#00ccff',\n",
       " '#ffb74d',\n",
       " '#ffb74d',\n",
       " '#1af0af',\n",
       " '#ff1744',\n",
       " '#ff1744',\n",
       " '#ffe7ff',\n",
       " '#ffe7ff',\n",
       " '#ffb1b8',\n",
       " '#ffb1b8',\n",
       " '#ffe7ff',\n",
       " '#ffe7ff',\n",
       " '#1af0af',\n",
       " '#996de7',\n",
       " '#396ad8',\n",
       " '#00ccff',\n",
       " '#84cc00',\n",
       " '#84cc00',\n",
       " '#84cc00',\n",
       " '#ff1744',\n",
       " '#00ccff',\n",
       " '#00ccff',\n",
       " '#00ccff',\n",
       " '#996de7',\n",
       " '#396ad8']"
      ]
     },
     "execution_count": 220,
     "metadata": {},
     "output_type": "execute_result"
    }
   ],
   "source": [
    "lyric_table = soup.find_all('div', attrs = {'class':\"wp-block-group\"})[2]\n",
    "lyrics_raw = lyric_table.find_all('span')\n",
    "lyrics = [l.text for l in lyrics_raw]\n",
    "member_tags = [l['style'].split(': ')[1] for l in lyrics_raw]\n"
   ]
  },
  {
   "cell_type": "code",
   "execution_count": 173,
   "metadata": {
    "ExecuteTime": {
     "end_time": "2021-03-20T16:16:09.004876Z",
     "start_time": "2021-03-20T16:16:08.999390Z"
    }
   },
   "outputs": [],
   "source": [
    "#romanized lyrics\n",
    "lyric_table = soup.find_all('td')[0]\n",
    "lyrics_raw = lyric_table.find_all('span')\n",
    "lyrics = [l.text for l in lyrics_raw]\n",
    "member_tags = [l['style'].split(': ')[1] for l in lyrics_raw]"
   ]
  },
  {
   "cell_type": "code",
   "execution_count": 176,
   "metadata": {
    "ExecuteTime": {
     "end_time": "2021-03-20T16:16:47.816956Z",
     "start_time": "2021-03-20T16:16:47.800371Z"
    }
   },
   "outputs": [
    {
     "data": {
      "text/html": [
       "<div>\n",
       "<style scoped>\n",
       "    .dataframe tbody tr th:only-of-type {\n",
       "        vertical-align: middle;\n",
       "    }\n",
       "\n",
       "    .dataframe tbody tr th {\n",
       "        vertical-align: top;\n",
       "    }\n",
       "\n",
       "    .dataframe thead th {\n",
       "        text-align: right;\n",
       "    }\n",
       "</style>\n",
       "<table border=\"1\" class=\"dataframe\">\n",
       "  <thead>\n",
       "    <tr style=\"text-align: right;\">\n",
       "      <th></th>\n",
       "      <th>member</th>\n",
       "      <th>line</th>\n",
       "    </tr>\n",
       "  </thead>\n",
       "  <tbody>\n",
       "    <tr>\n",
       "      <th>0</th>\n",
       "      <td>Nayeon</td>\n",
       "      <td>I know I want it</td>\n",
       "    </tr>\n",
       "    <tr>\n",
       "      <th>1</th>\n",
       "      <td>Nayeon</td>\n",
       "      <td>ibe bareun sorin ije geumanhalge</td>\n",
       "    </tr>\n",
       "    <tr>\n",
       "      <th>2</th>\n",
       "      <td>Nayeon</td>\n",
       "      <td>Cause I deserve it deserve it</td>\n",
       "    </tr>\n",
       "    <tr>\n",
       "      <th>3</th>\n",
       "      <td>Mina</td>\n",
       "      <td>hokshi jamkkan naega miweojideorado geokjeong ...</td>\n",
       "    </tr>\n",
       "    <tr>\n",
       "      <th>4</th>\n",
       "      <td>Mina</td>\n",
       "      <td>Cause I know you I know you</td>\n",
       "    </tr>\n",
       "    <tr>\n",
       "      <th>...</th>\n",
       "      <td>...</td>\n",
       "      <td>...</td>\n",
       "    </tr>\n",
       "    <tr>\n",
       "      <th>56</th>\n",
       "      <td>Tzuyu</td>\n",
       "      <td>geureoni han beon deo</td>\n",
       "    </tr>\n",
       "    <tr>\n",
       "      <th>57</th>\n",
       "      <td>Nayeon</td>\n",
       "      <td>geureoni han beon deo</td>\n",
       "    </tr>\n",
       "    <tr>\n",
       "      <th>58</th>\n",
       "      <td>Mina</td>\n",
       "      <td>meomchugiga shireo</td>\n",
       "    </tr>\n",
       "    <tr>\n",
       "      <th>59</th>\n",
       "      <td>Nayeon</td>\n",
       "      <td>More and more</td>\n",
       "    </tr>\n",
       "    <tr>\n",
       "      <th>60</th>\n",
       "      <td>Nayeon</td>\n",
       "      <td>geureoni han beon deo</td>\n",
       "    </tr>\n",
       "  </tbody>\n",
       "</table>\n",
       "<p>61 rows × 2 columns</p>\n",
       "</div>"
      ],
      "text/plain": [
       "    member                                               line\n",
       "0   Nayeon                                   I know I want it\n",
       "1   Nayeon                   ibe bareun sorin ije geumanhalge\n",
       "2   Nayeon                      Cause I deserve it deserve it\n",
       "3     Mina  hokshi jamkkan naega miweojideorado geokjeong ...\n",
       "4     Mina                        Cause I know you I know you\n",
       "..     ...                                                ...\n",
       "56   Tzuyu                             geureoni han beon deo \n",
       "57  Nayeon                              geureoni han beon deo\n",
       "58    Mina                                meomchugiga shireo \n",
       "59  Nayeon                                      More and more\n",
       "60  Nayeon                              geureoni han beon deo\n",
       "\n",
       "[61 rows x 2 columns]"
      ]
     },
     "execution_count": 176,
     "metadata": {},
     "output_type": "execute_result"
    }
   ],
   "source": [
    "df = pd.DataFrame({'member':member_tags,\n",
    "                  'line':lyrics})\n",
    "df['member'] = df['member'].apply(lambda x: member_colors_dict[x])\n",
    "df"
   ]
  },
  {
   "cell_type": "code",
   "execution_count": null,
   "metadata": {},
   "outputs": [],
   "source": []
  },
  {
   "cell_type": "code",
   "execution_count": null,
   "metadata": {
    "ExecuteTime": {
     "end_time": "2021-03-20T09:46:54.346835Z",
     "start_time": "2021-03-20T09:46:54.334504Z"
    }
   },
   "outputs": [],
   "source": [
    "sub"
   ]
  },
  {
   "cell_type": "code",
   "execution_count": null,
   "metadata": {
    "ExecuteTime": {
     "end_time": "2021-03-20T11:16:39.910505Z",
     "start_time": "2021-03-20T11:16:39.894950Z"
    },
    "scrolled": true
   },
   "outputs": [],
   "source": [
    "re_pattern = r'[0-9]{2}:[0-9]{2}:[0-9]{2},[0-9]{3} -->'\n",
    "regex = re.compile(re_pattern)\n",
    "# Get start times\n",
    "times = list(filter(regex.search, sub))\n",
    "start_times = [time.split(' ')[0] for time in times]    \n",
    "end_times = [time.split(' ')[2].strip('\\n') for time in times]   \n",
    "list(zip(start_times,end_times))"
   ]
  },
  {
   "cell_type": "code",
   "execution_count": null,
   "metadata": {
    "ExecuteTime": {
     "end_time": "2021-03-20T11:16:40.461699Z",
     "start_time": "2021-03-20T11:16:40.446979Z"
    },
    "scrolled": true
   },
   "outputs": [],
   "source": [
    "lines = [[]]\n",
    "for sentence in sub:\n",
    "    if re.match(re_pattern, sentence):\n",
    "        lines[-1].pop()\n",
    "        lines.append([])\n",
    "    else:\n",
    "        clean_line = re.sub(\"[\\(\\[].*?[\\)\\]],\", \"\", sentence.strip())\n",
    "        lines[-1].append(clean_line)\n",
    "lines = lines[1:]   \n",
    "lines = [x[0] for x in lines]\n",
    "lines"
   ]
  },
  {
   "cell_type": "code",
   "execution_count": null,
   "metadata": {
    "ExecuteTime": {
     "end_time": "2021-03-20T11:16:45.879232Z",
     "start_time": "2021-03-20T11:16:45.845497Z"
    }
   },
   "outputs": [],
   "source": [
    "df = pd.DataFrame(list(zip(start_times, end_times, lines)),\\\n",
    "                  columns=['start_time','end_time','lyric'])\n",
    "df"
   ]
  },
  {
   "cell_type": "code",
   "execution_count": null,
   "metadata": {
    "ExecuteTime": {
     "end_time": "2021-03-20T15:06:29.055170Z",
     "start_time": "2021-03-20T15:06:29.004951Z"
    }
   },
   "outputs": [],
   "source": [
    "df['duration'] = pd.to_datetime(df['end_time'])-pd.to_datetime(df['start_time']) \n",
    "df['duration'] = df['duration']/ np.timedelta64(1, 's')\n",
    "df"
   ]
  },
  {
   "cell_type": "code",
   "execution_count": null,
   "metadata": {
    "ExecuteTime": {
     "end_time": "2021-03-20T14:59:53.710160Z",
     "start_time": "2021-03-20T14:59:53.695399Z"
    }
   },
   "outputs": [],
   "source": [
    "df['duration'].values[0].item().total_seconds()"
   ]
  },
  {
   "cell_type": "code",
   "execution_count": null,
   "metadata": {},
   "outputs": [],
   "source": []
  }
 ],
 "metadata": {
  "kernelspec": {
   "display_name": "Python 3",
   "language": "python",
   "name": "python3"
  },
  "language_info": {
   "codemirror_mode": {
    "name": "ipython",
    "version": 3
   },
   "file_extension": ".py",
   "mimetype": "text/x-python",
   "name": "python",
   "nbconvert_exporter": "python",
   "pygments_lexer": "ipython3",
   "version": "3.8.5"
  }
 },
 "nbformat": 4,
 "nbformat_minor": 4
}
