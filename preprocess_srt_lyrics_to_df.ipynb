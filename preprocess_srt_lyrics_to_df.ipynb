{
 "cells": [
  {
   "cell_type": "code",
   "execution_count": 1,
   "metadata": {
    "ExecuteTime": {
     "end_time": "2021-03-23T09:42:56.083788Z",
     "start_time": "2021-03-23T09:42:55.019065Z"
    }
   },
   "outputs": [],
   "source": [
    "import pandas as pd\n",
    "import numpy as np\n",
    "\n",
    "import re\n",
    "import os\n",
    "\n",
    "import urllib.request\n",
    "from bs4 import BeautifulSoup"
   ]
  },
  {
   "cell_type": "code",
   "execution_count": 2,
   "metadata": {
    "ExecuteTime": {
     "end_time": "2021-03-23T09:42:56.103477Z",
     "start_time": "2021-03-23T09:42:56.086817Z"
    }
   },
   "outputs": [],
   "source": [
    "fn_list = os.listdir('data/raw/')"
   ]
  },
  {
   "cell_type": "markdown",
   "metadata": {},
   "source": [
    "### Get timed data from youtube srt"
   ]
  },
  {
   "cell_type": "code",
   "execution_count": 3,
   "metadata": {
    "ExecuteTime": {
     "end_time": "2021-03-23T09:42:56.268772Z",
     "start_time": "2021-03-23T09:42:56.257836Z"
    }
   },
   "outputs": [],
   "source": [
    "def create_lyrics_table(fn):\n",
    "    #read lines\n",
    "    with open(fn, 'r') as h:\n",
    "        sub = h.readlines()\n",
    "    \n",
    "    # Get start,end times\n",
    "    re_pattern = r'[0-9]{2}:[0-9]{2}:[0-9]{2},[0-9]{3} -->'\n",
    "    regex = re.compile(re_pattern)\n",
    "    times = list(filter(regex.search, sub))\n",
    "    start_times = [time.split(' ')[0] for time in times]    \n",
    "    end_times = [time.split(' ')[2].strip('\\n') for time in times]   \n",
    "    \n",
    "    # Get lines\n",
    "    lines = [[]]\n",
    "    for sentence in sub:\n",
    "        if re.match(re_pattern, sentence):\n",
    "            lines[-1].pop()\n",
    "            lines.append([])\n",
    "        else:\n",
    "            clean_line = re.sub(\"[\\(\\[].*?[\\)\\]],\", \"\", sentence.strip())\n",
    "            lines[-1].append(clean_line)\n",
    "    lines = lines[1:]   \n",
    "    lines = [x[0] for x in lines]\n",
    "    \n",
    "    # construct dataframe\n",
    "    df = pd.DataFrame(list(zip(start_times, end_times, lines)),\\\n",
    "                  columns=['start_time','end_time','lyric'])\n",
    "    #get duration\n",
    "    df['duration'] = pd.to_datetime(df['end_time'])-pd.to_datetime(df['start_time']) \n",
    "    df['duration'] = df['duration']/ np.timedelta64(1, 's')\n",
    "    return df"
   ]
  },
  {
   "cell_type": "code",
   "execution_count": 95,
   "metadata": {
    "ExecuteTime": {
     "end_time": "2021-03-20T15:25:19.073548Z",
     "start_time": "2021-03-20T15:25:19.040349Z"
    },
    "scrolled": true
   },
   "outputs": [
    {
     "data": {
      "text/html": [
       "<div>\n",
       "<style scoped>\n",
       "    .dataframe tbody tr th:only-of-type {\n",
       "        vertical-align: middle;\n",
       "    }\n",
       "\n",
       "    .dataframe tbody tr th {\n",
       "        vertical-align: top;\n",
       "    }\n",
       "\n",
       "    .dataframe thead th {\n",
       "        text-align: right;\n",
       "    }\n",
       "</style>\n",
       "<table border=\"1\" class=\"dataframe\">\n",
       "  <thead>\n",
       "    <tr style=\"text-align: right;\">\n",
       "      <th></th>\n",
       "      <th>start_time</th>\n",
       "      <th>end_time</th>\n",
       "      <th>lyric</th>\n",
       "      <th>duration</th>\n",
       "    </tr>\n",
       "  </thead>\n",
       "  <tbody>\n",
       "    <tr>\n",
       "      <th>0</th>\n",
       "      <td>00:00:15,370</td>\n",
       "      <td>00:00:18,953</td>\n",
       "      <td>Alarm goes off Ring ring a ling</td>\n",
       "      <td>3.583</td>\n",
       "    </tr>\n",
       "    <tr>\n",
       "      <th>1</th>\n",
       "      <td>00:00:18,953</td>\n",
       "      <td>00:00:22,220</td>\n",
       "      <td>Whenever our eyes meet</td>\n",
       "      <td>3.267</td>\n",
       "    </tr>\n",
       "    <tr>\n",
       "      <th>2</th>\n",
       "      <td>00:00:22,220</td>\n",
       "      <td>00:00:25,522</td>\n",
       "      <td>I notice but just spin around</td>\n",
       "      <td>3.302</td>\n",
       "    </tr>\n",
       "    <tr>\n",
       "      <th>3</th>\n",
       "      <td>00:00:25,522</td>\n",
       "      <td>00:00:28,814</td>\n",
       "      <td>Yet I keep getting closer I know it’s too late</td>\n",
       "      <td>3.292</td>\n",
       "    </tr>\n",
       "    <tr>\n",
       "      <th>4</th>\n",
       "      <td>00:00:28,814</td>\n",
       "      <td>00:00:31,814</td>\n",
       "      <td>In my heart I already know</td>\n",
       "      <td>3.000</td>\n",
       "    </tr>\n",
       "  </tbody>\n",
       "</table>\n",
       "</div>"
      ],
      "text/plain": [
       "     start_time      end_time                                           lyric  \\\n",
       "0  00:00:15,370  00:00:18,953                 Alarm goes off Ring ring a ling   \n",
       "1  00:00:18,953  00:00:22,220                          Whenever our eyes meet   \n",
       "2  00:00:22,220  00:00:25,522                   I notice but just spin around   \n",
       "3  00:00:25,522  00:00:28,814  Yet I keep getting closer I know it’s too late   \n",
       "4  00:00:28,814  00:00:31,814                      In my heart I already know   \n",
       "\n",
       "   duration  \n",
       "0     3.583  \n",
       "1     3.267  \n",
       "2     3.302  \n",
       "3     3.292  \n",
       "4     3.000  "
      ]
     },
     "execution_count": 95,
     "metadata": {},
     "output_type": "execute_result"
    }
   ],
   "source": [
    "fn = 'data/raw/ICantStopMe_eng.srt'\n",
    "df = create_lyrics_table(fn)\n",
    "df.head()"
   ]
  },
  {
   "cell_type": "code",
   "execution_count": 32,
   "metadata": {
    "ExecuteTime": {
     "end_time": "2021-03-23T15:26:53.822560Z",
     "start_time": "2021-03-23T15:26:53.781301Z"
    }
   },
   "outputs": [],
   "source": [
    "fn = \"More&More_ita.srt\"\n",
    "df = create_lyrics_table(\"data/raw/\"+fn)\n",
    "df['member'] = ''\n",
    "df.to_csv(\"data/processed/srts/\"+fn.split(\".srt\")[0]+\".csv\", index=False, encoding='utf8')\n",
    "\n"
   ]
  },
  {
   "cell_type": "code",
   "execution_count": 100,
   "metadata": {
    "ExecuteTime": {
     "end_time": "2021-03-20T15:27:54.780341Z",
     "start_time": "2021-03-20T15:27:54.227210Z"
    }
   },
   "outputs": [],
   "source": [
    "for fn in fn_list:\n",
    "    try:\n",
    "        df = create_lyrics_table(\"data/raw/\"+fn)\n",
    "        df['member'] = ''\n",
    "        df.to_csv(\"data/processed/\"+fn.split(\".srt\")[0]+\".csv\", index=False)\n",
    "    except Exception as e:\n",
    "        print(e)\n",
    "        "
   ]
  },
  {
   "cell_type": "markdown",
   "metadata": {},
   "source": [
    "### Get member tagged lines"
   ]
  },
  {
   "cell_type": "code",
   "execution_count": 36,
   "metadata": {
    "ExecuteTime": {
     "end_time": "2021-03-23T16:25:30.728814Z",
     "start_time": "2021-03-23T16:25:30.713130Z"
    }
   },
   "outputs": [],
   "source": [
    "def get_member_lines(lyric_url):\n",
    "    ##################\n",
    "    with urllib.request.urlopen(lyric_url) as response:\n",
    "        content = response.read()\n",
    "        \n",
    "    soup = BeautifulSoup(content)\n",
    "    print(lyric_url)\n",
    "    #get song title\n",
    "    #title = soup.find_all('h2',attrs = {'class':\"has-text-align-center\"})[0].text.replace(\" \",\"\")\n",
    "    #print(title)\n",
    "    #get color code members\n",
    "    try:\n",
    "        #M&M\n",
    "        member_colors_raw = soup.find_all('p',attrs = {'class':\"has-text-align-center\"})[1]\n",
    "    except Exception as e:\n",
    "        try:\n",
    "        #ICSM\n",
    "            member_colors_raw = [p for p in soup.find_all('p',attrs = {'style':\"text-align: center\"}) if \"Jihyo\" in str(p)][0]\n",
    "        except:\n",
    "        #all else:\n",
    "            member_colors_raw = [td for td in soup.find_all('td',attrs = {'style':\"text-align: center\"}) if \"Jihyo\" in str(td)][0]      \n",
    "        \n",
    "    #print(member_colors_raw)#.find_all('span'))\n",
    "    member_colors_dict = dict([(mc['style'].split(':')[1].strip(),mc.text)\\\n",
    "                      for mc in member_colors_raw.find_all('span')])\n",
    "    print(member_colors_dict)\n",
    "    \n",
    "    def find_member_color(x):\n",
    "        try:\n",
    "            return member_colors_dict[x]\n",
    "        except:\n",
    "            return ''\n",
    "    #get romanized color coded lyrics and color\n",
    "    #first table is romanized table\n",
    "    print()\n",
    "    try:\n",
    "        max_length_div = max([len(str(td)) for td in soup.find_all('div', attrs = {'class':\"wp-block-group\"})])\n",
    "        for n,td in enumerate(soup.find_all('div', attrs = {'class':\"wp-block-group\"})):\n",
    "            if (n==2)&(\"twice-i-can-t-stop-me\" in lyric_url):\n",
    "                lyrics_table = td\n",
    "            \n",
    "            elif (len(str(td))==max_length_div):\n",
    "                lyrics_table = td\n",
    "            \n",
    "    except:\n",
    "        max_length_div = max([len(str(td)) for td in soup.find_all('td')])\n",
    "        for td in soup.find_all('td'):\n",
    "            if len(str(td))==max_length_div:\n",
    "                lyrics_table = td\n",
    "    \n",
    "    \n",
    "    if \"wp-block-group__inner-container\" in str(lyrics_table):\n",
    "        lt = lyrics_table.find_all(\"div\", attrs = {'class':\"wp-block-group__inner-container\"})\n",
    "        lyrics_table = max(lt, key=len)\n",
    "   \n",
    "        \n",
    "    lyrics_raw = lyrics_table.find_all('span')\n",
    "    lyrics = [l.text for l in lyrics_raw]\n",
    "    member_tags = [l['style'].split(': ')[1] for l in lyrics_raw]\n",
    "    \n",
    "    #build dataframe\n",
    "    df = pd.DataFrame({'member':member_tags,\n",
    "                  'line':lyrics})\n",
    "    df['member'] = df['member'].apply(lambda x: find_member_color(x))\n",
    "    df= df[['line','member']]\n",
    "    return df"
   ]
  },
  {
   "cell_type": "code",
   "execution_count": 30,
   "metadata": {
    "ExecuteTime": {
     "end_time": "2021-03-23T15:02:55.361820Z",
     "start_time": "2021-03-23T15:02:55.356010Z"
    }
   },
   "outputs": [],
   "source": [
    "lyric_urls = ['https://colorcodedlyrics.com/2020/10/twice-i-can-t-stop-me',\\\n",
    "              'https://colorcodedlyrics.com/2018/07/twice-dance-night-away',\\\n",
    "             'https://colorcodedlyrics.com/2017/02/twice-knock-knock',\\\n",
    "             'https://colorcodedlyrics.com/2016/10/twice-tt',\n",
    "             'https://colorcodedlyrics.com/2017/10/twice-likey',\n",
    "             'https://colorcodedlyrics.com/2017/12/twice-heart-shaker',\\\n",
    "             'https://colorcodedlyrics.com/2015/10/twice-like-ooh-ahh-ooh-ahhhage',\\\n",
    "             'https://colorcodedlyrics.com/2016/04/twice-cheer-up',\\\n",
    "             'https://colorcodedlyrics.com/2017/05/twice-signal',\\\n",
    "             'https://colorcodedlyrics.com/2018/04/twice-what-is-love',\\\n",
    "             'https://colorcodedlyrics.com/2019/04/twice-fancy',\\\n",
    "             'https://colorcodedlyrics.com/2018/11/twice-yes-yes',\\\n",
    "              'https://colorcodedlyrics.com/2019/09/twice-feel-special',\\\n",
    "              'https://colorcodedlyrics.com/2020/06/twice-more-amp-more',\\\n",
    "              'https://colorcodedlyrics.com/2020/12/twice-cry-for-me'\n",
    "             ]\n",
    "song_names = [\"ICantStopMe\",\"DanceTheNightAway\",\"KnockKnock\",\"TT\",\"Likey\",\"HeartShaker\",\\\n",
    "            \"LikeOohAhh\",\"CheerUp\",\"Signal\",\"WhatIsLove\",\"Fancy\",\"YesOrYes\",\"FeelSpecial\",\"More&More\",\"CryForMe\"]"
   ]
  },
  {
   "cell_type": "code",
   "execution_count": 37,
   "metadata": {
    "ExecuteTime": {
     "end_time": "2021-03-23T16:25:34.524191Z",
     "start_time": "2021-03-23T16:25:32.842744Z"
    }
   },
   "outputs": [
    {
     "name": "stdout",
     "output_type": "stream",
     "text": [
      "https://colorcodedlyrics.com/2015/10/twice-like-ooh-ahh-ooh-ahhhage\n",
      "{'#00ccff': 'Nayeon', '#84cc00': 'Jeongyeon', '#ffb1b8': 'Momo', '#996de7': 'Sana', '#ffb74d': 'Jihyo', '#1af0af': 'Mina', '#ffe7ff': 'Dahyun', '#ff1744': 'Chaeyoung', '#396ad8': 'Tzuyu'}\n",
      "\n",
      "                                        line  member\n",
      "0     modu nareul gajigo maeil gaman an dujo  Nayeon\n",
      "1                       naega neomu yeppeujo    Momo\n",
      "2                   na ttaemune da himdeuljo    Momo\n",
      "3  eodil geotgo isseodo ppalgan badagingeojo  Nayeon\n",
      "4                    Red carpet gateun gibun    Sana\n"
     ]
    }
   ],
   "source": [
    "song_name='LikeOohAhh'\n",
    "lyric_url = 'https://colorcodedlyrics.com/2015/10/twice-like-ooh-ahh-ooh-ahhhage'\n",
    "df = get_member_lines(lyric_url)\n",
    "print(df.head())\n",
    "df.to_csv(\"data/processed/color_coded_lyrics/\"+song_name+\".csv\", index=False)"
   ]
  },
  {
   "cell_type": "code",
   "execution_count": 31,
   "metadata": {
    "ExecuteTime": {
     "end_time": "2021-03-23T15:03:37.871849Z",
     "start_time": "2021-03-23T15:03:12.972900Z"
    },
    "scrolled": true
   },
   "outputs": [
    {
     "name": "stdout",
     "output_type": "stream",
     "text": [
      "ICantStopMe\n",
      "https://colorcodedlyrics.com/2020/10/twice-i-can-t-stop-me\n",
      "{'#00ccff': 'Nayeon', '#84cc00': 'Jeongyeon', '#ffb1b8': 'Momo', '#996de7': 'Sana', '#ffb74d': 'Jihyo', '#1af0af': 'Mina', '#ffe7ff': 'Dahyun', '#ff1744': 'Chaeyoung', '#396ad8': 'Tzuyu'}\n",
      "\n",
      "                                       line  member\n",
      "0         allami ullyeodae Ring ring a ling  Nayeon\n",
      "1           seoroye nungiri daheul ttaemada  Nayeon\n",
      "2              almyeonseo bingbing doneunde    Mina\n",
      "3  jeomjeom dagagajana I know it’s too late    Mina\n",
      "4           maeumsogeuroneun da algo itjana    Sana\n",
      "DanceTheNightAway\n",
      "https://colorcodedlyrics.com/2018/07/twice-dance-night-away\n",
      "{'#00ccff': 'Nayeon', '#84cc00': 'Jeongyeon', '#ffb1b8': 'Momo', '#996de7': 'Sana', '#ffb74d': 'Jihyo', '#1af0af': 'Mina', '#ffe7ff': 'Dahyun', '#ff1744': 'Chaeyoung', '#396ad8': 'Tzuyu'}\n",
      "\n",
      "                            line  member\n",
      "0  Lalalalalalala lalalalalalala    Mina\n",
      "1  Lalalalalalala lalalalalalala    Mina\n",
      "2    You and me in the moonlight  Nayeon\n",
      "3  byeol kkot chukje yeollin bam  Nayeon\n",
      "4           pado sorireul teulgo    Sana\n",
      "KnockKnock\n",
      "https://colorcodedlyrics.com/2017/02/twice-knock-knock\n",
      "{'#00ccff': 'Nayeon', '#84cc00': 'Jeongyeon', '#ffb1b8': 'Momo', '#996de7': 'Sana', '#ffb74d': 'Jihyo', '#1af0af': 'Mina', '#ffe7ff': 'Dahyun', '#ff1744': 'Chaeyoung', '#396ad8': 'Tzuyu'}\n",
      "\n",
      "                            line     member\n",
      "0  yeoldushiga dwemyeon dacheoyo     Nayeon\n",
      "1   jogeumman seodulleo jullaeyo     Nayeon\n",
      "2        Knock knock knock knock  Chaeyoung\n",
      "3               knock on my door  Chaeyoung\n",
      "4        Knock knock knock knock  Chaeyoung\n",
      "TT\n",
      "https://colorcodedlyrics.com/2016/10/twice-tt\n",
      "{'#00ccff': 'Nayeon', '#84cc00': 'Jeongyeon', '#ffb1b8': 'Momo', '#996de7': 'Sana', '#ffb74d': 'Jihyo', '#1af0af': 'Mina', '#ffe7ff': 'Dahyun', '#ff1744': 'Chaeyoung', '#396ad8': 'Tzuyu'}\n",
      "\n",
      "                                    line  member\n",
      "0                    ireojido motaneunde  Nayeon\n",
      "1                      jeoreojido motane  Nayeon\n",
      "2        geujeo barabomyeo Ba-ba-ba-baby  Nayeon\n",
      "3  maeil sangsangman hae ireumgwa hamkke    Mina\n",
      "4               sseuk mareul nwanne Baby    Mina\n",
      "Likey\n",
      "https://colorcodedlyrics.com/2017/10/twice-likey\n",
      "{'#00ccff': 'Nayeon', '#84cc00': 'Jeongyeon', '#ffb1b8': 'Momo', '#996de7': 'Sana', '#ffb74d': 'Jihyo', '#1af0af': 'Mina', '#ffe7ff': 'Dahyun', '#ff1744': 'Chaeyoung', '#396ad8': 'Tzuyu'}\n",
      "\n",
      "                    line  member\n",
      "0     seollenda Me likey    Sana\n",
      "1   Me likey likey likey    Sana\n",
      "2   Me likey likey likey    Sana\n",
      "3   dugeun dugeun dugeun  Dahyun\n",
      "4               Me likey   Jihyo\n",
      "HeartShaker\n",
      "https://colorcodedlyrics.com/2017/12/twice-heart-shaker\n",
      "{'#00ccff': 'Nayeon', '#84cc00': 'Jeongyeon', '#ffb1b8': 'Momo', '#996de7': 'Sana', '#ffb74d': 'Jihyo', '#1af0af': 'Mina', '#ffe7ff': 'Dahyun', '#ff1744': 'Chaeyoung', '#396ad8': 'Tzuyu'}\n",
      "\n",
      "                                  line     member\n",
      "0                  Come and be my love  Chaeyoung\n",
      "1             Come and be my love baby  Chaeyoung\n",
      "2                  Come and be my love     Dahyun\n",
      "3             Come and be my love baby     Dahyun\n",
      "4  meonghani seoseo mak gomingomin hae     Nayeon\n",
      "LikeOohAhh\n",
      "https://colorcodedlyrics.com/2015/10/twice-like-ooh-ahh-ooh-ahhhage\n",
      "{'#00ccff': 'Nayeon', '#84cc00': 'Jeongyeon', '#ffb1b8': 'Momo', '#996de7': 'Sana', '#ffb74d': 'Jihyo', '#1af0af': 'Mina', '#ffe7ff': 'Dahyun', '#ff1744': 'Chaeyoung', '#396ad8': 'Tzuyu'}\n",
      "\n",
      "'#eeff00'\n",
      "CheerUp\n",
      "https://colorcodedlyrics.com/2016/04/twice-cheer-up\n",
      "{'#00ccff': 'Nayeon', '#84cc00': 'Jeongyeon', '#ffb1b8': 'Momo', '#996de7': 'Sana', '#ffb74d': 'Jihyo', '#1af0af': 'Mina', '#ffe7ff': 'Dahyun', '#ff1744': 'Chaeyoung', '#396ad8': 'Tzuyu'}\n",
      "\n",
      "                                    line  member\n",
      "0             maeil ullineun bel bel bel  Nayeon\n",
      "1           ijen nareul baeryeo hae jweo  Nayeon\n",
      "2            baeteori nangbihagin shireo  Nayeon\n",
      "3          jakkuman bwa jakkujakkuman wa    Mina\n",
      "4   jeonhwaga peong teojil kkeonman gata    Mina\n",
      "Signal\n",
      "https://colorcodedlyrics.com/2017/05/twice-signal\n",
      "{'#00ccff': 'Nayeon', '#84cc00': 'Jeongyeon', '#ffb1b8': 'Momo', '#996de7': 'Sana', '#ffb74d': 'Jihyo', '#1af0af': 'Mina', '#ffe7ff': 'Dahyun', '#ff1744': 'Chaeyoung', '#396ad8': 'Tzuyu'}\n",
      "\n",
      "                                                line     member\n",
      "0  Trying to let you know\\nSign-eul bonae Signal ...     Dahyun\n",
      "1  I must let you know\\nSign-eul bonae Signal bon...  Chaeyoung\n",
      "2                                     Sign-eul bonae     Dahyun\n",
      "3                                       Signal bonae  Chaeyoung\n",
      "4                                     Sign-eul bonae     Dahyun\n",
      "WhatIsLove\n",
      "https://colorcodedlyrics.com/2018/04/twice-what-is-love\n",
      "{'#00ccff': 'Nayeon', '#84cc00': 'Jeongyeon', '#ffb1b8': 'Momo', '#996de7': 'Sana', '#ffb74d': 'Jihyo', '#1af0af': 'Mina', '#ffe7ff': 'Dahyun', '#ff1744': 'Chaeyoung', '#396ad8': 'Tzuyu'}\n",
      "\n",
      "                                                line     member\n",
      "0  maeilgachi yeonghwa sogeseona\\nchaek sogeseona...     Nayeon\n",
      "1  nae ilcheoreom jakku gaseumi ttwieo\\ndugeundug...  Jeongyeon\n",
      "2  Ooh eonjengan naegedo\\nireon iri shiljero ireo...       Mina\n",
      "3         geuge eonjejjeumilkka? eotteon saramilkka?  Chaeyoung\n",
      "4                    satangcheoreom dalkomhadaneunde       Sana\n",
      "Fancy\n",
      "https://colorcodedlyrics.com/2019/04/twice-fancy\n",
      "{'#00ccff': 'Nayeon', '#84cc00': 'Jeongyeon', '#ffb1b8': 'Momo', '#996de7': 'Sana', '#ffb74d': 'Jihyo', '#1af0af': 'Mina', '#ffe7ff': 'Dahyun', '#ff1744': 'Chaeyoung', '#396ad8': 'Tzuyu'}\n",
      "\n",
      "                                                line     member\n",
      "0  jigeum haneul gureum saegeun Tropical yeah\\nje...     Nayeon\n",
      "1  Oh tell me I’m the only one babe\\nI fancy you,...       Mina\n",
      "2  It’s dangerous ttakkeumhae neon jangmi gata\\ng...  Jeongyeon\n",
      "3  deo sege kkok jaba Take my hand\\njom wiheomhal...       Momo\n",
      "4  dalkomhan chokollit aiseukeurimcheoreom\\nnogab...       Sana\n",
      "YesOrYes\n",
      "https://colorcodedlyrics.com/2018/11/twice-yes-yes\n",
      "{'#00ccff': 'Nayeon', '#84cc00': 'Jeongyeon', '#ffb1b8': 'Momo', '#996de7': 'Sana', '#ffb74d': 'Jihyo', '#1af0af': 'Mina', '#ffe7ff': 'Dahyun', '#ff1744': 'Chaeyoung', '#396ad8': 'Tzuyu'}\n",
      "\n",
      "                                       line member\n",
      "0                                   Hey boy   Mina\n",
      "1  Look, I’m gonna make this simple for you   Mina\n",
      "2          You got two choices… YES or YES?   Mina\n",
      "3                                      (Ah)  Tzuyu\n",
      "4                                        Ji  Jihyo\n",
      "FeelSpecial\n",
      "https://colorcodedlyrics.com/2019/09/twice-feel-special\n",
      "{'#00ccff': 'Nayeon', '#84cc00': 'Jeongyeon', '#ffb1b8': 'Momo', '#996de7': 'Sana', '#ffb74d': 'Jihyo', '#1af0af': 'Mina', '#ffe7ff': 'Dahyun', '#ff1744': 'Chaeyoung', '#396ad8': 'Tzuyu'}\n",
      "\n",
      "                                       line     member\n",
      "0                        geureon nari isseo  Chaeyoung\n",
      "1        gapjagi honjain geonman gateun nal  Chaeyoung\n",
      "2  eodil gado nae jariga anin geonman gatgo  Chaeyoung\n",
      "3                gogaen tteolgweojineun nal  Chaeyoung\n",
      "4                    geureol ttaemada naege      Tzuyu\n",
      "More&More\n",
      "https://colorcodedlyrics.com/2020/06/twice-more-amp-more\n",
      "{'#00ccff': 'Nayeon', '#84cc00': 'Jeongyeon', '#ffb1b8': 'Momo', '#996de7': 'Sana', '#ffb74d': 'Jihyo', '#1af0af': 'Mina', '#ffe7ff': 'Dahyun', '#ff1744': 'Chaeyoung', '#396ad8': 'Tzuyu'}\n",
      "\n",
      "list index out of range\n",
      "CryForMe\n",
      "https://colorcodedlyrics.com/2020/12/twice-cry-for-me\n",
      "{'#00ccff': 'Nayeon', '#84cc00': 'Jeongyeon', '#ffb1b8': 'Momo', '#996de7': 'Sana', '#ffb74d': 'Jihyo', '#1af0af': 'Mina', '#ffe7ff': 'Dahyun', '#ff1744': 'Chaeyoung', '#396ad8': 'Tzuyu'}\n",
      "\n",
      "                                       line     member\n",
      "0  I know gochyeo sseul gachido eoptan geol     Nayeon\n",
      "1          hajiman geunyeowa dalli nan neol     Nayeon\n",
      "2            shwipge nwajul mami eopgeodeun     Nayeon\n",
      "3                              Never let go  Chaeyoung\n",
      "4                         You don’t know me       Mina\n"
     ]
    }
   ],
   "source": [
    "for n,lyric_url in enumerate(lyric_urls):\n",
    "    print(song_names[n])\n",
    "    try:\n",
    "        df = get_member_lines(lyric_url)\n",
    "        print(df.head())\n",
    "        df.to_csv(\"data/processed/color_coded_lyrics/\"+song_names[n]+\".csv\", index=False)\n",
    "    except Exception as e:\n",
    "        print(e)"
   ]
  },
  {
   "cell_type": "code",
   "execution_count": null,
   "metadata": {},
   "outputs": [],
   "source": []
  },
  {
   "cell_type": "code",
   "execution_count": 367,
   "metadata": {
    "ExecuteTime": {
     "end_time": "2021-03-20T17:59:19.720667Z",
     "start_time": "2021-03-20T17:59:18.580884Z"
    }
   },
   "outputs": [
    {
     "name": "stdout",
     "output_type": "stream",
     "text": [
      "https://colorcodedlyrics.com/2020/12/twice-cry-for-me\n",
      "{'#00ccff': 'Nayeon', '#84cc00': 'Jeongyeon', '#ffb1b8': 'Momo', '#996de7': 'Sana', '#ffb74d': 'Jihyo', '#1af0af': 'Mina', '#ffe7ff': 'Dahyun', '#ff1744': 'Chaeyoung', '#396ad8': 'Tzuyu'}\n",
      "<div class=\"wp-block-group__inner-container\"><p><span style=\"color: #00ccff\">I know gochyeo sseul gachido eoptan geol</span><br/><span style=\"color: #00ccff\">hajiman geunyeowa dalli nan neol</span><br/><span style=\"color: #00ccff\">shwipge nwajul mami eopgeodeun</span> (<span style=\"color: #ff1744\">Never let go</span>)</p><p><span style=\"color: #1af0af\">You don’t know me</span><br/><span style=\"color: #1af0af\">L O V E or hatred</span><br/><span style=\"color: #1af0af\">ibyeol daeshin nan sunjinhan misoman</span><br/><span style=\"color: #1af0af\">oneuldo ne pume angillae</span></p><p><span style=\"color: #ffe7ff\">amugeotto moreuneun cheok</span><br/><span style=\"color: #ffb1b8\">Baby no more real love</span><br/><span style=\"color: #ffe7ff\">neoye gyeote isseojulge</span><br/><span style=\"color: #ffb1b8\">majimaken break your heart</span><br/><span style=\"color: #84cc00\">Bad boy bad boy</span><br/><span style=\"color: #84cc00\">yeah you really make me</span><br/><span style=\"color: #84cc00\">a mad girl mad girl</span></p><p><span style=\"color: #ffb74d\">I want you to cry, cry for me</span><br/><span style=\"color: #ffb74d\">naega ureotteon geotcheoreom Cry for me</span><br/><span style=\"color: #ffb74d\">Make your rain fall</span><br/><span style=\"color: #ffb74d\">Cry for me but</span><br/><span style=\"color: #ffb74d\">Again</span></p><p><span style=\"color: #00ccff\">jogeumsshik jogeumsshik tto ppajyeoga</span><br/><span style=\"color: #00ccff\">sarange nae gyeolshimi tto muneojyeoga</span><br/><span style=\"color: #00ccff\">yongseohal pinggyereul mandeureoga</span></p><p><span style=\"color: #396ad8\">I want you to</span><br/><span style=\"color: #396ad8\">I want you to</span><br/><span style=\"color: #396ad8\">I want you to</span><br/><span style=\"color: #396ad8\">Cry for me</span></p><p><span style=\"color: #996de7\">I don’t know neoran nom miweojil jul moreugo</span><br/><span style=\"color: #996de7\">chingudeulhanten tto neoreul gamssajuneun jung</span><br/><span style=\"color: #996de7\">baboga dwae beoryeossgun</span><br/><span style=\"color: #ff1744\">neo wae jakku nareul bomyeo unneunde</span><br/><span style=\"color: #ff1744\">ttak han beone nunmurimyeon dweneunde</span><br/><span style=\"color: #ffe7ff\">Cry for me, let me please forgive you</span></p><p><span style=\"color: #ffb1b8\">amugeotto moreuneun cheok</span><br/><span style=\"color: #ffe7ff\">Baby just like real love</span> (<span style=\"color: #00ccff\">real love</span>)<br/><span style=\"color: #ffb1b8\">majimak gihweya eoseo</span><br/>[<span style=\"color: #00ccff\">Na</span>/<span style=\"color: #ffe7ff\">Da</span>] boyeojweobwa your true love<br/><span style=\"color: #ffb74d\">Bad boy bad boy</span><br/><span style=\"color: #ffb74d\">yeah you really make me</span><br/>[<span style=\"color: #00ccff\">Na</span>/<span style=\"color: #ffb74d\">Ji</span>] a sad girl sad girl (<span style=\"color: #ffb74d\">whoa</span>)</p><p><span style=\"color: #84cc00\">I want you to cry, cry for me</span> (<span style=\"color: #00ccff\">me</span>)<br/><span style=\"color: #84cc00\">naega ureotteon geotcheoreom Cry for me</span><br/><span style=\"color: #84cc00\">Make your rain fall</span><br/><span style=\"color: #84cc00\">Cry for me</span> (<span style=\"color: #1af0af\">me, yeah</span>) <span style=\"color: #84cc00\">but</span><br/><span style=\"color: #84cc00\">Again</span></p><p><span style=\"color: #00ccff\">jogeumsshik jogeumsshik tto ppajyeoga</span><br/><span style=\"color: #00ccff\">sarange nae gyeolshimi tto muneojyeoga</span><br/><span style=\"color: #00ccff\">yongseohal pinggyereul mandeureoga</span></p><p><span style=\"color: #996de7\">I want you to</span><br/><span style=\"color: #996de7\">I want you to</span><br/><span style=\"color: #996de7\">I want you to</span><br/><span style=\"color: #996de7\">Cry for me</span></p><p><span style=\"color: #1af0af\">sarangiran ge neomu dogae</span><br/><span style=\"color: #1af0af\">miun maeumdo da nogabeorige hae</span><br/><span style=\"color: #396ad8\">tto dashi weonhae neol nae gyeote yeah yeah</span></p><p><span style=\"color: #00ccff\">I want you to cry, cry for me</span><br/><span style=\"color: #00ccff\">neo yeongirado hae ppalli Cry for me</span><br/><span style=\"color: #00ccff\">Make your rain fall</span><br/><span style=\"color: #00ccff\">fall and fall now</span></p><p><span style=\"color: #84cc00\">I want you to cry, cry for me</span> (<span style=\"color: #00ccff\">me</span>)<br/>[<span style=\"color: #00ccff\">Na</span>/<span style=\"color: #84cc00\">Jeong</span>] <span style=\"color: #84cc00\">naega ureotteon geotcheoreom </span>Cry for me<br/><span style=\"color: #84cc00\">Make your rain fall</span><br/><span style=\"color: #84cc00\">Cry for me</span> (<span style=\"color: #00ccff\">me</span>)<span style=\"color: #84cc00\"> but</span><br/><span style=\"color: #84cc00\">Again</span></p><p><span style=\"color: #ffb74d\">jogeumsshik jogeumsshik tto ppajyeoga</span><br/><span style=\"color: #ffb74d\">sarange nae gyeolshimi tto muneojyeoga</span><br/><span style=\"color: #ffb74d\">yongseohal pinggyereul mandeureoga</span><br/><span style=\"color: #ff1744\">I want you to</span><br/><span style=\"color: #ff1744\">I want you to</span><br/><span style=\"color: #ff1744\">I want you to</span></p><p><span style=\"color: #ff1744\">Die for me</span></p></div>\n"
     ]
    },
    {
     "data": {
      "text/html": [
       "<div>\n",
       "<style scoped>\n",
       "    .dataframe tbody tr th:only-of-type {\n",
       "        vertical-align: middle;\n",
       "    }\n",
       "\n",
       "    .dataframe tbody tr th {\n",
       "        vertical-align: top;\n",
       "    }\n",
       "\n",
       "    .dataframe thead th {\n",
       "        text-align: right;\n",
       "    }\n",
       "</style>\n",
       "<table border=\"1\" class=\"dataframe\">\n",
       "  <thead>\n",
       "    <tr style=\"text-align: right;\">\n",
       "      <th></th>\n",
       "      <th>member</th>\n",
       "      <th>line</th>\n",
       "    </tr>\n",
       "  </thead>\n",
       "  <tbody>\n",
       "    <tr>\n",
       "      <th>0</th>\n",
       "      <td>Nayeon</td>\n",
       "      <td>I know gochyeo sseul gachido eoptan geol</td>\n",
       "    </tr>\n",
       "    <tr>\n",
       "      <th>1</th>\n",
       "      <td>Nayeon</td>\n",
       "      <td>hajiman geunyeowa dalli nan neol</td>\n",
       "    </tr>\n",
       "    <tr>\n",
       "      <th>2</th>\n",
       "      <td>Nayeon</td>\n",
       "      <td>shwipge nwajul mami eopgeodeun</td>\n",
       "    </tr>\n",
       "    <tr>\n",
       "      <th>3</th>\n",
       "      <td>Chaeyoung</td>\n",
       "      <td>Never let go</td>\n",
       "    </tr>\n",
       "    <tr>\n",
       "      <th>4</th>\n",
       "      <td>Mina</td>\n",
       "      <td>You don’t know me</td>\n",
       "    </tr>\n",
       "    <tr>\n",
       "      <th>...</th>\n",
       "      <td>...</td>\n",
       "      <td>...</td>\n",
       "    </tr>\n",
       "    <tr>\n",
       "      <th>78</th>\n",
       "      <td>Jihyo</td>\n",
       "      <td>yongseohal pinggyereul mandeureoga</td>\n",
       "    </tr>\n",
       "    <tr>\n",
       "      <th>79</th>\n",
       "      <td>Chaeyoung</td>\n",
       "      <td>I want you to</td>\n",
       "    </tr>\n",
       "    <tr>\n",
       "      <th>80</th>\n",
       "      <td>Chaeyoung</td>\n",
       "      <td>I want you to</td>\n",
       "    </tr>\n",
       "    <tr>\n",
       "      <th>81</th>\n",
       "      <td>Chaeyoung</td>\n",
       "      <td>I want you to</td>\n",
       "    </tr>\n",
       "    <tr>\n",
       "      <th>82</th>\n",
       "      <td>Chaeyoung</td>\n",
       "      <td>Die for me</td>\n",
       "    </tr>\n",
       "  </tbody>\n",
       "</table>\n",
       "<p>83 rows × 2 columns</p>\n",
       "</div>"
      ],
      "text/plain": [
       "       member                                      line\n",
       "0      Nayeon  I know gochyeo sseul gachido eoptan geol\n",
       "1      Nayeon          hajiman geunyeowa dalli nan neol\n",
       "2      Nayeon            shwipge nwajul mami eopgeodeun\n",
       "3   Chaeyoung                              Never let go\n",
       "4        Mina                         You don’t know me\n",
       "..        ...                                       ...\n",
       "78      Jihyo        yongseohal pinggyereul mandeureoga\n",
       "79  Chaeyoung                             I want you to\n",
       "80  Chaeyoung                             I want you to\n",
       "81  Chaeyoung                             I want you to\n",
       "82  Chaeyoung                                Die for me\n",
       "\n",
       "[83 rows x 2 columns]"
      ]
     },
     "execution_count": 367,
     "metadata": {},
     "output_type": "execute_result"
    }
   ],
   "source": [
    "lyric_url = 'https://colorcodedlyrics.com/2020/12/twice-cry-for-me'\n",
    "df = get_member_lines(lyric_url)\n",
    "df"
   ]
  },
  {
   "cell_type": "code",
   "execution_count": null,
   "metadata": {},
   "outputs": [],
   "source": [
    "lyric_url = 'https://colorcodedlyrics.com/2018/07/twice-dance-night-away'\n",
    "df = get_member_lines(lyric_url)\n",
    "print(df.head())\n",
    "df.to_csv(\"data/processed/color_coded_lyrics/DanceTheNightAway.csv\", index=False)"
   ]
  },
  {
   "cell_type": "code",
   "execution_count": 295,
   "metadata": {
    "ExecuteTime": {
     "end_time": "2021-03-20T17:22:22.166643Z",
     "start_time": "2021-03-20T17:22:20.978988Z"
    }
   },
   "outputs": [
    {
     "name": "stdout",
     "output_type": "stream",
     "text": [
      "{'#00ccff': 'Nayeon', '#84cc00': 'Jeongyeon', '#ffb1b8': 'Momo', '#996de7': 'Sana', '#ffb74d': 'Jihyo', '#1af0af': 'Mina', '#ffe7ff': 'Dahyun', '#ff1744': 'Chaeyoung', '#396ad8': 'Tzuyu'}\n",
      "   member                           line\n",
      "0    Mina  Lalalalalalala lalalalalalala\n",
      "1    Mina  Lalalalalalala lalalalalalala\n",
      "2  Nayeon    You and me in the moonlight\n",
      "3  Nayeon  byeol kkot chukje yeollin bam\n",
      "4    Sana           pado sorireul teulgo\n"
     ]
    }
   ],
   "source": [
    "lyric_url = 'https://colorcodedlyrics.com/2018/07/twice-dance-night-away'\n",
    "df = get_member_lines(lyric_url)\n",
    "print(df.head())\n",
    "df.to_csv(\"data/processed/color_coded_lyrics/DanceTheNightAway.csv\", index=False)"
   ]
  },
  {
   "cell_type": "code",
   "execution_count": 250,
   "metadata": {
    "ExecuteTime": {
     "end_time": "2021-03-20T17:03:17.414844Z",
     "start_time": "2021-03-20T17:03:16.388273Z"
    }
   },
   "outputs": [
    {
     "name": "stdout",
     "output_type": "stream",
     "text": [
      "ICAN’TSTOPME\n",
      "   member                                      line\n",
      "0  Nayeon         allami ullyeodae Ring ring a ling\n",
      "1  Nayeon           seoroye nungiri daheul ttaemada\n",
      "2    Mina              almyeonseo bingbing doneunde\n",
      "3    Mina  jeomjeom dagagajana I know it’s too late\n",
      "4    Sana           maeumsogeuroneun da algo itjana\n"
     ]
    }
   ],
   "source": [
    "lyric_url = 'https://colorcodedlyrics.com/2020/10/twice-i-can-t-stop-me'\n",
    "df = get_member_lines(lyric_url)\n",
    "print(df.head())\n",
    "df.to_csv(\"data/processed/color_coded_lyrics/ICantStopMe.csv\", index=False)"
   ]
  },
  {
   "cell_type": "code",
   "execution_count": 249,
   "metadata": {
    "ExecuteTime": {
     "end_time": "2021-03-20T17:03:08.846849Z",
     "start_time": "2021-03-20T17:03:07.625479Z"
    }
   },
   "outputs": [
    {
     "name": "stdout",
     "output_type": "stream",
     "text": [
      "MORE&MORE\n",
      "   member                                               line\n",
      "0  Nayeon                                   I know I want it\n",
      "1  Nayeon                   ibe bareun sorin ije geumanhalge\n",
      "2  Nayeon                      Cause I deserve it deserve it\n",
      "3    Mina  hokshi jamkkan naega miweojideorado geokjeong ...\n",
      "4    Mina                        Cause I know you I know you\n"
     ]
    }
   ],
   "source": [
    "lyric_url = 'https://colorcodedlyrics.com/2020/06/twice-more-amp-more'\n",
    "df = get_member_lines(lyric_url)\n",
    "print(df.head())\n",
    "df.to_csv(\"data/processed/color_coded_lyrics/More&More.csv\", index=False)"
   ]
  },
  {
   "cell_type": "code",
   "execution_count": null,
   "metadata": {},
   "outputs": [],
   "source": []
  },
  {
   "cell_type": "code",
   "execution_count": null,
   "metadata": {},
   "outputs": [],
   "source": []
  },
  {
   "cell_type": "code",
   "execution_count": 187,
   "metadata": {
    "ExecuteTime": {
     "end_time": "2021-03-20T16:27:57.028741Z",
     "start_time": "2021-03-20T16:27:55.864800Z"
    }
   },
   "outputs": [
    {
     "name": "stdout",
     "output_type": "stream",
     "text": [
      "MORE&MORE\n"
     ]
    },
    {
     "data": {
      "text/html": [
       "<div>\n",
       "<style scoped>\n",
       "    .dataframe tbody tr th:only-of-type {\n",
       "        vertical-align: middle;\n",
       "    }\n",
       "\n",
       "    .dataframe tbody tr th {\n",
       "        vertical-align: top;\n",
       "    }\n",
       "\n",
       "    .dataframe thead th {\n",
       "        text-align: right;\n",
       "    }\n",
       "</style>\n",
       "<table border=\"1\" class=\"dataframe\">\n",
       "  <thead>\n",
       "    <tr style=\"text-align: right;\">\n",
       "      <th></th>\n",
       "      <th>member</th>\n",
       "      <th>line</th>\n",
       "    </tr>\n",
       "  </thead>\n",
       "  <tbody>\n",
       "    <tr>\n",
       "      <th>0</th>\n",
       "      <td>Nayeon</td>\n",
       "      <td>I know I want it</td>\n",
       "    </tr>\n",
       "    <tr>\n",
       "      <th>1</th>\n",
       "      <td>Nayeon</td>\n",
       "      <td>ibe bareun sorin ije geumanhalge</td>\n",
       "    </tr>\n",
       "    <tr>\n",
       "      <th>2</th>\n",
       "      <td>Nayeon</td>\n",
       "      <td>Cause I deserve it deserve it</td>\n",
       "    </tr>\n",
       "    <tr>\n",
       "      <th>3</th>\n",
       "      <td>Mina</td>\n",
       "      <td>hokshi jamkkan naega miweojideorado geokjeong ...</td>\n",
       "    </tr>\n",
       "    <tr>\n",
       "      <th>4</th>\n",
       "      <td>Mina</td>\n",
       "      <td>Cause I know you I know you</td>\n",
       "    </tr>\n",
       "    <tr>\n",
       "      <th>...</th>\n",
       "      <td>...</td>\n",
       "      <td>...</td>\n",
       "    </tr>\n",
       "    <tr>\n",
       "      <th>56</th>\n",
       "      <td>Tzuyu</td>\n",
       "      <td>geureoni han beon deo</td>\n",
       "    </tr>\n",
       "    <tr>\n",
       "      <th>57</th>\n",
       "      <td>Nayeon</td>\n",
       "      <td>geureoni han beon deo</td>\n",
       "    </tr>\n",
       "    <tr>\n",
       "      <th>58</th>\n",
       "      <td>Mina</td>\n",
       "      <td>meomchugiga shireo</td>\n",
       "    </tr>\n",
       "    <tr>\n",
       "      <th>59</th>\n",
       "      <td>Nayeon</td>\n",
       "      <td>More and more</td>\n",
       "    </tr>\n",
       "    <tr>\n",
       "      <th>60</th>\n",
       "      <td>Nayeon</td>\n",
       "      <td>geureoni han beon deo</td>\n",
       "    </tr>\n",
       "  </tbody>\n",
       "</table>\n",
       "<p>61 rows × 2 columns</p>\n",
       "</div>"
      ],
      "text/plain": [
       "    member                                               line\n",
       "0   Nayeon                                   I know I want it\n",
       "1   Nayeon                   ibe bareun sorin ije geumanhalge\n",
       "2   Nayeon                      Cause I deserve it deserve it\n",
       "3     Mina  hokshi jamkkan naega miweojideorado geokjeong ...\n",
       "4     Mina                        Cause I know you I know you\n",
       "..     ...                                                ...\n",
       "56   Tzuyu                             geureoni han beon deo \n",
       "57  Nayeon                              geureoni han beon deo\n",
       "58    Mina                                meomchugiga shireo \n",
       "59  Nayeon                                      More and more\n",
       "60  Nayeon                              geureoni han beon deo\n",
       "\n",
       "[61 rows x 2 columns]"
      ]
     },
     "execution_count": 187,
     "metadata": {},
     "output_type": "execute_result"
    }
   ],
   "source": [
    "lyric_url = 'https://colorcodedlyrics.com/2020/06/twice-more-amp-more'\n",
    "get_member_lines(lyric_url)"
   ]
  },
  {
   "cell_type": "code",
   "execution_count": 281,
   "metadata": {
    "ExecuteTime": {
     "end_time": "2021-03-20T17:18:07.682749Z",
     "start_time": "2021-03-20T17:18:06.611309Z"
    }
   },
   "outputs": [],
   "source": [
    "lyric_url = 'https://colorcodedlyrics.com/2018/07/twice-dance-night-away'\n",
    "##################\n",
    "with urllib.request.urlopen(lyric_url) as response:\n",
    "    content = response.read()\n",
    "soup = BeautifulSoup(content)"
   ]
  },
  {
   "cell_type": "code",
   "execution_count": 285,
   "metadata": {
    "ExecuteTime": {
     "end_time": "2021-03-20T17:18:42.869687Z",
     "start_time": "2021-03-20T17:18:42.853399Z"
    }
   },
   "outputs": [
    {
     "data": {
      "text/plain": [
       "True"
      ]
     },
     "execution_count": 285,
     "metadata": {},
     "output_type": "execute_result"
    }
   ],
   "source": [
    "\"Jihyo\" in str(soup.find_all('td',attrs = {'style':\"text-align: center\"})[0])"
   ]
  },
  {
   "cell_type": "code",
   "execution_count": 253,
   "metadata": {
    "ExecuteTime": {
     "end_time": "2021-03-20T17:05:50.424212Z",
     "start_time": "2021-03-20T17:05:50.410254Z"
    }
   },
   "outputs": [
    {
     "data": {
      "text/plain": [
       "[<td style=\"text-align: center\"><span style=\"color: #00ccff\">Nayeon</span>, <span style=\"color: #84cc00\">Jeongyeon</span>, <span style=\"color: #ffb1b8\">Momo</span>,<br/>\n",
       " <span style=\"color: #996de7\">Sana</span>, <span style=\"color: #ffb74d\">Jihyo</span>, <span style=\"color: #1af0af\">Mina</span>,<br/>\n",
       " <span style=\"color: #ffe7ff\">Dahyun</span>, <span style=\"color: #ff1744\">Chaeyoung</span>, <span style=\"color: #396ad8\">Tzuyu</span></td>]"
      ]
     },
     "execution_count": 253,
     "metadata": {},
     "output_type": "execute_result"
    }
   ],
   "source": [
    "member_colors_raw = soup.find_all('td',attrs = {'style':\"text-align: center\"})\n",
    "#member_colors_dict = dict([(mc['style'].split(':')[1],mc.text)\\\n",
    "#                      for mc in member_colors_raw.find_all('span')])\n",
    "member_colors_raw"
   ]
  },
  {
   "cell_type": "code",
   "execution_count": 293,
   "metadata": {
    "ExecuteTime": {
     "end_time": "2021-03-20T17:21:45.874875Z",
     "start_time": "2021-03-20T17:21:45.864405Z"
    }
   },
   "outputs": [
    {
     "data": {
      "text/plain": [
       "21"
      ]
     },
     "execution_count": 293,
     "metadata": {},
     "output_type": "execute_result"
    }
   ],
   "source": [
    "max_length_div = max([len(td) for td in soup.find_all('td')])\n"
   ]
  },
  {
   "cell_type": "code",
   "execution_count": null,
   "metadata": {},
   "outputs": [],
   "source": []
  },
  {
   "cell_type": "code",
   "execution_count": 206,
   "metadata": {
    "ExecuteTime": {
     "end_time": "2021-03-20T16:46:25.090803Z",
     "start_time": "2021-03-20T16:46:25.074441Z"
    }
   },
   "outputs": [
    {
     "ename": "IndexError",
     "evalue": "list index out of range",
     "output_type": "error",
     "traceback": [
      "\u001b[0;31m---------------------------------------------------------------------------\u001b[0m",
      "\u001b[0;31mIndexError\u001b[0m                                Traceback (most recent call last)",
      "\u001b[0;32m<ipython-input-206-f7a49add78b4>\u001b[0m in \u001b[0;36m<module>\u001b[0;34m\u001b[0m\n\u001b[0;32m----> 1\u001b[0;31m \u001b[0mmember_colors_raw\u001b[0m \u001b[0;34m=\u001b[0m \u001b[0msoup\u001b[0m\u001b[0;34m.\u001b[0m\u001b[0mfind_all\u001b[0m\u001b[0;34m(\u001b[0m\u001b[0;34m'p'\u001b[0m\u001b[0;34m,\u001b[0m\u001b[0mattrs\u001b[0m \u001b[0;34m=\u001b[0m \u001b[0;34m{\u001b[0m\u001b[0;34m'class'\u001b[0m\u001b[0;34m:\u001b[0m\u001b[0;34m\"has-text-align-center\"\u001b[0m\u001b[0;34m}\u001b[0m\u001b[0;34m)\u001b[0m\u001b[0;34m[\u001b[0m\u001b[0;36m1\u001b[0m\u001b[0;34m]\u001b[0m\u001b[0;34m\u001b[0m\u001b[0;34m\u001b[0m\u001b[0m\n\u001b[0m\u001b[1;32m      2\u001b[0m member_colors_dict = dict([(mc['style'].split(':')[1],mc.text)\\\n\u001b[1;32m      3\u001b[0m                       for mc in member_colors_raw.find_all('span')])\n\u001b[1;32m      4\u001b[0m \u001b[0mmember_colors_dict\u001b[0m\u001b[0;34m\u001b[0m\u001b[0;34m\u001b[0m\u001b[0m\n",
      "\u001b[0;31mIndexError\u001b[0m: list index out of range"
     ]
    }
   ],
   "source": [
    "member_colors_raw = soup.find_all('',attrs = {'class':\"has-text-align-center\"})[1]\n",
    "member_colors_dict = dict([(mc['style'].split(':')[1],mc.text)\\\n",
    "                      for mc in member_colors_raw.find_all('span')])\n",
    "member_colors_dict"
   ]
  },
  {
   "cell_type": "code",
   "execution_count": 220,
   "metadata": {
    "ExecuteTime": {
     "end_time": "2021-03-20T16:52:15.803728Z",
     "start_time": "2021-03-20T16:52:15.789793Z"
    }
   },
   "outputs": [
    {
     "data": {
      "text/plain": [
       "['#00ccff',\n",
       " '#00ccff',\n",
       " '#1af0af',\n",
       " '#1af0af',\n",
       " '#996de7',\n",
       " '#996de7',\n",
       " '#ff1744',\n",
       " '#ff1744',\n",
       " '#84cc00',\n",
       " '#84cc00',\n",
       " '#ffb74d',\n",
       " '#ffb74d',\n",
       " '#ffb74d',\n",
       " '#ffb1b8',\n",
       " '#00ccff',\n",
       " '#00ccff',\n",
       " '#00ccff',\n",
       " '#ffe7ff',\n",
       " '#396ad8',\n",
       " '#ffb1b8',\n",
       " '#ffe7ff',\n",
       " '#ffb1b8',\n",
       " '#84cc00',\n",
       " '#ffb74d',\n",
       " '#396ad8',\n",
       " '#396ad8',\n",
       " '#996de7',\n",
       " '#996de7',\n",
       " '#ff1744',\n",
       " '#ff1744',\n",
       " '#00ccff',\n",
       " '#00ccff',\n",
       " '#00ccff',\n",
       " '#ffe7ff',\n",
       " '#ffb74d',\n",
       " '#00ccff',\n",
       " '#ffb74d',\n",
       " '#ffb74d',\n",
       " '#1af0af',\n",
       " '#ff1744',\n",
       " '#ff1744',\n",
       " '#ffe7ff',\n",
       " '#ffe7ff',\n",
       " '#ffb1b8',\n",
       " '#ffb1b8',\n",
       " '#ffe7ff',\n",
       " '#ffe7ff',\n",
       " '#1af0af',\n",
       " '#996de7',\n",
       " '#396ad8',\n",
       " '#00ccff',\n",
       " '#84cc00',\n",
       " '#84cc00',\n",
       " '#84cc00',\n",
       " '#ff1744',\n",
       " '#00ccff',\n",
       " '#00ccff',\n",
       " '#00ccff',\n",
       " '#996de7',\n",
       " '#396ad8']"
      ]
     },
     "execution_count": 220,
     "metadata": {},
     "output_type": "execute_result"
    }
   ],
   "source": [
    "lyric_table = soup.find_all('div', attrs = {'class':\"wp-block-group\"})[2]\n",
    "lyrics_raw = lyric_table.find_all('span')\n",
    "lyrics = [l.text for l in lyrics_raw]\n",
    "member_tags = [l['style'].split(': ')[1] for l in lyrics_raw]\n"
   ]
  },
  {
   "cell_type": "code",
   "execution_count": 173,
   "metadata": {
    "ExecuteTime": {
     "end_time": "2021-03-20T16:16:09.004876Z",
     "start_time": "2021-03-20T16:16:08.999390Z"
    }
   },
   "outputs": [],
   "source": [
    "#romanized lyrics\n",
    "lyric_table = soup.find_all('td')[0]\n",
    "lyrics_raw = lyric_table.find_all('span')\n",
    "lyrics = [l.text for l in lyrics_raw]\n",
    "member_tags = [l['style'].split(': ')[1] for l in lyrics_raw]"
   ]
  },
  {
   "cell_type": "code",
   "execution_count": 176,
   "metadata": {
    "ExecuteTime": {
     "end_time": "2021-03-20T16:16:47.816956Z",
     "start_time": "2021-03-20T16:16:47.800371Z"
    }
   },
   "outputs": [
    {
     "data": {
      "text/html": [
       "<div>\n",
       "<style scoped>\n",
       "    .dataframe tbody tr th:only-of-type {\n",
       "        vertical-align: middle;\n",
       "    }\n",
       "\n",
       "    .dataframe tbody tr th {\n",
       "        vertical-align: top;\n",
       "    }\n",
       "\n",
       "    .dataframe thead th {\n",
       "        text-align: right;\n",
       "    }\n",
       "</style>\n",
       "<table border=\"1\" class=\"dataframe\">\n",
       "  <thead>\n",
       "    <tr style=\"text-align: right;\">\n",
       "      <th></th>\n",
       "      <th>member</th>\n",
       "      <th>line</th>\n",
       "    </tr>\n",
       "  </thead>\n",
       "  <tbody>\n",
       "    <tr>\n",
       "      <th>0</th>\n",
       "      <td>Nayeon</td>\n",
       "      <td>I know I want it</td>\n",
       "    </tr>\n",
       "    <tr>\n",
       "      <th>1</th>\n",
       "      <td>Nayeon</td>\n",
       "      <td>ibe bareun sorin ije geumanhalge</td>\n",
       "    </tr>\n",
       "    <tr>\n",
       "      <th>2</th>\n",
       "      <td>Nayeon</td>\n",
       "      <td>Cause I deserve it deserve it</td>\n",
       "    </tr>\n",
       "    <tr>\n",
       "      <th>3</th>\n",
       "      <td>Mina</td>\n",
       "      <td>hokshi jamkkan naega miweojideorado geokjeong ...</td>\n",
       "    </tr>\n",
       "    <tr>\n",
       "      <th>4</th>\n",
       "      <td>Mina</td>\n",
       "      <td>Cause I know you I know you</td>\n",
       "    </tr>\n",
       "    <tr>\n",
       "      <th>...</th>\n",
       "      <td>...</td>\n",
       "      <td>...</td>\n",
       "    </tr>\n",
       "    <tr>\n",
       "      <th>56</th>\n",
       "      <td>Tzuyu</td>\n",
       "      <td>geureoni han beon deo</td>\n",
       "    </tr>\n",
       "    <tr>\n",
       "      <th>57</th>\n",
       "      <td>Nayeon</td>\n",
       "      <td>geureoni han beon deo</td>\n",
       "    </tr>\n",
       "    <tr>\n",
       "      <th>58</th>\n",
       "      <td>Mina</td>\n",
       "      <td>meomchugiga shireo</td>\n",
       "    </tr>\n",
       "    <tr>\n",
       "      <th>59</th>\n",
       "      <td>Nayeon</td>\n",
       "      <td>More and more</td>\n",
       "    </tr>\n",
       "    <tr>\n",
       "      <th>60</th>\n",
       "      <td>Nayeon</td>\n",
       "      <td>geureoni han beon deo</td>\n",
       "    </tr>\n",
       "  </tbody>\n",
       "</table>\n",
       "<p>61 rows × 2 columns</p>\n",
       "</div>"
      ],
      "text/plain": [
       "    member                                               line\n",
       "0   Nayeon                                   I know I want it\n",
       "1   Nayeon                   ibe bareun sorin ije geumanhalge\n",
       "2   Nayeon                      Cause I deserve it deserve it\n",
       "3     Mina  hokshi jamkkan naega miweojideorado geokjeong ...\n",
       "4     Mina                        Cause I know you I know you\n",
       "..     ...                                                ...\n",
       "56   Tzuyu                             geureoni han beon deo \n",
       "57  Nayeon                              geureoni han beon deo\n",
       "58    Mina                                meomchugiga shireo \n",
       "59  Nayeon                                      More and more\n",
       "60  Nayeon                              geureoni han beon deo\n",
       "\n",
       "[61 rows x 2 columns]"
      ]
     },
     "execution_count": 176,
     "metadata": {},
     "output_type": "execute_result"
    }
   ],
   "source": [
    "df = pd.DataFrame({'member':member_tags,\n",
    "                  'line':lyrics})\n",
    "df['member'] = df['member'].apply(lambda x: member_colors_dict[x])\n",
    "df"
   ]
  },
  {
   "cell_type": "code",
   "execution_count": null,
   "metadata": {},
   "outputs": [],
   "source": []
  },
  {
   "cell_type": "code",
   "execution_count": null,
   "metadata": {
    "ExecuteTime": {
     "end_time": "2021-03-20T09:46:54.346835Z",
     "start_time": "2021-03-20T09:46:54.334504Z"
    }
   },
   "outputs": [],
   "source": [
    "sub"
   ]
  },
  {
   "cell_type": "code",
   "execution_count": null,
   "metadata": {
    "ExecuteTime": {
     "end_time": "2021-03-20T11:16:39.910505Z",
     "start_time": "2021-03-20T11:16:39.894950Z"
    },
    "scrolled": true
   },
   "outputs": [],
   "source": [
    "re_pattern = r'[0-9]{2}:[0-9]{2}:[0-9]{2},[0-9]{3} -->'\n",
    "regex = re.compile(re_pattern)\n",
    "# Get start times\n",
    "times = list(filter(regex.search, sub))\n",
    "start_times = [time.split(' ')[0] for time in times]    \n",
    "end_times = [time.split(' ')[2].strip('\\n') for time in times]   \n",
    "list(zip(start_times,end_times))"
   ]
  },
  {
   "cell_type": "code",
   "execution_count": null,
   "metadata": {
    "ExecuteTime": {
     "end_time": "2021-03-20T11:16:40.461699Z",
     "start_time": "2021-03-20T11:16:40.446979Z"
    },
    "scrolled": true
   },
   "outputs": [],
   "source": [
    "lines = [[]]\n",
    "for sentence in sub:\n",
    "    if re.match(re_pattern, sentence):\n",
    "        lines[-1].pop()\n",
    "        lines.append([])\n",
    "    else:\n",
    "        clean_line = re.sub(\"[\\(\\[].*?[\\)\\]],\", \"\", sentence.strip())\n",
    "        lines[-1].append(clean_line)\n",
    "lines = lines[1:]   \n",
    "lines = [x[0] for x in lines]\n",
    "lines"
   ]
  },
  {
   "cell_type": "code",
   "execution_count": null,
   "metadata": {
    "ExecuteTime": {
     "end_time": "2021-03-20T11:16:45.879232Z",
     "start_time": "2021-03-20T11:16:45.845497Z"
    }
   },
   "outputs": [],
   "source": [
    "df = pd.DataFrame(list(zip(start_times, end_times, lines)),\\\n",
    "                  columns=['start_time','end_time','lyric'])\n",
    "df"
   ]
  },
  {
   "cell_type": "code",
   "execution_count": null,
   "metadata": {
    "ExecuteTime": {
     "end_time": "2021-03-20T15:06:29.055170Z",
     "start_time": "2021-03-20T15:06:29.004951Z"
    }
   },
   "outputs": [],
   "source": [
    "df['duration'] = pd.to_datetime(df['end_time'])-pd.to_datetime(df['start_time']) \n",
    "df['duration'] = df['duration']/ np.timedelta64(1, 's')\n",
    "df"
   ]
  },
  {
   "cell_type": "code",
   "execution_count": null,
   "metadata": {
    "ExecuteTime": {
     "end_time": "2021-03-20T14:59:53.710160Z",
     "start_time": "2021-03-20T14:59:53.695399Z"
    }
   },
   "outputs": [],
   "source": [
    "df['duration'].values[0].item().total_seconds()"
   ]
  },
  {
   "cell_type": "code",
   "execution_count": null,
   "metadata": {},
   "outputs": [],
   "source": []
  }
 ],
 "metadata": {
  "kernelspec": {
   "display_name": "Python 3",
   "language": "python",
   "name": "python3"
  },
  "language_info": {
   "codemirror_mode": {
    "name": "ipython",
    "version": 3
   },
   "file_extension": ".py",
   "mimetype": "text/x-python",
   "name": "python",
   "nbconvert_exporter": "python",
   "pygments_lexer": "ipython3",
   "version": "3.8.5"
  }
 },
 "nbformat": 4,
 "nbformat_minor": 4
}
